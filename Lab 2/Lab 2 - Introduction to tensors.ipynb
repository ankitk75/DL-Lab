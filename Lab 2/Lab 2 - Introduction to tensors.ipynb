{
 "cells": [
  {
   "cell_type": "markdown",
   "id": "65736250-4a63-4e48-ac52-ec23dd7af0dd",
   "metadata": {},
   "source": [
    "# Introduction to tensors"
   ]
  },
  {
   "cell_type": "markdown",
   "id": "fd244e4f-0395-4655-9e03-b98c0c3423ba",
   "metadata": {},
   "source": [
    "### Example"
   ]
  },
  {
   "cell_type": "code",
   "execution_count": 69,
   "id": "39c12254-4a5c-49d5-bcfa-0d4b23b9c697",
   "metadata": {},
   "outputs": [],
   "source": [
    "import torch"
   ]
  },
  {
   "cell_type": "code",
   "execution_count": 70,
   "id": "843d02c8-445e-4f1c-b543-76f8ff2b5af8",
   "metadata": {},
   "outputs": [
    {
     "name": "stdout",
     "output_type": "stream",
     "text": [
      "x: 3.5\n",
      "y = x*x: 12.25\n",
      "z = 2*y + 3: 27.5\n",
      "Working out gradient dz/dx\n",
      "Gradient at x = 3.5: 14.0\n"
     ]
    }
   ],
   "source": [
    "x = torch.tensor(3.5, requires_grad=True)\n",
    "y = x*x\n",
    "z = 2*y + 3\n",
    "\n",
    "print(f'x: {x}')\n",
    "print(f'y = x*x: {y}')\n",
    "print(f'z = 2*y + 3: {z}')\n",
    "\n",
    "# workout grad\n",
    "z.backward()\n",
    "print(\"Working out gradient dz/dx\")\n",
    "print(f'Gradient at x = 3.5: {x.grad}')"
   ]
  },
  {
   "cell_type": "markdown",
   "id": "ce296f80-0a66-4a87-87c9-906835b425b5",
   "metadata": {},
   "source": [
    "### Q1"
   ]
  },
  {
   "cell_type": "code",
   "execution_count": 83,
   "id": "cac684a1-2e22-4fe7-aa22-53fd58741356",
   "metadata": {},
   "outputs": [],
   "source": [
    "a = torch.tensor(1.0, requires_grad=True)\n",
    "b = torch.tensor(2.0, requires_grad=True)"
   ]
  },
  {
   "cell_type": "code",
   "execution_count": 84,
   "id": "d2637239-762e-46bf-a0fb-c001696f261d",
   "metadata": {},
   "outputs": [],
   "source": [
    "x = 2*a + 3*b\n",
    "y = 5*a*a + 3*b*b*b\n",
    "z = 2*x + 3*y"
   ]
  },
  {
   "cell_type": "code",
   "execution_count": 85,
   "id": "bf311d6c-9afb-427c-abb7-a1ace43b7499",
   "metadata": {},
   "outputs": [],
   "source": [
    "dz_dx = 2\n",
    "dx_da = 2\n",
    "dz_dy = 3\n",
    "dy_da = 10*a"
   ]
  },
  {
   "cell_type": "code",
   "execution_count": 86,
   "id": "e79c36cf-1c6b-4676-845e-4eff6ef43524",
   "metadata": {},
   "outputs": [],
   "source": [
    "dz_da = 4 + 30*a\n",
    "z.backward()"
   ]
  },
  {
   "cell_type": "code",
   "execution_count": 88,
   "id": "0561bf9e-5efe-4614-8138-a275879e06f5",
   "metadata": {},
   "outputs": [
    {
     "name": "stdout",
     "output_type": "stream",
     "text": [
      "analytical_grad_wrt_a: 34.0\n",
      "PyTorch: 34.0\n"
     ]
    }
   ],
   "source": [
    "print(f'analytical_grad_wrt_a: {dz_da}')\n",
    "print(f'PyTorch: {a.grad}')"
   ]
  },
  {
   "cell_type": "markdown",
   "id": "77c1c518-3848-475e-b49a-e3afa4639974",
   "metadata": {},
   "source": [
    "### Q2"
   ]
  },
  {
   "cell_type": "code",
   "execution_count": 94,
   "id": "50d39e97-0df9-484b-85a6-1c0335a7b3b5",
   "metadata": {},
   "outputs": [],
   "source": [
    "b = torch.tensor(1.0, requires_grad=True)\n",
    "x = torch.tensor(2.0, requires_grad=True)\n",
    "w = torch.tensor(3.0, requires_grad=True)"
   ]
  },
  {
   "cell_type": "code",
   "execution_count": 95,
   "id": "dffc0538-a4f6-40dc-96bf-3a98116a4ad7",
   "metadata": {},
   "outputs": [],
   "source": [
    "u = w*x\n",
    "v = u + b\n",
    "a = torch.relu(v)"
   ]
  },
  {
   "cell_type": "code",
   "execution_count": 96,
   "id": "d2d81a3e-076c-46a8-b5a8-a2d80953f72b",
   "metadata": {},
   "outputs": [],
   "source": [
    "analytical_grad_wrt_w = x if v>0 else 0\n",
    "a.backward()"
   ]
  },
  {
   "cell_type": "code",
   "execution_count": 97,
   "id": "5947203e-b912-4ee0-9bb2-af6aa8edfb4d",
   "metadata": {},
   "outputs": [
    {
     "name": "stdout",
     "output_type": "stream",
     "text": [
      "analytical_grad_wrt_w: 2.0\n",
      "PyTorch: 2.0\n"
     ]
    }
   ],
   "source": [
    "print(f'analytical_grad_wrt_w: {analytical_grad_wrt_w}')\n",
    "print(f'PyTorch: {w.grad}')"
   ]
  },
  {
   "cell_type": "markdown",
   "id": "45c9f928-b293-4e09-ae92-3f4fbec162f1",
   "metadata": {},
   "source": [
    "### Q3"
   ]
  },
  {
   "cell_type": "code",
   "execution_count": 52,
   "id": "e838655d-a263-47ed-ab35-6ef069075a26",
   "metadata": {},
   "outputs": [],
   "source": [
    "b1 = torch.tensor(1.0, requires_grad=True)\n",
    "x1 = torch.tensor(2.0, requires_grad=True)\n",
    "w1 = torch.tensor(3.0, requires_grad=True)"
   ]
  },
  {
   "cell_type": "code",
   "execution_count": 53,
   "id": "c1f966a3-ff09-4e78-9d1d-4a18dc7cb7e2",
   "metadata": {},
   "outputs": [],
   "source": [
    "u1 = w1*x1\n",
    "v1 = u1 + b1\n",
    "a1 = torch.sigmoid(v1)"
   ]
  },
  {
   "cell_type": "code",
   "execution_count": 54,
   "id": "aee6e8dd-b1b6-4c33-9877-07cde35aaad9",
   "metadata": {},
   "outputs": [],
   "source": [
    "analytical_grad_wrt_w1 = a1*(1-a1)*x\n",
    "a1.backward()"
   ]
  },
  {
   "cell_type": "code",
   "execution_count": 59,
   "id": "fdb43fc8-93d3-4485-8ba0-ab285f5278bb",
   "metadata": {},
   "outputs": [
    {
     "name": "stdout",
     "output_type": "stream",
     "text": [
      "analytical_da1/dw1: 0.0018203349318355322\n",
      "PyTorch: 0.0018203349318355322\n"
     ]
    }
   ],
   "source": [
    "print(f'analytical_da1/dw1: {analytical_grad_wrt_w1}')\n",
    "print(f'PyTorch: {w1.grad}')"
   ]
  },
  {
   "cell_type": "markdown",
   "id": "1c858a47-278a-453e-a5e4-8ff4b3ff2bed",
   "metadata": {},
   "source": [
    "### Q4"
   ]
  },
  {
   "cell_type": "code",
   "execution_count": 56,
   "id": "fe83bbaa-f71c-4261-9468-b0b263e0c488",
   "metadata": {},
   "outputs": [],
   "source": [
    "def function(x):\n",
    "    return torch.exp(-x*x -2*x -torch.sin(x))"
   ]
  },
  {
   "cell_type": "code",
   "execution_count": 57,
   "id": "8cf5e4c9-c2b8-4159-80cf-875705b9d49c",
   "metadata": {},
   "outputs": [],
   "source": [
    "x = torch.tensor(2.0, requires_grad=True)"
   ]
  },
  {
   "cell_type": "code",
   "execution_count": 58,
   "id": "64e3079b-8c9d-4420-9d72-547222f327d7",
   "metadata": {},
   "outputs": [],
   "source": [
    "a = -x*x\n",
    "b = -2*x\n",
    "c = -torch.sin(x)\n",
    "d = a + b + c\n",
    "e = torch.exp(d)"
   ]
  },
  {
   "cell_type": "code",
   "execution_count": null,
   "id": "a366c0bd-68c2-4c01-9d52-371b3ce74ae6",
   "metadata": {},
   "outputs": [],
   "source": []
  }
 ],
 "metadata": {
  "kernelspec": {
   "display_name": "Python 3 (ipykernel)",
   "language": "python",
   "name": "python3"
  },
  "language_info": {
   "codemirror_mode": {
    "name": "ipython",
    "version": 3
   },
   "file_extension": ".py",
   "mimetype": "text/x-python",
   "name": "python",
   "nbconvert_exporter": "python",
   "pygments_lexer": "ipython3",
   "version": "3.11.7"
  }
 },
 "nbformat": 4,
 "nbformat_minor": 5
}
