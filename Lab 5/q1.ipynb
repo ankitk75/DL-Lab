{
 "cells": [
  {
   "cell_type": "markdown",
   "id": "7c74f62a-b6b6-4805-a415-567ddcefe238",
   "metadata": {},
   "source": [
    "# Convolution Neural Networks"
   ]
  },
  {
   "cell_type": "markdown",
   "id": "583173c6-ce77-4469-9f69-d869aee00fa0",
   "metadata": {},
   "source": [
    "1. Implement convolution operation for a sample image of shape (H=6, W=6, C=1) with a\n",
    "random kernel of size (3,3) using torch.nn.functional.conv2d.\n",
    "\n",
    "What is the dimension of the output image? Apply, various values for parameter stride=1\n",
    "and note the change in the dimension of the output image. Arrive at an equation for the\n",
    "output image size with respect to the kernel size and stride and verify your answer with\n",
    "code. Now, repeat the exercise by changing padding parameter. Obtain a formula using\n",
    "kernel, stride, and padding to get the output image size. What is the total number of\n",
    "parameters in your network? Verify with code."
   ]
  },
  {
   "cell_type": "code",
   "execution_count": 8,
   "id": "28b89d73-ad08-4ee9-a7e2-7fd76e37f811",
   "metadata": {},
   "outputs": [
    {
     "name": "stdout",
     "output_type": "stream",
     "text": [
      "image= tensor([[0.8591, 0.7201, 0.4867, 0.0599, 0.2416, 0.1689],\n",
      "        [0.6497, 0.3961, 0.0441, 0.8975, 0.0601, 0.1921],\n",
      "        [0.4623, 0.0366, 0.9920, 0.0613, 0.6551, 0.8715],\n",
      "        [0.5521, 0.1319, 0.0232, 0.6299, 0.4410, 0.8851],\n",
      "        [0.3505, 0.2267, 0.0120, 0.4225, 0.1537, 0.0602],\n",
      "        [0.3262, 0.4199, 0.6018, 0.1687, 0.7986, 0.8329]])\n",
      "image.shape= torch.Size([1, 6, 6])\n",
      "image.shape= torch.Size([1, 1, 6, 6])\n",
      "image= tensor([[[[0.8591, 0.7201, 0.4867, 0.0599, 0.2416, 0.1689],\n",
      "          [0.6497, 0.3961, 0.0441, 0.8975, 0.0601, 0.1921],\n",
      "          [0.4623, 0.0366, 0.9920, 0.0613, 0.6551, 0.8715],\n",
      "          [0.5521, 0.1319, 0.0232, 0.6299, 0.4410, 0.8851],\n",
      "          [0.3505, 0.2267, 0.0120, 0.4225, 0.1537, 0.0602],\n",
      "          [0.3262, 0.4199, 0.6018, 0.1687, 0.7986, 0.8329]]]])\n",
      "kernel= tensor([[1., 1., 1.],\n",
      "        [1., 1., 1.],\n",
      "        [1., 1., 1.]])\n",
      "outimage= tensor([[[[2.6250, 3.1557, 2.6043, 1.7898, 1.6201, 0.6627],\n",
      "          [3.1239, 4.6466, 3.6942, 3.4983, 3.2080, 2.1893],\n",
      "          [2.2287, 3.2879, 3.2125, 3.8041, 4.6936, 3.1049],\n",
      "          [1.7601, 2.7873, 2.5361, 3.3907, 4.1803, 3.0666],\n",
      "          [2.0073, 2.6443, 2.6366, 3.2514, 4.3926, 3.1714],\n",
      "          [1.3233, 1.9371, 1.8517, 2.1574, 2.4366, 1.8454]]]])\n"
     ]
    }
   ],
   "source": [
    "import torch\n",
    "import torch.nn.functional as F\n",
    "\n",
    "image = torch.rand(6,6)\n",
    "print(\"image=\", image)\n",
    "\n",
    "#Add a new dimension along 0th dimension\n",
    "#i.e. (6,6) becomes (1,6,6). This is because\n",
    "#pytorch expects the input to conv2D as 4d tensor\n",
    "image = image.unsqueeze(dim=0)\n",
    "print(\"image.shape=\", image.shape)\n",
    "\n",
    "image = image.unsqueeze(dim=0)\n",
    "print(\"image.shape=\", image.shape)\n",
    "\n",
    "print(\"image=\", image)\n",
    "\n",
    "kernel = torch.ones(3,3)\n",
    "#kernel = torch.rand(3,3)\n",
    "print(\"kernel=\", kernel)\n",
    "\n",
    "kernel = kernel.unsqueeze(dim=0)\n",
    "kernel = kernel.unsqueeze(dim=0)\n",
    "\n",
    "#Perform the convolution\n",
    "outimage = F.conv2d(image, kernel, stride=1, padding=1)\n",
    "print(\"outimage=\", outimage)"
   ]
  },
  {
   "cell_type": "code",
   "execution_count": 10,
   "id": "f1393142-0665-4c4b-958f-e11f46bbf90d",
   "metadata": {},
   "outputs": [
    {
     "name": "stdout",
     "output_type": "stream",
     "text": [
      "Output height = (Input height + padding height top + padding height bottom - kernel height) / (stride height) + 1\n",
      "Output width = (Output width + padding width right + padding width left - kernel width) / (stride width) + 1)\n"
     ]
    }
   ],
   "source": [
    "print(f\"Output height = (Input height + padding height top + padding height bottom - kernel height) / (stride height) + 1\")\n",
    "\n",
    "print(f\"Output width = (Output width + padding width right + padding width left - kernel width) / (stride width) + 1)\")"
   ]
  }
 ],
 "metadata": {
  "kernelspec": {
   "display_name": "Python 3 (ipykernel)",
   "language": "python",
   "name": "python3"
  },
  "language_info": {
   "codemirror_mode": {
    "name": "ipython",
    "version": 3
   },
   "file_extension": ".py",
   "mimetype": "text/x-python",
   "name": "python",
   "nbconvert_exporter": "python",
   "pygments_lexer": "ipython3",
   "version": "3.11.7"
  }
 },
 "nbformat": 4,
 "nbformat_minor": 5
}
