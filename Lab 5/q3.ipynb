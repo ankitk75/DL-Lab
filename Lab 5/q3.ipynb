{
 "cells": [
  {
   "cell_type": "markdown",
   "id": "4df3083e-596a-4788-b169-9cd4fd5bbe39",
   "metadata": {},
   "source": [
    "3.Implement CNN for classifying digits in MNIST dataset using PyTorch. Display the\n",
    "classification accuracy in the form of a Confusion matrix. Verify the number of learnable\n",
    "parameters in the model.\n",
    "Training a CNN on an image dataset is similar to training a basic multi-layer feed-forward\n",
    "network on numerical data as outlined below.\n",
    "Define model architecture\n",
    "Load dataset from disk\n",
    "Loop over epochs and batches\n",
    "Make predictions and compute loss\n",
    "Properly zero our gradient, perform backpropagation, and update model parameters"
   ]
  },
  {
   "cell_type": "code",
   "execution_count": 3,
   "id": "80f294a6-0a27-4d39-876d-6f3555b7731e",
   "metadata": {},
   "outputs": [],
   "source": [
    "import torch.nn as nn\n",
    "\n",
    "class CNNClassifier(nn.Module):\n",
    "    def __init__(self):\n",
    "        super().__init__()\n",
    "        self.net = nn.Sequential(nn.Conv2d(1, 64, kernal_size = 3), \n",
    "                                 nn.ReLU(), \n",
    "                                 nn.MaxPool2d((2, 2), stride = 2), \n",
    "                                 nn.Conv2d(64, 128, kernal_size = 3), \n",
    "                                 nn.ReLU(), \n",
    "                                 nn.MaxPool2d((2, 2), stride = 2), \n",
    "                                 nn.Conv2d(128, 64, kernal_size = 3), \n",
    "                                 nn.ReLU(), \n",
    "                                 nn.MaxPool2d((2, 2), stride = 2)\n",
    "                                )\n",
    "\n",
    "        self.classification_head = nn.Sequential(nn.Linear(64, 20, bias=True), \n",
    "                                                 nn.ReLU(), \n",
    "                                                 nn.linear(20, 10, bias=True))\n",
    "\n",
    "    def forward(self, x):\n",
    "        features = self.net(x)\n",
    "        return self.classification_head(features.view(batch_size, -1))"
   ]
  },
  {
   "cell_type": "code",
   "execution_count": null,
   "id": "1dc12d43-065c-44c1-a4b6-3aeb28543cf1",
   "metadata": {},
   "outputs": [],
   "source": []
  }
 ],
 "metadata": {
  "kernelspec": {
   "display_name": "Python 3 (ipykernel)",
   "language": "python",
   "name": "python3"
  },
  "language_info": {
   "codemirror_mode": {
    "name": "ipython",
    "version": 3
   },
   "file_extension": ".py",
   "mimetype": "text/x-python",
   "name": "python",
   "nbconvert_exporter": "python",
   "pygments_lexer": "ipython3",
   "version": "3.11.7"
  }
 },
 "nbformat": 4,
 "nbformat_minor": 5
}
