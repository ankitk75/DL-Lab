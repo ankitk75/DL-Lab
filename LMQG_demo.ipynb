{
  "nbformat": 4,
  "nbformat_minor": 0,
  "metadata": {
    "colab": {
      "provenance": [],
      "include_colab_link": true
    },
    "kernelspec": {
      "name": "python3",
      "display_name": "Python 3"
    },
    "language_info": {
      "name": "python"
    },
    "widgets": {
      "application/vnd.jupyter.widget-state+json": {
        "e06abca59730466682a098638ccbc21a": {
          "model_module": "@jupyter-widgets/controls",
          "model_name": "HBoxModel",
          "model_module_version": "1.5.0",
          "state": {
            "_dom_classes": [],
            "_model_module": "@jupyter-widgets/controls",
            "_model_module_version": "1.5.0",
            "_model_name": "HBoxModel",
            "_view_count": null,
            "_view_module": "@jupyter-widgets/controls",
            "_view_module_version": "1.5.0",
            "_view_name": "HBoxView",
            "box_style": "",
            "children": [
              "IPY_MODEL_f2b7ce8d954f4ae28ecd70e7529b4ad3",
              "IPY_MODEL_80cc57888df2441aae4f3059b871f538",
              "IPY_MODEL_96e16dabaf3d4f699a423c4d525f8b2e"
            ],
            "layout": "IPY_MODEL_67bde06951d24f60899db9eac1bd015b"
          }
        },
        "f2b7ce8d954f4ae28ecd70e7529b4ad3": {
          "model_module": "@jupyter-widgets/controls",
          "model_name": "HTMLModel",
          "model_module_version": "1.5.0",
          "state": {
            "_dom_classes": [],
            "_model_module": "@jupyter-widgets/controls",
            "_model_module_version": "1.5.0",
            "_model_name": "HTMLModel",
            "_view_count": null,
            "_view_module": "@jupyter-widgets/controls",
            "_view_module_version": "1.5.0",
            "_view_name": "HTMLView",
            "description": "",
            "description_tooltip": null,
            "layout": "IPY_MODEL_f716089aedc94422a72e3744016909fb",
            "placeholder": "​",
            "style": "IPY_MODEL_1f7216910c7b40b9922c45777b290910",
            "value": "tokenizer_config.json: 100%"
          }
        },
        "80cc57888df2441aae4f3059b871f538": {
          "model_module": "@jupyter-widgets/controls",
          "model_name": "FloatProgressModel",
          "model_module_version": "1.5.0",
          "state": {
            "_dom_classes": [],
            "_model_module": "@jupyter-widgets/controls",
            "_model_module_version": "1.5.0",
            "_model_name": "FloatProgressModel",
            "_view_count": null,
            "_view_module": "@jupyter-widgets/controls",
            "_view_module_version": "1.5.0",
            "_view_name": "ProgressView",
            "bar_style": "success",
            "description": "",
            "description_tooltip": null,
            "layout": "IPY_MODEL_e82dd27e3d994eb08b4ea2b272a6af82",
            "max": 2435,
            "min": 0,
            "orientation": "horizontal",
            "style": "IPY_MODEL_374237866a2b478eb97859a56de8b49d",
            "value": 2435
          }
        },
        "96e16dabaf3d4f699a423c4d525f8b2e": {
          "model_module": "@jupyter-widgets/controls",
          "model_name": "HTMLModel",
          "model_module_version": "1.5.0",
          "state": {
            "_dom_classes": [],
            "_model_module": "@jupyter-widgets/controls",
            "_model_module_version": "1.5.0",
            "_model_name": "HTMLModel",
            "_view_count": null,
            "_view_module": "@jupyter-widgets/controls",
            "_view_module_version": "1.5.0",
            "_view_name": "HTMLView",
            "description": "",
            "description_tooltip": null,
            "layout": "IPY_MODEL_e88aa11137414c0a94564217717598f5",
            "placeholder": "​",
            "style": "IPY_MODEL_96f2c23b97764464beee4013f82043f1",
            "value": " 2.44k/2.44k [00:00&lt;00:00, 81.8kB/s]"
          }
        },
        "67bde06951d24f60899db9eac1bd015b": {
          "model_module": "@jupyter-widgets/base",
          "model_name": "LayoutModel",
          "model_module_version": "1.2.0",
          "state": {
            "_model_module": "@jupyter-widgets/base",
            "_model_module_version": "1.2.0",
            "_model_name": "LayoutModel",
            "_view_count": null,
            "_view_module": "@jupyter-widgets/base",
            "_view_module_version": "1.2.0",
            "_view_name": "LayoutView",
            "align_content": null,
            "align_items": null,
            "align_self": null,
            "border": null,
            "bottom": null,
            "display": null,
            "flex": null,
            "flex_flow": null,
            "grid_area": null,
            "grid_auto_columns": null,
            "grid_auto_flow": null,
            "grid_auto_rows": null,
            "grid_column": null,
            "grid_gap": null,
            "grid_row": null,
            "grid_template_areas": null,
            "grid_template_columns": null,
            "grid_template_rows": null,
            "height": null,
            "justify_content": null,
            "justify_items": null,
            "left": null,
            "margin": null,
            "max_height": null,
            "max_width": null,
            "min_height": null,
            "min_width": null,
            "object_fit": null,
            "object_position": null,
            "order": null,
            "overflow": null,
            "overflow_x": null,
            "overflow_y": null,
            "padding": null,
            "right": null,
            "top": null,
            "visibility": null,
            "width": null
          }
        },
        "f716089aedc94422a72e3744016909fb": {
          "model_module": "@jupyter-widgets/base",
          "model_name": "LayoutModel",
          "model_module_version": "1.2.0",
          "state": {
            "_model_module": "@jupyter-widgets/base",
            "_model_module_version": "1.2.0",
            "_model_name": "LayoutModel",
            "_view_count": null,
            "_view_module": "@jupyter-widgets/base",
            "_view_module_version": "1.2.0",
            "_view_name": "LayoutView",
            "align_content": null,
            "align_items": null,
            "align_self": null,
            "border": null,
            "bottom": null,
            "display": null,
            "flex": null,
            "flex_flow": null,
            "grid_area": null,
            "grid_auto_columns": null,
            "grid_auto_flow": null,
            "grid_auto_rows": null,
            "grid_column": null,
            "grid_gap": null,
            "grid_row": null,
            "grid_template_areas": null,
            "grid_template_columns": null,
            "grid_template_rows": null,
            "height": null,
            "justify_content": null,
            "justify_items": null,
            "left": null,
            "margin": null,
            "max_height": null,
            "max_width": null,
            "min_height": null,
            "min_width": null,
            "object_fit": null,
            "object_position": null,
            "order": null,
            "overflow": null,
            "overflow_x": null,
            "overflow_y": null,
            "padding": null,
            "right": null,
            "top": null,
            "visibility": null,
            "width": null
          }
        },
        "1f7216910c7b40b9922c45777b290910": {
          "model_module": "@jupyter-widgets/controls",
          "model_name": "DescriptionStyleModel",
          "model_module_version": "1.5.0",
          "state": {
            "_model_module": "@jupyter-widgets/controls",
            "_model_module_version": "1.5.0",
            "_model_name": "DescriptionStyleModel",
            "_view_count": null,
            "_view_module": "@jupyter-widgets/base",
            "_view_module_version": "1.2.0",
            "_view_name": "StyleView",
            "description_width": ""
          }
        },
        "e82dd27e3d994eb08b4ea2b272a6af82": {
          "model_module": "@jupyter-widgets/base",
          "model_name": "LayoutModel",
          "model_module_version": "1.2.0",
          "state": {
            "_model_module": "@jupyter-widgets/base",
            "_model_module_version": "1.2.0",
            "_model_name": "LayoutModel",
            "_view_count": null,
            "_view_module": "@jupyter-widgets/base",
            "_view_module_version": "1.2.0",
            "_view_name": "LayoutView",
            "align_content": null,
            "align_items": null,
            "align_self": null,
            "border": null,
            "bottom": null,
            "display": null,
            "flex": null,
            "flex_flow": null,
            "grid_area": null,
            "grid_auto_columns": null,
            "grid_auto_flow": null,
            "grid_auto_rows": null,
            "grid_column": null,
            "grid_gap": null,
            "grid_row": null,
            "grid_template_areas": null,
            "grid_template_columns": null,
            "grid_template_rows": null,
            "height": null,
            "justify_content": null,
            "justify_items": null,
            "left": null,
            "margin": null,
            "max_height": null,
            "max_width": null,
            "min_height": null,
            "min_width": null,
            "object_fit": null,
            "object_position": null,
            "order": null,
            "overflow": null,
            "overflow_x": null,
            "overflow_y": null,
            "padding": null,
            "right": null,
            "top": null,
            "visibility": null,
            "width": null
          }
        },
        "374237866a2b478eb97859a56de8b49d": {
          "model_module": "@jupyter-widgets/controls",
          "model_name": "ProgressStyleModel",
          "model_module_version": "1.5.0",
          "state": {
            "_model_module": "@jupyter-widgets/controls",
            "_model_module_version": "1.5.0",
            "_model_name": "ProgressStyleModel",
            "_view_count": null,
            "_view_module": "@jupyter-widgets/base",
            "_view_module_version": "1.2.0",
            "_view_name": "StyleView",
            "bar_color": null,
            "description_width": ""
          }
        },
        "e88aa11137414c0a94564217717598f5": {
          "model_module": "@jupyter-widgets/base",
          "model_name": "LayoutModel",
          "model_module_version": "1.2.0",
          "state": {
            "_model_module": "@jupyter-widgets/base",
            "_model_module_version": "1.2.0",
            "_model_name": "LayoutModel",
            "_view_count": null,
            "_view_module": "@jupyter-widgets/base",
            "_view_module_version": "1.2.0",
            "_view_name": "LayoutView",
            "align_content": null,
            "align_items": null,
            "align_self": null,
            "border": null,
            "bottom": null,
            "display": null,
            "flex": null,
            "flex_flow": null,
            "grid_area": null,
            "grid_auto_columns": null,
            "grid_auto_flow": null,
            "grid_auto_rows": null,
            "grid_column": null,
            "grid_gap": null,
            "grid_row": null,
            "grid_template_areas": null,
            "grid_template_columns": null,
            "grid_template_rows": null,
            "height": null,
            "justify_content": null,
            "justify_items": null,
            "left": null,
            "margin": null,
            "max_height": null,
            "max_width": null,
            "min_height": null,
            "min_width": null,
            "object_fit": null,
            "object_position": null,
            "order": null,
            "overflow": null,
            "overflow_x": null,
            "overflow_y": null,
            "padding": null,
            "right": null,
            "top": null,
            "visibility": null,
            "width": null
          }
        },
        "96f2c23b97764464beee4013f82043f1": {
          "model_module": "@jupyter-widgets/controls",
          "model_name": "DescriptionStyleModel",
          "model_module_version": "1.5.0",
          "state": {
            "_model_module": "@jupyter-widgets/controls",
            "_model_module_version": "1.5.0",
            "_model_name": "DescriptionStyleModel",
            "_view_count": null,
            "_view_module": "@jupyter-widgets/base",
            "_view_module_version": "1.2.0",
            "_view_name": "StyleView",
            "description_width": ""
          }
        },
        "2c1c701b891f4dc18f005c5dde598c8e": {
          "model_module": "@jupyter-widgets/controls",
          "model_name": "HBoxModel",
          "model_module_version": "1.5.0",
          "state": {
            "_dom_classes": [],
            "_model_module": "@jupyter-widgets/controls",
            "_model_module_version": "1.5.0",
            "_model_name": "HBoxModel",
            "_view_count": null,
            "_view_module": "@jupyter-widgets/controls",
            "_view_module_version": "1.5.0",
            "_view_name": "HBoxView",
            "box_style": "",
            "children": [
              "IPY_MODEL_7794c5b585e440ae8612fdebd5fb7812",
              "IPY_MODEL_1e74433cdf434f718c1820d6045a27cf",
              "IPY_MODEL_50b38632413b4cfc83a0342935566314"
            ],
            "layout": "IPY_MODEL_a2c868c693de41b78b508a5e68cfebf3"
          }
        },
        "7794c5b585e440ae8612fdebd5fb7812": {
          "model_module": "@jupyter-widgets/controls",
          "model_name": "HTMLModel",
          "model_module_version": "1.5.0",
          "state": {
            "_dom_classes": [],
            "_model_module": "@jupyter-widgets/controls",
            "_model_module_version": "1.5.0",
            "_model_name": "HTMLModel",
            "_view_count": null,
            "_view_module": "@jupyter-widgets/controls",
            "_view_module_version": "1.5.0",
            "_view_name": "HTMLView",
            "description": "",
            "description_tooltip": null,
            "layout": "IPY_MODEL_e76c50ff353a419494eae1d9ba0b2e70",
            "placeholder": "​",
            "style": "IPY_MODEL_38288b9bc37e4996956fbe8ede32fd5d",
            "value": "spiece.model: 100%"
          }
        },
        "1e74433cdf434f718c1820d6045a27cf": {
          "model_module": "@jupyter-widgets/controls",
          "model_name": "FloatProgressModel",
          "model_module_version": "1.5.0",
          "state": {
            "_dom_classes": [],
            "_model_module": "@jupyter-widgets/controls",
            "_model_module_version": "1.5.0",
            "_model_name": "FloatProgressModel",
            "_view_count": null,
            "_view_module": "@jupyter-widgets/controls",
            "_view_module_version": "1.5.0",
            "_view_name": "ProgressView",
            "bar_style": "success",
            "description": "",
            "description_tooltip": null,
            "layout": "IPY_MODEL_4736604cdd644ed6bc65485616eab6f0",
            "max": 791656,
            "min": 0,
            "orientation": "horizontal",
            "style": "IPY_MODEL_1ebac8c607554dd0863bed4d1a26e46f",
            "value": 791656
          }
        },
        "50b38632413b4cfc83a0342935566314": {
          "model_module": "@jupyter-widgets/controls",
          "model_name": "HTMLModel",
          "model_module_version": "1.5.0",
          "state": {
            "_dom_classes": [],
            "_model_module": "@jupyter-widgets/controls",
            "_model_module_version": "1.5.0",
            "_model_name": "HTMLModel",
            "_view_count": null,
            "_view_module": "@jupyter-widgets/controls",
            "_view_module_version": "1.5.0",
            "_view_name": "HTMLView",
            "description": "",
            "description_tooltip": null,
            "layout": "IPY_MODEL_6c8722d7eed04f9db3616544e0a73e3c",
            "placeholder": "​",
            "style": "IPY_MODEL_b6e79fe550a14f29b533e0fa4d26fdf3",
            "value": " 792k/792k [00:00&lt;00:00, 6.23MB/s]"
          }
        },
        "a2c868c693de41b78b508a5e68cfebf3": {
          "model_module": "@jupyter-widgets/base",
          "model_name": "LayoutModel",
          "model_module_version": "1.2.0",
          "state": {
            "_model_module": "@jupyter-widgets/base",
            "_model_module_version": "1.2.0",
            "_model_name": "LayoutModel",
            "_view_count": null,
            "_view_module": "@jupyter-widgets/base",
            "_view_module_version": "1.2.0",
            "_view_name": "LayoutView",
            "align_content": null,
            "align_items": null,
            "align_self": null,
            "border": null,
            "bottom": null,
            "display": null,
            "flex": null,
            "flex_flow": null,
            "grid_area": null,
            "grid_auto_columns": null,
            "grid_auto_flow": null,
            "grid_auto_rows": null,
            "grid_column": null,
            "grid_gap": null,
            "grid_row": null,
            "grid_template_areas": null,
            "grid_template_columns": null,
            "grid_template_rows": null,
            "height": null,
            "justify_content": null,
            "justify_items": null,
            "left": null,
            "margin": null,
            "max_height": null,
            "max_width": null,
            "min_height": null,
            "min_width": null,
            "object_fit": null,
            "object_position": null,
            "order": null,
            "overflow": null,
            "overflow_x": null,
            "overflow_y": null,
            "padding": null,
            "right": null,
            "top": null,
            "visibility": null,
            "width": null
          }
        },
        "e76c50ff353a419494eae1d9ba0b2e70": {
          "model_module": "@jupyter-widgets/base",
          "model_name": "LayoutModel",
          "model_module_version": "1.2.0",
          "state": {
            "_model_module": "@jupyter-widgets/base",
            "_model_module_version": "1.2.0",
            "_model_name": "LayoutModel",
            "_view_count": null,
            "_view_module": "@jupyter-widgets/base",
            "_view_module_version": "1.2.0",
            "_view_name": "LayoutView",
            "align_content": null,
            "align_items": null,
            "align_self": null,
            "border": null,
            "bottom": null,
            "display": null,
            "flex": null,
            "flex_flow": null,
            "grid_area": null,
            "grid_auto_columns": null,
            "grid_auto_flow": null,
            "grid_auto_rows": null,
            "grid_column": null,
            "grid_gap": null,
            "grid_row": null,
            "grid_template_areas": null,
            "grid_template_columns": null,
            "grid_template_rows": null,
            "height": null,
            "justify_content": null,
            "justify_items": null,
            "left": null,
            "margin": null,
            "max_height": null,
            "max_width": null,
            "min_height": null,
            "min_width": null,
            "object_fit": null,
            "object_position": null,
            "order": null,
            "overflow": null,
            "overflow_x": null,
            "overflow_y": null,
            "padding": null,
            "right": null,
            "top": null,
            "visibility": null,
            "width": null
          }
        },
        "38288b9bc37e4996956fbe8ede32fd5d": {
          "model_module": "@jupyter-widgets/controls",
          "model_name": "DescriptionStyleModel",
          "model_module_version": "1.5.0",
          "state": {
            "_model_module": "@jupyter-widgets/controls",
            "_model_module_version": "1.5.0",
            "_model_name": "DescriptionStyleModel",
            "_view_count": null,
            "_view_module": "@jupyter-widgets/base",
            "_view_module_version": "1.2.0",
            "_view_name": "StyleView",
            "description_width": ""
          }
        },
        "4736604cdd644ed6bc65485616eab6f0": {
          "model_module": "@jupyter-widgets/base",
          "model_name": "LayoutModel",
          "model_module_version": "1.2.0",
          "state": {
            "_model_module": "@jupyter-widgets/base",
            "_model_module_version": "1.2.0",
            "_model_name": "LayoutModel",
            "_view_count": null,
            "_view_module": "@jupyter-widgets/base",
            "_view_module_version": "1.2.0",
            "_view_name": "LayoutView",
            "align_content": null,
            "align_items": null,
            "align_self": null,
            "border": null,
            "bottom": null,
            "display": null,
            "flex": null,
            "flex_flow": null,
            "grid_area": null,
            "grid_auto_columns": null,
            "grid_auto_flow": null,
            "grid_auto_rows": null,
            "grid_column": null,
            "grid_gap": null,
            "grid_row": null,
            "grid_template_areas": null,
            "grid_template_columns": null,
            "grid_template_rows": null,
            "height": null,
            "justify_content": null,
            "justify_items": null,
            "left": null,
            "margin": null,
            "max_height": null,
            "max_width": null,
            "min_height": null,
            "min_width": null,
            "object_fit": null,
            "object_position": null,
            "order": null,
            "overflow": null,
            "overflow_x": null,
            "overflow_y": null,
            "padding": null,
            "right": null,
            "top": null,
            "visibility": null,
            "width": null
          }
        },
        "1ebac8c607554dd0863bed4d1a26e46f": {
          "model_module": "@jupyter-widgets/controls",
          "model_name": "ProgressStyleModel",
          "model_module_version": "1.5.0",
          "state": {
            "_model_module": "@jupyter-widgets/controls",
            "_model_module_version": "1.5.0",
            "_model_name": "ProgressStyleModel",
            "_view_count": null,
            "_view_module": "@jupyter-widgets/base",
            "_view_module_version": "1.2.0",
            "_view_name": "StyleView",
            "bar_color": null,
            "description_width": ""
          }
        },
        "6c8722d7eed04f9db3616544e0a73e3c": {
          "model_module": "@jupyter-widgets/base",
          "model_name": "LayoutModel",
          "model_module_version": "1.2.0",
          "state": {
            "_model_module": "@jupyter-widgets/base",
            "_model_module_version": "1.2.0",
            "_model_name": "LayoutModel",
            "_view_count": null,
            "_view_module": "@jupyter-widgets/base",
            "_view_module_version": "1.2.0",
            "_view_name": "LayoutView",
            "align_content": null,
            "align_items": null,
            "align_self": null,
            "border": null,
            "bottom": null,
            "display": null,
            "flex": null,
            "flex_flow": null,
            "grid_area": null,
            "grid_auto_columns": null,
            "grid_auto_flow": null,
            "grid_auto_rows": null,
            "grid_column": null,
            "grid_gap": null,
            "grid_row": null,
            "grid_template_areas": null,
            "grid_template_columns": null,
            "grid_template_rows": null,
            "height": null,
            "justify_content": null,
            "justify_items": null,
            "left": null,
            "margin": null,
            "max_height": null,
            "max_width": null,
            "min_height": null,
            "min_width": null,
            "object_fit": null,
            "object_position": null,
            "order": null,
            "overflow": null,
            "overflow_x": null,
            "overflow_y": null,
            "padding": null,
            "right": null,
            "top": null,
            "visibility": null,
            "width": null
          }
        },
        "b6e79fe550a14f29b533e0fa4d26fdf3": {
          "model_module": "@jupyter-widgets/controls",
          "model_name": "DescriptionStyleModel",
          "model_module_version": "1.5.0",
          "state": {
            "_model_module": "@jupyter-widgets/controls",
            "_model_module_version": "1.5.0",
            "_model_name": "DescriptionStyleModel",
            "_view_count": null,
            "_view_module": "@jupyter-widgets/base",
            "_view_module_version": "1.2.0",
            "_view_name": "StyleView",
            "description_width": ""
          }
        },
        "9ca66c1bee824f5aa1ab437fa3377bf6": {
          "model_module": "@jupyter-widgets/controls",
          "model_name": "HBoxModel",
          "model_module_version": "1.5.0",
          "state": {
            "_dom_classes": [],
            "_model_module": "@jupyter-widgets/controls",
            "_model_module_version": "1.5.0",
            "_model_name": "HBoxModel",
            "_view_count": null,
            "_view_module": "@jupyter-widgets/controls",
            "_view_module_version": "1.5.0",
            "_view_name": "HBoxView",
            "box_style": "",
            "children": [
              "IPY_MODEL_ec7692ab0f9f432b88b8d4945fa865ba",
              "IPY_MODEL_0a989feb5a604c0ca194ba22103205b1",
              "IPY_MODEL_53a6847e906d49b9abcdbea68ba5835f"
            ],
            "layout": "IPY_MODEL_47389ded099b4f0baf73af90629470ba"
          }
        },
        "ec7692ab0f9f432b88b8d4945fa865ba": {
          "model_module": "@jupyter-widgets/controls",
          "model_name": "HTMLModel",
          "model_module_version": "1.5.0",
          "state": {
            "_dom_classes": [],
            "_model_module": "@jupyter-widgets/controls",
            "_model_module_version": "1.5.0",
            "_model_name": "HTMLModel",
            "_view_count": null,
            "_view_module": "@jupyter-widgets/controls",
            "_view_module_version": "1.5.0",
            "_view_name": "HTMLView",
            "description": "",
            "description_tooltip": null,
            "layout": "IPY_MODEL_2473f80e1f2d499e9746f5b09644d033",
            "placeholder": "​",
            "style": "IPY_MODEL_bc38e7a2452b4c99bb11b2e98bc64c6d",
            "value": "tokenizer.json: 100%"
          }
        },
        "0a989feb5a604c0ca194ba22103205b1": {
          "model_module": "@jupyter-widgets/controls",
          "model_name": "FloatProgressModel",
          "model_module_version": "1.5.0",
          "state": {
            "_dom_classes": [],
            "_model_module": "@jupyter-widgets/controls",
            "_model_module_version": "1.5.0",
            "_model_name": "FloatProgressModel",
            "_view_count": null,
            "_view_module": "@jupyter-widgets/controls",
            "_view_module_version": "1.5.0",
            "_view_name": "ProgressView",
            "bar_style": "success",
            "description": "",
            "description_tooltip": null,
            "layout": "IPY_MODEL_36ebfa7bc3344cf7a104ba67a8cb7d71",
            "max": 2422275,
            "min": 0,
            "orientation": "horizontal",
            "style": "IPY_MODEL_a58c686bb641472ca82d33bf38946345",
            "value": 2422275
          }
        },
        "53a6847e906d49b9abcdbea68ba5835f": {
          "model_module": "@jupyter-widgets/controls",
          "model_name": "HTMLModel",
          "model_module_version": "1.5.0",
          "state": {
            "_dom_classes": [],
            "_model_module": "@jupyter-widgets/controls",
            "_model_module_version": "1.5.0",
            "_model_name": "HTMLModel",
            "_view_count": null,
            "_view_module": "@jupyter-widgets/controls",
            "_view_module_version": "1.5.0",
            "_view_name": "HTMLView",
            "description": "",
            "description_tooltip": null,
            "layout": "IPY_MODEL_41cfd1a2a35344f4bbd99d39ac102ce7",
            "placeholder": "​",
            "style": "IPY_MODEL_45c7750e8bef401fa99da35384d44c56",
            "value": " 2.42M/2.42M [00:00&lt;00:00, 15.9MB/s]"
          }
        },
        "47389ded099b4f0baf73af90629470ba": {
          "model_module": "@jupyter-widgets/base",
          "model_name": "LayoutModel",
          "model_module_version": "1.2.0",
          "state": {
            "_model_module": "@jupyter-widgets/base",
            "_model_module_version": "1.2.0",
            "_model_name": "LayoutModel",
            "_view_count": null,
            "_view_module": "@jupyter-widgets/base",
            "_view_module_version": "1.2.0",
            "_view_name": "LayoutView",
            "align_content": null,
            "align_items": null,
            "align_self": null,
            "border": null,
            "bottom": null,
            "display": null,
            "flex": null,
            "flex_flow": null,
            "grid_area": null,
            "grid_auto_columns": null,
            "grid_auto_flow": null,
            "grid_auto_rows": null,
            "grid_column": null,
            "grid_gap": null,
            "grid_row": null,
            "grid_template_areas": null,
            "grid_template_columns": null,
            "grid_template_rows": null,
            "height": null,
            "justify_content": null,
            "justify_items": null,
            "left": null,
            "margin": null,
            "max_height": null,
            "max_width": null,
            "min_height": null,
            "min_width": null,
            "object_fit": null,
            "object_position": null,
            "order": null,
            "overflow": null,
            "overflow_x": null,
            "overflow_y": null,
            "padding": null,
            "right": null,
            "top": null,
            "visibility": null,
            "width": null
          }
        },
        "2473f80e1f2d499e9746f5b09644d033": {
          "model_module": "@jupyter-widgets/base",
          "model_name": "LayoutModel",
          "model_module_version": "1.2.0",
          "state": {
            "_model_module": "@jupyter-widgets/base",
            "_model_module_version": "1.2.0",
            "_model_name": "LayoutModel",
            "_view_count": null,
            "_view_module": "@jupyter-widgets/base",
            "_view_module_version": "1.2.0",
            "_view_name": "LayoutView",
            "align_content": null,
            "align_items": null,
            "align_self": null,
            "border": null,
            "bottom": null,
            "display": null,
            "flex": null,
            "flex_flow": null,
            "grid_area": null,
            "grid_auto_columns": null,
            "grid_auto_flow": null,
            "grid_auto_rows": null,
            "grid_column": null,
            "grid_gap": null,
            "grid_row": null,
            "grid_template_areas": null,
            "grid_template_columns": null,
            "grid_template_rows": null,
            "height": null,
            "justify_content": null,
            "justify_items": null,
            "left": null,
            "margin": null,
            "max_height": null,
            "max_width": null,
            "min_height": null,
            "min_width": null,
            "object_fit": null,
            "object_position": null,
            "order": null,
            "overflow": null,
            "overflow_x": null,
            "overflow_y": null,
            "padding": null,
            "right": null,
            "top": null,
            "visibility": null,
            "width": null
          }
        },
        "bc38e7a2452b4c99bb11b2e98bc64c6d": {
          "model_module": "@jupyter-widgets/controls",
          "model_name": "DescriptionStyleModel",
          "model_module_version": "1.5.0",
          "state": {
            "_model_module": "@jupyter-widgets/controls",
            "_model_module_version": "1.5.0",
            "_model_name": "DescriptionStyleModel",
            "_view_count": null,
            "_view_module": "@jupyter-widgets/base",
            "_view_module_version": "1.2.0",
            "_view_name": "StyleView",
            "description_width": ""
          }
        },
        "36ebfa7bc3344cf7a104ba67a8cb7d71": {
          "model_module": "@jupyter-widgets/base",
          "model_name": "LayoutModel",
          "model_module_version": "1.2.0",
          "state": {
            "_model_module": "@jupyter-widgets/base",
            "_model_module_version": "1.2.0",
            "_model_name": "LayoutModel",
            "_view_count": null,
            "_view_module": "@jupyter-widgets/base",
            "_view_module_version": "1.2.0",
            "_view_name": "LayoutView",
            "align_content": null,
            "align_items": null,
            "align_self": null,
            "border": null,
            "bottom": null,
            "display": null,
            "flex": null,
            "flex_flow": null,
            "grid_area": null,
            "grid_auto_columns": null,
            "grid_auto_flow": null,
            "grid_auto_rows": null,
            "grid_column": null,
            "grid_gap": null,
            "grid_row": null,
            "grid_template_areas": null,
            "grid_template_columns": null,
            "grid_template_rows": null,
            "height": null,
            "justify_content": null,
            "justify_items": null,
            "left": null,
            "margin": null,
            "max_height": null,
            "max_width": null,
            "min_height": null,
            "min_width": null,
            "object_fit": null,
            "object_position": null,
            "order": null,
            "overflow": null,
            "overflow_x": null,
            "overflow_y": null,
            "padding": null,
            "right": null,
            "top": null,
            "visibility": null,
            "width": null
          }
        },
        "a58c686bb641472ca82d33bf38946345": {
          "model_module": "@jupyter-widgets/controls",
          "model_name": "ProgressStyleModel",
          "model_module_version": "1.5.0",
          "state": {
            "_model_module": "@jupyter-widgets/controls",
            "_model_module_version": "1.5.0",
            "_model_name": "ProgressStyleModel",
            "_view_count": null,
            "_view_module": "@jupyter-widgets/base",
            "_view_module_version": "1.2.0",
            "_view_name": "StyleView",
            "bar_color": null,
            "description_width": ""
          }
        },
        "41cfd1a2a35344f4bbd99d39ac102ce7": {
          "model_module": "@jupyter-widgets/base",
          "model_name": "LayoutModel",
          "model_module_version": "1.2.0",
          "state": {
            "_model_module": "@jupyter-widgets/base",
            "_model_module_version": "1.2.0",
            "_model_name": "LayoutModel",
            "_view_count": null,
            "_view_module": "@jupyter-widgets/base",
            "_view_module_version": "1.2.0",
            "_view_name": "LayoutView",
            "align_content": null,
            "align_items": null,
            "align_self": null,
            "border": null,
            "bottom": null,
            "display": null,
            "flex": null,
            "flex_flow": null,
            "grid_area": null,
            "grid_auto_columns": null,
            "grid_auto_flow": null,
            "grid_auto_rows": null,
            "grid_column": null,
            "grid_gap": null,
            "grid_row": null,
            "grid_template_areas": null,
            "grid_template_columns": null,
            "grid_template_rows": null,
            "height": null,
            "justify_content": null,
            "justify_items": null,
            "left": null,
            "margin": null,
            "max_height": null,
            "max_width": null,
            "min_height": null,
            "min_width": null,
            "object_fit": null,
            "object_position": null,
            "order": null,
            "overflow": null,
            "overflow_x": null,
            "overflow_y": null,
            "padding": null,
            "right": null,
            "top": null,
            "visibility": null,
            "width": null
          }
        },
        "45c7750e8bef401fa99da35384d44c56": {
          "model_module": "@jupyter-widgets/controls",
          "model_name": "DescriptionStyleModel",
          "model_module_version": "1.5.0",
          "state": {
            "_model_module": "@jupyter-widgets/controls",
            "_model_module_version": "1.5.0",
            "_model_name": "DescriptionStyleModel",
            "_view_count": null,
            "_view_module": "@jupyter-widgets/base",
            "_view_module_version": "1.2.0",
            "_view_name": "StyleView",
            "description_width": ""
          }
        },
        "d6516054697d4871abc852d7ef9c3524": {
          "model_module": "@jupyter-widgets/controls",
          "model_name": "HBoxModel",
          "model_module_version": "1.5.0",
          "state": {
            "_dom_classes": [],
            "_model_module": "@jupyter-widgets/controls",
            "_model_module_version": "1.5.0",
            "_model_name": "HBoxModel",
            "_view_count": null,
            "_view_module": "@jupyter-widgets/controls",
            "_view_module_version": "1.5.0",
            "_view_name": "HBoxView",
            "box_style": "",
            "children": [
              "IPY_MODEL_30af35bbecc341cba378c2c75eaacd11",
              "IPY_MODEL_f4be156b00364240903b7dda83b178f7",
              "IPY_MODEL_cf1b83629bd6465fb44771787d8a43e5"
            ],
            "layout": "IPY_MODEL_b9d618eea3294ae3ba1d02e682d12a51"
          }
        },
        "30af35bbecc341cba378c2c75eaacd11": {
          "model_module": "@jupyter-widgets/controls",
          "model_name": "HTMLModel",
          "model_module_version": "1.5.0",
          "state": {
            "_dom_classes": [],
            "_model_module": "@jupyter-widgets/controls",
            "_model_module_version": "1.5.0",
            "_model_name": "HTMLModel",
            "_view_count": null,
            "_view_module": "@jupyter-widgets/controls",
            "_view_module_version": "1.5.0",
            "_view_name": "HTMLView",
            "description": "",
            "description_tooltip": null,
            "layout": "IPY_MODEL_d851655b626743b6893cea27673c25d1",
            "placeholder": "​",
            "style": "IPY_MODEL_b75a401c3a4c4f03b6d481b18cb4ddcb",
            "value": "added_tokens.json: 100%"
          }
        },
        "f4be156b00364240903b7dda83b178f7": {
          "model_module": "@jupyter-widgets/controls",
          "model_name": "FloatProgressModel",
          "model_module_version": "1.5.0",
          "state": {
            "_dom_classes": [],
            "_model_module": "@jupyter-widgets/controls",
            "_model_module_version": "1.5.0",
            "_model_name": "FloatProgressModel",
            "_view_count": null,
            "_view_module": "@jupyter-widgets/controls",
            "_view_module_version": "1.5.0",
            "_view_name": "ProgressView",
            "bar_style": "success",
            "description": "",
            "description_tooltip": null,
            "layout": "IPY_MODEL_42bc1d69579a47158a8be3d4ecb4139d",
            "max": 20,
            "min": 0,
            "orientation": "horizontal",
            "style": "IPY_MODEL_d54c5f3aa263453497b2240cd99fc45e",
            "value": 20
          }
        },
        "cf1b83629bd6465fb44771787d8a43e5": {
          "model_module": "@jupyter-widgets/controls",
          "model_name": "HTMLModel",
          "model_module_version": "1.5.0",
          "state": {
            "_dom_classes": [],
            "_model_module": "@jupyter-widgets/controls",
            "_model_module_version": "1.5.0",
            "_model_name": "HTMLModel",
            "_view_count": null,
            "_view_module": "@jupyter-widgets/controls",
            "_view_module_version": "1.5.0",
            "_view_name": "HTMLView",
            "description": "",
            "description_tooltip": null,
            "layout": "IPY_MODEL_6c7791847d5e406482cba2d32691e55f",
            "placeholder": "​",
            "style": "IPY_MODEL_857d8defa3f940f491c238586ea16877",
            "value": " 20.0/20.0 [00:00&lt;00:00, 699B/s]"
          }
        },
        "b9d618eea3294ae3ba1d02e682d12a51": {
          "model_module": "@jupyter-widgets/base",
          "model_name": "LayoutModel",
          "model_module_version": "1.2.0",
          "state": {
            "_model_module": "@jupyter-widgets/base",
            "_model_module_version": "1.2.0",
            "_model_name": "LayoutModel",
            "_view_count": null,
            "_view_module": "@jupyter-widgets/base",
            "_view_module_version": "1.2.0",
            "_view_name": "LayoutView",
            "align_content": null,
            "align_items": null,
            "align_self": null,
            "border": null,
            "bottom": null,
            "display": null,
            "flex": null,
            "flex_flow": null,
            "grid_area": null,
            "grid_auto_columns": null,
            "grid_auto_flow": null,
            "grid_auto_rows": null,
            "grid_column": null,
            "grid_gap": null,
            "grid_row": null,
            "grid_template_areas": null,
            "grid_template_columns": null,
            "grid_template_rows": null,
            "height": null,
            "justify_content": null,
            "justify_items": null,
            "left": null,
            "margin": null,
            "max_height": null,
            "max_width": null,
            "min_height": null,
            "min_width": null,
            "object_fit": null,
            "object_position": null,
            "order": null,
            "overflow": null,
            "overflow_x": null,
            "overflow_y": null,
            "padding": null,
            "right": null,
            "top": null,
            "visibility": null,
            "width": null
          }
        },
        "d851655b626743b6893cea27673c25d1": {
          "model_module": "@jupyter-widgets/base",
          "model_name": "LayoutModel",
          "model_module_version": "1.2.0",
          "state": {
            "_model_module": "@jupyter-widgets/base",
            "_model_module_version": "1.2.0",
            "_model_name": "LayoutModel",
            "_view_count": null,
            "_view_module": "@jupyter-widgets/base",
            "_view_module_version": "1.2.0",
            "_view_name": "LayoutView",
            "align_content": null,
            "align_items": null,
            "align_self": null,
            "border": null,
            "bottom": null,
            "display": null,
            "flex": null,
            "flex_flow": null,
            "grid_area": null,
            "grid_auto_columns": null,
            "grid_auto_flow": null,
            "grid_auto_rows": null,
            "grid_column": null,
            "grid_gap": null,
            "grid_row": null,
            "grid_template_areas": null,
            "grid_template_columns": null,
            "grid_template_rows": null,
            "height": null,
            "justify_content": null,
            "justify_items": null,
            "left": null,
            "margin": null,
            "max_height": null,
            "max_width": null,
            "min_height": null,
            "min_width": null,
            "object_fit": null,
            "object_position": null,
            "order": null,
            "overflow": null,
            "overflow_x": null,
            "overflow_y": null,
            "padding": null,
            "right": null,
            "top": null,
            "visibility": null,
            "width": null
          }
        },
        "b75a401c3a4c4f03b6d481b18cb4ddcb": {
          "model_module": "@jupyter-widgets/controls",
          "model_name": "DescriptionStyleModel",
          "model_module_version": "1.5.0",
          "state": {
            "_model_module": "@jupyter-widgets/controls",
            "_model_module_version": "1.5.0",
            "_model_name": "DescriptionStyleModel",
            "_view_count": null,
            "_view_module": "@jupyter-widgets/base",
            "_view_module_version": "1.2.0",
            "_view_name": "StyleView",
            "description_width": ""
          }
        },
        "42bc1d69579a47158a8be3d4ecb4139d": {
          "model_module": "@jupyter-widgets/base",
          "model_name": "LayoutModel",
          "model_module_version": "1.2.0",
          "state": {
            "_model_module": "@jupyter-widgets/base",
            "_model_module_version": "1.2.0",
            "_model_name": "LayoutModel",
            "_view_count": null,
            "_view_module": "@jupyter-widgets/base",
            "_view_module_version": "1.2.0",
            "_view_name": "LayoutView",
            "align_content": null,
            "align_items": null,
            "align_self": null,
            "border": null,
            "bottom": null,
            "display": null,
            "flex": null,
            "flex_flow": null,
            "grid_area": null,
            "grid_auto_columns": null,
            "grid_auto_flow": null,
            "grid_auto_rows": null,
            "grid_column": null,
            "grid_gap": null,
            "grid_row": null,
            "grid_template_areas": null,
            "grid_template_columns": null,
            "grid_template_rows": null,
            "height": null,
            "justify_content": null,
            "justify_items": null,
            "left": null,
            "margin": null,
            "max_height": null,
            "max_width": null,
            "min_height": null,
            "min_width": null,
            "object_fit": null,
            "object_position": null,
            "order": null,
            "overflow": null,
            "overflow_x": null,
            "overflow_y": null,
            "padding": null,
            "right": null,
            "top": null,
            "visibility": null,
            "width": null
          }
        },
        "d54c5f3aa263453497b2240cd99fc45e": {
          "model_module": "@jupyter-widgets/controls",
          "model_name": "ProgressStyleModel",
          "model_module_version": "1.5.0",
          "state": {
            "_model_module": "@jupyter-widgets/controls",
            "_model_module_version": "1.5.0",
            "_model_name": "ProgressStyleModel",
            "_view_count": null,
            "_view_module": "@jupyter-widgets/base",
            "_view_module_version": "1.2.0",
            "_view_name": "StyleView",
            "bar_color": null,
            "description_width": ""
          }
        },
        "6c7791847d5e406482cba2d32691e55f": {
          "model_module": "@jupyter-widgets/base",
          "model_name": "LayoutModel",
          "model_module_version": "1.2.0",
          "state": {
            "_model_module": "@jupyter-widgets/base",
            "_model_module_version": "1.2.0",
            "_model_name": "LayoutModel",
            "_view_count": null,
            "_view_module": "@jupyter-widgets/base",
            "_view_module_version": "1.2.0",
            "_view_name": "LayoutView",
            "align_content": null,
            "align_items": null,
            "align_self": null,
            "border": null,
            "bottom": null,
            "display": null,
            "flex": null,
            "flex_flow": null,
            "grid_area": null,
            "grid_auto_columns": null,
            "grid_auto_flow": null,
            "grid_auto_rows": null,
            "grid_column": null,
            "grid_gap": null,
            "grid_row": null,
            "grid_template_areas": null,
            "grid_template_columns": null,
            "grid_template_rows": null,
            "height": null,
            "justify_content": null,
            "justify_items": null,
            "left": null,
            "margin": null,
            "max_height": null,
            "max_width": null,
            "min_height": null,
            "min_width": null,
            "object_fit": null,
            "object_position": null,
            "order": null,
            "overflow": null,
            "overflow_x": null,
            "overflow_y": null,
            "padding": null,
            "right": null,
            "top": null,
            "visibility": null,
            "width": null
          }
        },
        "857d8defa3f940f491c238586ea16877": {
          "model_module": "@jupyter-widgets/controls",
          "model_name": "DescriptionStyleModel",
          "model_module_version": "1.5.0",
          "state": {
            "_model_module": "@jupyter-widgets/controls",
            "_model_module_version": "1.5.0",
            "_model_name": "DescriptionStyleModel",
            "_view_count": null,
            "_view_module": "@jupyter-widgets/base",
            "_view_module_version": "1.2.0",
            "_view_name": "StyleView",
            "description_width": ""
          }
        },
        "9562a74052a44e6e9b20b420fb74afb5": {
          "model_module": "@jupyter-widgets/controls",
          "model_name": "HBoxModel",
          "model_module_version": "1.5.0",
          "state": {
            "_dom_classes": [],
            "_model_module": "@jupyter-widgets/controls",
            "_model_module_version": "1.5.0",
            "_model_name": "HBoxModel",
            "_view_count": null,
            "_view_module": "@jupyter-widgets/controls",
            "_view_module_version": "1.5.0",
            "_view_name": "HBoxView",
            "box_style": "",
            "children": [
              "IPY_MODEL_7a1370c23f1d47bdbdeb1d9fc2b85608",
              "IPY_MODEL_fbf9b9561881407faeeb2478173a5433",
              "IPY_MODEL_ec7df10dea25415fa58d74ff3ba20883"
            ],
            "layout": "IPY_MODEL_35d989b506f24501ba67ce74fd72cd8d"
          }
        },
        "7a1370c23f1d47bdbdeb1d9fc2b85608": {
          "model_module": "@jupyter-widgets/controls",
          "model_name": "HTMLModel",
          "model_module_version": "1.5.0",
          "state": {
            "_dom_classes": [],
            "_model_module": "@jupyter-widgets/controls",
            "_model_module_version": "1.5.0",
            "_model_name": "HTMLModel",
            "_view_count": null,
            "_view_module": "@jupyter-widgets/controls",
            "_view_module_version": "1.5.0",
            "_view_name": "HTMLView",
            "description": "",
            "description_tooltip": null,
            "layout": "IPY_MODEL_1a0f062185c34b5faf8ac56214c56f13",
            "placeholder": "​",
            "style": "IPY_MODEL_e3027fd936b3411dbb357e9708f41e08",
            "value": "special_tokens_map.json: 100%"
          }
        },
        "fbf9b9561881407faeeb2478173a5433": {
          "model_module": "@jupyter-widgets/controls",
          "model_name": "FloatProgressModel",
          "model_module_version": "1.5.0",
          "state": {
            "_dom_classes": [],
            "_model_module": "@jupyter-widgets/controls",
            "_model_module_version": "1.5.0",
            "_model_name": "FloatProgressModel",
            "_view_count": null,
            "_view_module": "@jupyter-widgets/controls",
            "_view_module_version": "1.5.0",
            "_view_name": "ProgressView",
            "bar_style": "success",
            "description": "",
            "description_tooltip": null,
            "layout": "IPY_MODEL_11b91aee78bc42418ac6035f1f17e178",
            "max": 123,
            "min": 0,
            "orientation": "horizontal",
            "style": "IPY_MODEL_aaf2b97cc9f24ca78a2092d8dba28e90",
            "value": 123
          }
        },
        "ec7df10dea25415fa58d74ff3ba20883": {
          "model_module": "@jupyter-widgets/controls",
          "model_name": "HTMLModel",
          "model_module_version": "1.5.0",
          "state": {
            "_dom_classes": [],
            "_model_module": "@jupyter-widgets/controls",
            "_model_module_version": "1.5.0",
            "_model_name": "HTMLModel",
            "_view_count": null,
            "_view_module": "@jupyter-widgets/controls",
            "_view_module_version": "1.5.0",
            "_view_name": "HTMLView",
            "description": "",
            "description_tooltip": null,
            "layout": "IPY_MODEL_6c4738a480834c09b7d0044c09fc2a17",
            "placeholder": "​",
            "style": "IPY_MODEL_704bda16e7f34064b63edf0f1dc1919c",
            "value": " 123/123 [00:00&lt;00:00, 3.92kB/s]"
          }
        },
        "35d989b506f24501ba67ce74fd72cd8d": {
          "model_module": "@jupyter-widgets/base",
          "model_name": "LayoutModel",
          "model_module_version": "1.2.0",
          "state": {
            "_model_module": "@jupyter-widgets/base",
            "_model_module_version": "1.2.0",
            "_model_name": "LayoutModel",
            "_view_count": null,
            "_view_module": "@jupyter-widgets/base",
            "_view_module_version": "1.2.0",
            "_view_name": "LayoutView",
            "align_content": null,
            "align_items": null,
            "align_self": null,
            "border": null,
            "bottom": null,
            "display": null,
            "flex": null,
            "flex_flow": null,
            "grid_area": null,
            "grid_auto_columns": null,
            "grid_auto_flow": null,
            "grid_auto_rows": null,
            "grid_column": null,
            "grid_gap": null,
            "grid_row": null,
            "grid_template_areas": null,
            "grid_template_columns": null,
            "grid_template_rows": null,
            "height": null,
            "justify_content": null,
            "justify_items": null,
            "left": null,
            "margin": null,
            "max_height": null,
            "max_width": null,
            "min_height": null,
            "min_width": null,
            "object_fit": null,
            "object_position": null,
            "order": null,
            "overflow": null,
            "overflow_x": null,
            "overflow_y": null,
            "padding": null,
            "right": null,
            "top": null,
            "visibility": null,
            "width": null
          }
        },
        "1a0f062185c34b5faf8ac56214c56f13": {
          "model_module": "@jupyter-widgets/base",
          "model_name": "LayoutModel",
          "model_module_version": "1.2.0",
          "state": {
            "_model_module": "@jupyter-widgets/base",
            "_model_module_version": "1.2.0",
            "_model_name": "LayoutModel",
            "_view_count": null,
            "_view_module": "@jupyter-widgets/base",
            "_view_module_version": "1.2.0",
            "_view_name": "LayoutView",
            "align_content": null,
            "align_items": null,
            "align_self": null,
            "border": null,
            "bottom": null,
            "display": null,
            "flex": null,
            "flex_flow": null,
            "grid_area": null,
            "grid_auto_columns": null,
            "grid_auto_flow": null,
            "grid_auto_rows": null,
            "grid_column": null,
            "grid_gap": null,
            "grid_row": null,
            "grid_template_areas": null,
            "grid_template_columns": null,
            "grid_template_rows": null,
            "height": null,
            "justify_content": null,
            "justify_items": null,
            "left": null,
            "margin": null,
            "max_height": null,
            "max_width": null,
            "min_height": null,
            "min_width": null,
            "object_fit": null,
            "object_position": null,
            "order": null,
            "overflow": null,
            "overflow_x": null,
            "overflow_y": null,
            "padding": null,
            "right": null,
            "top": null,
            "visibility": null,
            "width": null
          }
        },
        "e3027fd936b3411dbb357e9708f41e08": {
          "model_module": "@jupyter-widgets/controls",
          "model_name": "DescriptionStyleModel",
          "model_module_version": "1.5.0",
          "state": {
            "_model_module": "@jupyter-widgets/controls",
            "_model_module_version": "1.5.0",
            "_model_name": "DescriptionStyleModel",
            "_view_count": null,
            "_view_module": "@jupyter-widgets/base",
            "_view_module_version": "1.2.0",
            "_view_name": "StyleView",
            "description_width": ""
          }
        },
        "11b91aee78bc42418ac6035f1f17e178": {
          "model_module": "@jupyter-widgets/base",
          "model_name": "LayoutModel",
          "model_module_version": "1.2.0",
          "state": {
            "_model_module": "@jupyter-widgets/base",
            "_model_module_version": "1.2.0",
            "_model_name": "LayoutModel",
            "_view_count": null,
            "_view_module": "@jupyter-widgets/base",
            "_view_module_version": "1.2.0",
            "_view_name": "LayoutView",
            "align_content": null,
            "align_items": null,
            "align_self": null,
            "border": null,
            "bottom": null,
            "display": null,
            "flex": null,
            "flex_flow": null,
            "grid_area": null,
            "grid_auto_columns": null,
            "grid_auto_flow": null,
            "grid_auto_rows": null,
            "grid_column": null,
            "grid_gap": null,
            "grid_row": null,
            "grid_template_areas": null,
            "grid_template_columns": null,
            "grid_template_rows": null,
            "height": null,
            "justify_content": null,
            "justify_items": null,
            "left": null,
            "margin": null,
            "max_height": null,
            "max_width": null,
            "min_height": null,
            "min_width": null,
            "object_fit": null,
            "object_position": null,
            "order": null,
            "overflow": null,
            "overflow_x": null,
            "overflow_y": null,
            "padding": null,
            "right": null,
            "top": null,
            "visibility": null,
            "width": null
          }
        },
        "aaf2b97cc9f24ca78a2092d8dba28e90": {
          "model_module": "@jupyter-widgets/controls",
          "model_name": "ProgressStyleModel",
          "model_module_version": "1.5.0",
          "state": {
            "_model_module": "@jupyter-widgets/controls",
            "_model_module_version": "1.5.0",
            "_model_name": "ProgressStyleModel",
            "_view_count": null,
            "_view_module": "@jupyter-widgets/base",
            "_view_module_version": "1.2.0",
            "_view_name": "StyleView",
            "bar_color": null,
            "description_width": ""
          }
        },
        "6c4738a480834c09b7d0044c09fc2a17": {
          "model_module": "@jupyter-widgets/base",
          "model_name": "LayoutModel",
          "model_module_version": "1.2.0",
          "state": {
            "_model_module": "@jupyter-widgets/base",
            "_model_module_version": "1.2.0",
            "_model_name": "LayoutModel",
            "_view_count": null,
            "_view_module": "@jupyter-widgets/base",
            "_view_module_version": "1.2.0",
            "_view_name": "LayoutView",
            "align_content": null,
            "align_items": null,
            "align_self": null,
            "border": null,
            "bottom": null,
            "display": null,
            "flex": null,
            "flex_flow": null,
            "grid_area": null,
            "grid_auto_columns": null,
            "grid_auto_flow": null,
            "grid_auto_rows": null,
            "grid_column": null,
            "grid_gap": null,
            "grid_row": null,
            "grid_template_areas": null,
            "grid_template_columns": null,
            "grid_template_rows": null,
            "height": null,
            "justify_content": null,
            "justify_items": null,
            "left": null,
            "margin": null,
            "max_height": null,
            "max_width": null,
            "min_height": null,
            "min_width": null,
            "object_fit": null,
            "object_position": null,
            "order": null,
            "overflow": null,
            "overflow_x": null,
            "overflow_y": null,
            "padding": null,
            "right": null,
            "top": null,
            "visibility": null,
            "width": null
          }
        },
        "704bda16e7f34064b63edf0f1dc1919c": {
          "model_module": "@jupyter-widgets/controls",
          "model_name": "DescriptionStyleModel",
          "model_module_version": "1.5.0",
          "state": {
            "_model_module": "@jupyter-widgets/controls",
            "_model_module_version": "1.5.0",
            "_model_name": "DescriptionStyleModel",
            "_view_count": null,
            "_view_module": "@jupyter-widgets/base",
            "_view_module_version": "1.2.0",
            "_view_name": "StyleView",
            "description_width": ""
          }
        },
        "b292af88422a4171bd03c8d4edd57150": {
          "model_module": "@jupyter-widgets/controls",
          "model_name": "HBoxModel",
          "model_module_version": "1.5.0",
          "state": {
            "_dom_classes": [],
            "_model_module": "@jupyter-widgets/controls",
            "_model_module_version": "1.5.0",
            "_model_name": "HBoxModel",
            "_view_count": null,
            "_view_module": "@jupyter-widgets/controls",
            "_view_module_version": "1.5.0",
            "_view_name": "HBoxView",
            "box_style": "",
            "children": [
              "IPY_MODEL_d85f888cf96a444486131ccdde1dc068",
              "IPY_MODEL_f71c7fb83d274f46a5b9c78a11fc4544",
              "IPY_MODEL_7c9382392f82400e986dfbff7198b911"
            ],
            "layout": "IPY_MODEL_7cfaa67fb9cb4a8ea4cf8aa505b92189"
          }
        },
        "d85f888cf96a444486131ccdde1dc068": {
          "model_module": "@jupyter-widgets/controls",
          "model_name": "HTMLModel",
          "model_module_version": "1.5.0",
          "state": {
            "_dom_classes": [],
            "_model_module": "@jupyter-widgets/controls",
            "_model_module_version": "1.5.0",
            "_model_name": "HTMLModel",
            "_view_count": null,
            "_view_module": "@jupyter-widgets/controls",
            "_view_module_version": "1.5.0",
            "_view_name": "HTMLView",
            "description": "",
            "description_tooltip": null,
            "layout": "IPY_MODEL_974f9d3fd55e42c885fc84c7a00c5852",
            "placeholder": "​",
            "style": "IPY_MODEL_9dc62bcec6a4400a91b7c202a04ad851",
            "value": "config.json: 100%"
          }
        },
        "f71c7fb83d274f46a5b9c78a11fc4544": {
          "model_module": "@jupyter-widgets/controls",
          "model_name": "FloatProgressModel",
          "model_module_version": "1.5.0",
          "state": {
            "_dom_classes": [],
            "_model_module": "@jupyter-widgets/controls",
            "_model_module_version": "1.5.0",
            "_model_name": "FloatProgressModel",
            "_view_count": null,
            "_view_module": "@jupyter-widgets/controls",
            "_view_module_version": "1.5.0",
            "_view_name": "ProgressView",
            "bar_style": "success",
            "description": "",
            "description_tooltip": null,
            "layout": "IPY_MODEL_76b4849d8d534148bfdd96135bfcd55e",
            "max": 1541,
            "min": 0,
            "orientation": "horizontal",
            "style": "IPY_MODEL_d4b162905f7849f29ad0e73c552a8bd4",
            "value": 1541
          }
        },
        "7c9382392f82400e986dfbff7198b911": {
          "model_module": "@jupyter-widgets/controls",
          "model_name": "HTMLModel",
          "model_module_version": "1.5.0",
          "state": {
            "_dom_classes": [],
            "_model_module": "@jupyter-widgets/controls",
            "_model_module_version": "1.5.0",
            "_model_name": "HTMLModel",
            "_view_count": null,
            "_view_module": "@jupyter-widgets/controls",
            "_view_module_version": "1.5.0",
            "_view_name": "HTMLView",
            "description": "",
            "description_tooltip": null,
            "layout": "IPY_MODEL_9cd4b2532fe74efbbe1c39bd51e4c385",
            "placeholder": "​",
            "style": "IPY_MODEL_94d378032b51477baf34bf723e7211f5",
            "value": " 1.54k/1.54k [00:00&lt;00:00, 49.1kB/s]"
          }
        },
        "7cfaa67fb9cb4a8ea4cf8aa505b92189": {
          "model_module": "@jupyter-widgets/base",
          "model_name": "LayoutModel",
          "model_module_version": "1.2.0",
          "state": {
            "_model_module": "@jupyter-widgets/base",
            "_model_module_version": "1.2.0",
            "_model_name": "LayoutModel",
            "_view_count": null,
            "_view_module": "@jupyter-widgets/base",
            "_view_module_version": "1.2.0",
            "_view_name": "LayoutView",
            "align_content": null,
            "align_items": null,
            "align_self": null,
            "border": null,
            "bottom": null,
            "display": null,
            "flex": null,
            "flex_flow": null,
            "grid_area": null,
            "grid_auto_columns": null,
            "grid_auto_flow": null,
            "grid_auto_rows": null,
            "grid_column": null,
            "grid_gap": null,
            "grid_row": null,
            "grid_template_areas": null,
            "grid_template_columns": null,
            "grid_template_rows": null,
            "height": null,
            "justify_content": null,
            "justify_items": null,
            "left": null,
            "margin": null,
            "max_height": null,
            "max_width": null,
            "min_height": null,
            "min_width": null,
            "object_fit": null,
            "object_position": null,
            "order": null,
            "overflow": null,
            "overflow_x": null,
            "overflow_y": null,
            "padding": null,
            "right": null,
            "top": null,
            "visibility": null,
            "width": null
          }
        },
        "974f9d3fd55e42c885fc84c7a00c5852": {
          "model_module": "@jupyter-widgets/base",
          "model_name": "LayoutModel",
          "model_module_version": "1.2.0",
          "state": {
            "_model_module": "@jupyter-widgets/base",
            "_model_module_version": "1.2.0",
            "_model_name": "LayoutModel",
            "_view_count": null,
            "_view_module": "@jupyter-widgets/base",
            "_view_module_version": "1.2.0",
            "_view_name": "LayoutView",
            "align_content": null,
            "align_items": null,
            "align_self": null,
            "border": null,
            "bottom": null,
            "display": null,
            "flex": null,
            "flex_flow": null,
            "grid_area": null,
            "grid_auto_columns": null,
            "grid_auto_flow": null,
            "grid_auto_rows": null,
            "grid_column": null,
            "grid_gap": null,
            "grid_row": null,
            "grid_template_areas": null,
            "grid_template_columns": null,
            "grid_template_rows": null,
            "height": null,
            "justify_content": null,
            "justify_items": null,
            "left": null,
            "margin": null,
            "max_height": null,
            "max_width": null,
            "min_height": null,
            "min_width": null,
            "object_fit": null,
            "object_position": null,
            "order": null,
            "overflow": null,
            "overflow_x": null,
            "overflow_y": null,
            "padding": null,
            "right": null,
            "top": null,
            "visibility": null,
            "width": null
          }
        },
        "9dc62bcec6a4400a91b7c202a04ad851": {
          "model_module": "@jupyter-widgets/controls",
          "model_name": "DescriptionStyleModel",
          "model_module_version": "1.5.0",
          "state": {
            "_model_module": "@jupyter-widgets/controls",
            "_model_module_version": "1.5.0",
            "_model_name": "DescriptionStyleModel",
            "_view_count": null,
            "_view_module": "@jupyter-widgets/base",
            "_view_module_version": "1.2.0",
            "_view_name": "StyleView",
            "description_width": ""
          }
        },
        "76b4849d8d534148bfdd96135bfcd55e": {
          "model_module": "@jupyter-widgets/base",
          "model_name": "LayoutModel",
          "model_module_version": "1.2.0",
          "state": {
            "_model_module": "@jupyter-widgets/base",
            "_model_module_version": "1.2.0",
            "_model_name": "LayoutModel",
            "_view_count": null,
            "_view_module": "@jupyter-widgets/base",
            "_view_module_version": "1.2.0",
            "_view_name": "LayoutView",
            "align_content": null,
            "align_items": null,
            "align_self": null,
            "border": null,
            "bottom": null,
            "display": null,
            "flex": null,
            "flex_flow": null,
            "grid_area": null,
            "grid_auto_columns": null,
            "grid_auto_flow": null,
            "grid_auto_rows": null,
            "grid_column": null,
            "grid_gap": null,
            "grid_row": null,
            "grid_template_areas": null,
            "grid_template_columns": null,
            "grid_template_rows": null,
            "height": null,
            "justify_content": null,
            "justify_items": null,
            "left": null,
            "margin": null,
            "max_height": null,
            "max_width": null,
            "min_height": null,
            "min_width": null,
            "object_fit": null,
            "object_position": null,
            "order": null,
            "overflow": null,
            "overflow_x": null,
            "overflow_y": null,
            "padding": null,
            "right": null,
            "top": null,
            "visibility": null,
            "width": null
          }
        },
        "d4b162905f7849f29ad0e73c552a8bd4": {
          "model_module": "@jupyter-widgets/controls",
          "model_name": "ProgressStyleModel",
          "model_module_version": "1.5.0",
          "state": {
            "_model_module": "@jupyter-widgets/controls",
            "_model_module_version": "1.5.0",
            "_model_name": "ProgressStyleModel",
            "_view_count": null,
            "_view_module": "@jupyter-widgets/base",
            "_view_module_version": "1.2.0",
            "_view_name": "StyleView",
            "bar_color": null,
            "description_width": ""
          }
        },
        "9cd4b2532fe74efbbe1c39bd51e4c385": {
          "model_module": "@jupyter-widgets/base",
          "model_name": "LayoutModel",
          "model_module_version": "1.2.0",
          "state": {
            "_model_module": "@jupyter-widgets/base",
            "_model_module_version": "1.2.0",
            "_model_name": "LayoutModel",
            "_view_count": null,
            "_view_module": "@jupyter-widgets/base",
            "_view_module_version": "1.2.0",
            "_view_name": "LayoutView",
            "align_content": null,
            "align_items": null,
            "align_self": null,
            "border": null,
            "bottom": null,
            "display": null,
            "flex": null,
            "flex_flow": null,
            "grid_area": null,
            "grid_auto_columns": null,
            "grid_auto_flow": null,
            "grid_auto_rows": null,
            "grid_column": null,
            "grid_gap": null,
            "grid_row": null,
            "grid_template_areas": null,
            "grid_template_columns": null,
            "grid_template_rows": null,
            "height": null,
            "justify_content": null,
            "justify_items": null,
            "left": null,
            "margin": null,
            "max_height": null,
            "max_width": null,
            "min_height": null,
            "min_width": null,
            "object_fit": null,
            "object_position": null,
            "order": null,
            "overflow": null,
            "overflow_x": null,
            "overflow_y": null,
            "padding": null,
            "right": null,
            "top": null,
            "visibility": null,
            "width": null
          }
        },
        "94d378032b51477baf34bf723e7211f5": {
          "model_module": "@jupyter-widgets/controls",
          "model_name": "DescriptionStyleModel",
          "model_module_version": "1.5.0",
          "state": {
            "_model_module": "@jupyter-widgets/controls",
            "_model_module_version": "1.5.0",
            "_model_name": "DescriptionStyleModel",
            "_view_count": null,
            "_view_module": "@jupyter-widgets/base",
            "_view_module_version": "1.2.0",
            "_view_name": "StyleView",
            "description_width": ""
          }
        },
        "96e718b4befa43a0ad15633fc47f27a1": {
          "model_module": "@jupyter-widgets/controls",
          "model_name": "HBoxModel",
          "model_module_version": "1.5.0",
          "state": {
            "_dom_classes": [],
            "_model_module": "@jupyter-widgets/controls",
            "_model_module_version": "1.5.0",
            "_model_name": "HBoxModel",
            "_view_count": null,
            "_view_module": "@jupyter-widgets/controls",
            "_view_module_version": "1.5.0",
            "_view_name": "HBoxView",
            "box_style": "",
            "children": [
              "IPY_MODEL_e13beeed327f4ba1b589639db87d092c",
              "IPY_MODEL_77896cd2481a4eaa9ab78a2b9481c729",
              "IPY_MODEL_0690197f240f4bcd9a40cbb5180f83fd"
            ],
            "layout": "IPY_MODEL_1816ad6f8c6d40bd8cab9d6d45d00469"
          }
        },
        "e13beeed327f4ba1b589639db87d092c": {
          "model_module": "@jupyter-widgets/controls",
          "model_name": "HTMLModel",
          "model_module_version": "1.5.0",
          "state": {
            "_dom_classes": [],
            "_model_module": "@jupyter-widgets/controls",
            "_model_module_version": "1.5.0",
            "_model_name": "HTMLModel",
            "_view_count": null,
            "_view_module": "@jupyter-widgets/controls",
            "_view_module_version": "1.5.0",
            "_view_name": "HTMLView",
            "description": "",
            "description_tooltip": null,
            "layout": "IPY_MODEL_565beac869474de586281cfce011b26c",
            "placeholder": "​",
            "style": "IPY_MODEL_39587e1a7fba4890a38678a83b33688a",
            "value": "pytorch_model.bin: 100%"
          }
        },
        "77896cd2481a4eaa9ab78a2b9481c729": {
          "model_module": "@jupyter-widgets/controls",
          "model_name": "FloatProgressModel",
          "model_module_version": "1.5.0",
          "state": {
            "_dom_classes": [],
            "_model_module": "@jupyter-widgets/controls",
            "_model_module_version": "1.5.0",
            "_model_name": "FloatProgressModel",
            "_view_count": null,
            "_view_module": "@jupyter-widgets/controls",
            "_view_module_version": "1.5.0",
            "_view_name": "ProgressView",
            "bar_style": "success",
            "description": "",
            "description_tooltip": null,
            "layout": "IPY_MODEL_116baf410d06453ba8320b34ae45d049",
            "max": 891616401,
            "min": 0,
            "orientation": "horizontal",
            "style": "IPY_MODEL_e5fcb2bcda8e4ad2be105c84a9ba2b70",
            "value": 891616401
          }
        },
        "0690197f240f4bcd9a40cbb5180f83fd": {
          "model_module": "@jupyter-widgets/controls",
          "model_name": "HTMLModel",
          "model_module_version": "1.5.0",
          "state": {
            "_dom_classes": [],
            "_model_module": "@jupyter-widgets/controls",
            "_model_module_version": "1.5.0",
            "_model_name": "HTMLModel",
            "_view_count": null,
            "_view_module": "@jupyter-widgets/controls",
            "_view_module_version": "1.5.0",
            "_view_name": "HTMLView",
            "description": "",
            "description_tooltip": null,
            "layout": "IPY_MODEL_e6feb0ca481440508717ecb344e2eb0e",
            "placeholder": "​",
            "style": "IPY_MODEL_7940b5c8636a47caaf8c18227d3dae68",
            "value": " 892M/892M [00:15&lt;00:00, 75.6MB/s]"
          }
        },
        "1816ad6f8c6d40bd8cab9d6d45d00469": {
          "model_module": "@jupyter-widgets/base",
          "model_name": "LayoutModel",
          "model_module_version": "1.2.0",
          "state": {
            "_model_module": "@jupyter-widgets/base",
            "_model_module_version": "1.2.0",
            "_model_name": "LayoutModel",
            "_view_count": null,
            "_view_module": "@jupyter-widgets/base",
            "_view_module_version": "1.2.0",
            "_view_name": "LayoutView",
            "align_content": null,
            "align_items": null,
            "align_self": null,
            "border": null,
            "bottom": null,
            "display": null,
            "flex": null,
            "flex_flow": null,
            "grid_area": null,
            "grid_auto_columns": null,
            "grid_auto_flow": null,
            "grid_auto_rows": null,
            "grid_column": null,
            "grid_gap": null,
            "grid_row": null,
            "grid_template_areas": null,
            "grid_template_columns": null,
            "grid_template_rows": null,
            "height": null,
            "justify_content": null,
            "justify_items": null,
            "left": null,
            "margin": null,
            "max_height": null,
            "max_width": null,
            "min_height": null,
            "min_width": null,
            "object_fit": null,
            "object_position": null,
            "order": null,
            "overflow": null,
            "overflow_x": null,
            "overflow_y": null,
            "padding": null,
            "right": null,
            "top": null,
            "visibility": null,
            "width": null
          }
        },
        "565beac869474de586281cfce011b26c": {
          "model_module": "@jupyter-widgets/base",
          "model_name": "LayoutModel",
          "model_module_version": "1.2.0",
          "state": {
            "_model_module": "@jupyter-widgets/base",
            "_model_module_version": "1.2.0",
            "_model_name": "LayoutModel",
            "_view_count": null,
            "_view_module": "@jupyter-widgets/base",
            "_view_module_version": "1.2.0",
            "_view_name": "LayoutView",
            "align_content": null,
            "align_items": null,
            "align_self": null,
            "border": null,
            "bottom": null,
            "display": null,
            "flex": null,
            "flex_flow": null,
            "grid_area": null,
            "grid_auto_columns": null,
            "grid_auto_flow": null,
            "grid_auto_rows": null,
            "grid_column": null,
            "grid_gap": null,
            "grid_row": null,
            "grid_template_areas": null,
            "grid_template_columns": null,
            "grid_template_rows": null,
            "height": null,
            "justify_content": null,
            "justify_items": null,
            "left": null,
            "margin": null,
            "max_height": null,
            "max_width": null,
            "min_height": null,
            "min_width": null,
            "object_fit": null,
            "object_position": null,
            "order": null,
            "overflow": null,
            "overflow_x": null,
            "overflow_y": null,
            "padding": null,
            "right": null,
            "top": null,
            "visibility": null,
            "width": null
          }
        },
        "39587e1a7fba4890a38678a83b33688a": {
          "model_module": "@jupyter-widgets/controls",
          "model_name": "DescriptionStyleModel",
          "model_module_version": "1.5.0",
          "state": {
            "_model_module": "@jupyter-widgets/controls",
            "_model_module_version": "1.5.0",
            "_model_name": "DescriptionStyleModel",
            "_view_count": null,
            "_view_module": "@jupyter-widgets/base",
            "_view_module_version": "1.2.0",
            "_view_name": "StyleView",
            "description_width": ""
          }
        },
        "116baf410d06453ba8320b34ae45d049": {
          "model_module": "@jupyter-widgets/base",
          "model_name": "LayoutModel",
          "model_module_version": "1.2.0",
          "state": {
            "_model_module": "@jupyter-widgets/base",
            "_model_module_version": "1.2.0",
            "_model_name": "LayoutModel",
            "_view_count": null,
            "_view_module": "@jupyter-widgets/base",
            "_view_module_version": "1.2.0",
            "_view_name": "LayoutView",
            "align_content": null,
            "align_items": null,
            "align_self": null,
            "border": null,
            "bottom": null,
            "display": null,
            "flex": null,
            "flex_flow": null,
            "grid_area": null,
            "grid_auto_columns": null,
            "grid_auto_flow": null,
            "grid_auto_rows": null,
            "grid_column": null,
            "grid_gap": null,
            "grid_row": null,
            "grid_template_areas": null,
            "grid_template_columns": null,
            "grid_template_rows": null,
            "height": null,
            "justify_content": null,
            "justify_items": null,
            "left": null,
            "margin": null,
            "max_height": null,
            "max_width": null,
            "min_height": null,
            "min_width": null,
            "object_fit": null,
            "object_position": null,
            "order": null,
            "overflow": null,
            "overflow_x": null,
            "overflow_y": null,
            "padding": null,
            "right": null,
            "top": null,
            "visibility": null,
            "width": null
          }
        },
        "e5fcb2bcda8e4ad2be105c84a9ba2b70": {
          "model_module": "@jupyter-widgets/controls",
          "model_name": "ProgressStyleModel",
          "model_module_version": "1.5.0",
          "state": {
            "_model_module": "@jupyter-widgets/controls",
            "_model_module_version": "1.5.0",
            "_model_name": "ProgressStyleModel",
            "_view_count": null,
            "_view_module": "@jupyter-widgets/base",
            "_view_module_version": "1.2.0",
            "_view_name": "StyleView",
            "bar_color": null,
            "description_width": ""
          }
        },
        "e6feb0ca481440508717ecb344e2eb0e": {
          "model_module": "@jupyter-widgets/base",
          "model_name": "LayoutModel",
          "model_module_version": "1.2.0",
          "state": {
            "_model_module": "@jupyter-widgets/base",
            "_model_module_version": "1.2.0",
            "_model_name": "LayoutModel",
            "_view_count": null,
            "_view_module": "@jupyter-widgets/base",
            "_view_module_version": "1.2.0",
            "_view_name": "LayoutView",
            "align_content": null,
            "align_items": null,
            "align_self": null,
            "border": null,
            "bottom": null,
            "display": null,
            "flex": null,
            "flex_flow": null,
            "grid_area": null,
            "grid_auto_columns": null,
            "grid_auto_flow": null,
            "grid_auto_rows": null,
            "grid_column": null,
            "grid_gap": null,
            "grid_row": null,
            "grid_template_areas": null,
            "grid_template_columns": null,
            "grid_template_rows": null,
            "height": null,
            "justify_content": null,
            "justify_items": null,
            "left": null,
            "margin": null,
            "max_height": null,
            "max_width": null,
            "min_height": null,
            "min_width": null,
            "object_fit": null,
            "object_position": null,
            "order": null,
            "overflow": null,
            "overflow_x": null,
            "overflow_y": null,
            "padding": null,
            "right": null,
            "top": null,
            "visibility": null,
            "width": null
          }
        },
        "7940b5c8636a47caaf8c18227d3dae68": {
          "model_module": "@jupyter-widgets/controls",
          "model_name": "DescriptionStyleModel",
          "model_module_version": "1.5.0",
          "state": {
            "_model_module": "@jupyter-widgets/controls",
            "_model_module_version": "1.5.0",
            "_model_name": "DescriptionStyleModel",
            "_view_count": null,
            "_view_module": "@jupyter-widgets/base",
            "_view_module_version": "1.2.0",
            "_view_name": "StyleView",
            "description_width": ""
          }
        },
        "7d28fccdcce74ad7a473a1d374115fed": {
          "model_module": "@jupyter-widgets/controls",
          "model_name": "HBoxModel",
          "model_module_version": "1.5.0",
          "state": {
            "_dom_classes": [],
            "_model_module": "@jupyter-widgets/controls",
            "_model_module_version": "1.5.0",
            "_model_name": "HBoxModel",
            "_view_count": null,
            "_view_module": "@jupyter-widgets/controls",
            "_view_module_version": "1.5.0",
            "_view_name": "HBoxView",
            "box_style": "",
            "children": [
              "IPY_MODEL_3c585194e92141508846b3b5ce54d48a",
              "IPY_MODEL_6a9b309c96894a0ea704b0910d2c07aa",
              "IPY_MODEL_40759c9ffaf84d1a9ec2cf662394d1d6"
            ],
            "layout": "IPY_MODEL_3912d3be37db44ce843b5b3d728d3bb3"
          }
        },
        "3c585194e92141508846b3b5ce54d48a": {
          "model_module": "@jupyter-widgets/controls",
          "model_name": "HTMLModel",
          "model_module_version": "1.5.0",
          "state": {
            "_dom_classes": [],
            "_model_module": "@jupyter-widgets/controls",
            "_model_module_version": "1.5.0",
            "_model_name": "HTMLModel",
            "_view_count": null,
            "_view_module": "@jupyter-widgets/controls",
            "_view_module_version": "1.5.0",
            "_view_name": "HTMLView",
            "description": "",
            "description_tooltip": null,
            "layout": "IPY_MODEL_3d84208b0eed4d838b66d187955b38ef",
            "placeholder": "​",
            "style": "IPY_MODEL_a53a0a36e63248f1912362b4710f7265",
            "value": "tokenizer_config.json: 100%"
          }
        },
        "6a9b309c96894a0ea704b0910d2c07aa": {
          "model_module": "@jupyter-widgets/controls",
          "model_name": "FloatProgressModel",
          "model_module_version": "1.5.0",
          "state": {
            "_dom_classes": [],
            "_model_module": "@jupyter-widgets/controls",
            "_model_module_version": "1.5.0",
            "_model_name": "FloatProgressModel",
            "_view_count": null,
            "_view_module": "@jupyter-widgets/controls",
            "_view_module_version": "1.5.0",
            "_view_name": "ProgressView",
            "bar_style": "success",
            "description": "",
            "description_tooltip": null,
            "layout": "IPY_MODEL_2ba00a02666d40af90a07af25c5341f7",
            "max": 2405,
            "min": 0,
            "orientation": "horizontal",
            "style": "IPY_MODEL_112470f978b34e4c84dea2f35292f239",
            "value": 2405
          }
        },
        "40759c9ffaf84d1a9ec2cf662394d1d6": {
          "model_module": "@jupyter-widgets/controls",
          "model_name": "HTMLModel",
          "model_module_version": "1.5.0",
          "state": {
            "_dom_classes": [],
            "_model_module": "@jupyter-widgets/controls",
            "_model_module_version": "1.5.0",
            "_model_name": "HTMLModel",
            "_view_count": null,
            "_view_module": "@jupyter-widgets/controls",
            "_view_module_version": "1.5.0",
            "_view_name": "HTMLView",
            "description": "",
            "description_tooltip": null,
            "layout": "IPY_MODEL_38e52563b0ef4511be3c1b0bc2fbf9f6",
            "placeholder": "​",
            "style": "IPY_MODEL_ed1220e2f85c4058adde1eea00099570",
            "value": " 2.40k/2.40k [00:00&lt;00:00, 97.7kB/s]"
          }
        },
        "3912d3be37db44ce843b5b3d728d3bb3": {
          "model_module": "@jupyter-widgets/base",
          "model_name": "LayoutModel",
          "model_module_version": "1.2.0",
          "state": {
            "_model_module": "@jupyter-widgets/base",
            "_model_module_version": "1.2.0",
            "_model_name": "LayoutModel",
            "_view_count": null,
            "_view_module": "@jupyter-widgets/base",
            "_view_module_version": "1.2.0",
            "_view_name": "LayoutView",
            "align_content": null,
            "align_items": null,
            "align_self": null,
            "border": null,
            "bottom": null,
            "display": null,
            "flex": null,
            "flex_flow": null,
            "grid_area": null,
            "grid_auto_columns": null,
            "grid_auto_flow": null,
            "grid_auto_rows": null,
            "grid_column": null,
            "grid_gap": null,
            "grid_row": null,
            "grid_template_areas": null,
            "grid_template_columns": null,
            "grid_template_rows": null,
            "height": null,
            "justify_content": null,
            "justify_items": null,
            "left": null,
            "margin": null,
            "max_height": null,
            "max_width": null,
            "min_height": null,
            "min_width": null,
            "object_fit": null,
            "object_position": null,
            "order": null,
            "overflow": null,
            "overflow_x": null,
            "overflow_y": null,
            "padding": null,
            "right": null,
            "top": null,
            "visibility": null,
            "width": null
          }
        },
        "3d84208b0eed4d838b66d187955b38ef": {
          "model_module": "@jupyter-widgets/base",
          "model_name": "LayoutModel",
          "model_module_version": "1.2.0",
          "state": {
            "_model_module": "@jupyter-widgets/base",
            "_model_module_version": "1.2.0",
            "_model_name": "LayoutModel",
            "_view_count": null,
            "_view_module": "@jupyter-widgets/base",
            "_view_module_version": "1.2.0",
            "_view_name": "LayoutView",
            "align_content": null,
            "align_items": null,
            "align_self": null,
            "border": null,
            "bottom": null,
            "display": null,
            "flex": null,
            "flex_flow": null,
            "grid_area": null,
            "grid_auto_columns": null,
            "grid_auto_flow": null,
            "grid_auto_rows": null,
            "grid_column": null,
            "grid_gap": null,
            "grid_row": null,
            "grid_template_areas": null,
            "grid_template_columns": null,
            "grid_template_rows": null,
            "height": null,
            "justify_content": null,
            "justify_items": null,
            "left": null,
            "margin": null,
            "max_height": null,
            "max_width": null,
            "min_height": null,
            "min_width": null,
            "object_fit": null,
            "object_position": null,
            "order": null,
            "overflow": null,
            "overflow_x": null,
            "overflow_y": null,
            "padding": null,
            "right": null,
            "top": null,
            "visibility": null,
            "width": null
          }
        },
        "a53a0a36e63248f1912362b4710f7265": {
          "model_module": "@jupyter-widgets/controls",
          "model_name": "DescriptionStyleModel",
          "model_module_version": "1.5.0",
          "state": {
            "_model_module": "@jupyter-widgets/controls",
            "_model_module_version": "1.5.0",
            "_model_name": "DescriptionStyleModel",
            "_view_count": null,
            "_view_module": "@jupyter-widgets/base",
            "_view_module_version": "1.2.0",
            "_view_name": "StyleView",
            "description_width": ""
          }
        },
        "2ba00a02666d40af90a07af25c5341f7": {
          "model_module": "@jupyter-widgets/base",
          "model_name": "LayoutModel",
          "model_module_version": "1.2.0",
          "state": {
            "_model_module": "@jupyter-widgets/base",
            "_model_module_version": "1.2.0",
            "_model_name": "LayoutModel",
            "_view_count": null,
            "_view_module": "@jupyter-widgets/base",
            "_view_module_version": "1.2.0",
            "_view_name": "LayoutView",
            "align_content": null,
            "align_items": null,
            "align_self": null,
            "border": null,
            "bottom": null,
            "display": null,
            "flex": null,
            "flex_flow": null,
            "grid_area": null,
            "grid_auto_columns": null,
            "grid_auto_flow": null,
            "grid_auto_rows": null,
            "grid_column": null,
            "grid_gap": null,
            "grid_row": null,
            "grid_template_areas": null,
            "grid_template_columns": null,
            "grid_template_rows": null,
            "height": null,
            "justify_content": null,
            "justify_items": null,
            "left": null,
            "margin": null,
            "max_height": null,
            "max_width": null,
            "min_height": null,
            "min_width": null,
            "object_fit": null,
            "object_position": null,
            "order": null,
            "overflow": null,
            "overflow_x": null,
            "overflow_y": null,
            "padding": null,
            "right": null,
            "top": null,
            "visibility": null,
            "width": null
          }
        },
        "112470f978b34e4c84dea2f35292f239": {
          "model_module": "@jupyter-widgets/controls",
          "model_name": "ProgressStyleModel",
          "model_module_version": "1.5.0",
          "state": {
            "_model_module": "@jupyter-widgets/controls",
            "_model_module_version": "1.5.0",
            "_model_name": "ProgressStyleModel",
            "_view_count": null,
            "_view_module": "@jupyter-widgets/base",
            "_view_module_version": "1.2.0",
            "_view_name": "StyleView",
            "bar_color": null,
            "description_width": ""
          }
        },
        "38e52563b0ef4511be3c1b0bc2fbf9f6": {
          "model_module": "@jupyter-widgets/base",
          "model_name": "LayoutModel",
          "model_module_version": "1.2.0",
          "state": {
            "_model_module": "@jupyter-widgets/base",
            "_model_module_version": "1.2.0",
            "_model_name": "LayoutModel",
            "_view_count": null,
            "_view_module": "@jupyter-widgets/base",
            "_view_module_version": "1.2.0",
            "_view_name": "LayoutView",
            "align_content": null,
            "align_items": null,
            "align_self": null,
            "border": null,
            "bottom": null,
            "display": null,
            "flex": null,
            "flex_flow": null,
            "grid_area": null,
            "grid_auto_columns": null,
            "grid_auto_flow": null,
            "grid_auto_rows": null,
            "grid_column": null,
            "grid_gap": null,
            "grid_row": null,
            "grid_template_areas": null,
            "grid_template_columns": null,
            "grid_template_rows": null,
            "height": null,
            "justify_content": null,
            "justify_items": null,
            "left": null,
            "margin": null,
            "max_height": null,
            "max_width": null,
            "min_height": null,
            "min_width": null,
            "object_fit": null,
            "object_position": null,
            "order": null,
            "overflow": null,
            "overflow_x": null,
            "overflow_y": null,
            "padding": null,
            "right": null,
            "top": null,
            "visibility": null,
            "width": null
          }
        },
        "ed1220e2f85c4058adde1eea00099570": {
          "model_module": "@jupyter-widgets/controls",
          "model_name": "DescriptionStyleModel",
          "model_module_version": "1.5.0",
          "state": {
            "_model_module": "@jupyter-widgets/controls",
            "_model_module_version": "1.5.0",
            "_model_name": "DescriptionStyleModel",
            "_view_count": null,
            "_view_module": "@jupyter-widgets/base",
            "_view_module_version": "1.2.0",
            "_view_name": "StyleView",
            "description_width": ""
          }
        },
        "a5a06d051d3a4641b088baa9d462cf48": {
          "model_module": "@jupyter-widgets/controls",
          "model_name": "HBoxModel",
          "model_module_version": "1.5.0",
          "state": {
            "_dom_classes": [],
            "_model_module": "@jupyter-widgets/controls",
            "_model_module_version": "1.5.0",
            "_model_name": "HBoxModel",
            "_view_count": null,
            "_view_module": "@jupyter-widgets/controls",
            "_view_module_version": "1.5.0",
            "_view_name": "HBoxView",
            "box_style": "",
            "children": [
              "IPY_MODEL_9a8e4a71a5dd4fdcb247932f6720b069",
              "IPY_MODEL_00bae4c37cd240ae9e2abc67f347afa0",
              "IPY_MODEL_e53bd151f47d4830954c6f6436b80ebc"
            ],
            "layout": "IPY_MODEL_7909472b172641a1b8bb7c3297c6eca2"
          }
        },
        "9a8e4a71a5dd4fdcb247932f6720b069": {
          "model_module": "@jupyter-widgets/controls",
          "model_name": "HTMLModel",
          "model_module_version": "1.5.0",
          "state": {
            "_dom_classes": [],
            "_model_module": "@jupyter-widgets/controls",
            "_model_module_version": "1.5.0",
            "_model_name": "HTMLModel",
            "_view_count": null,
            "_view_module": "@jupyter-widgets/controls",
            "_view_module_version": "1.5.0",
            "_view_name": "HTMLView",
            "description": "",
            "description_tooltip": null,
            "layout": "IPY_MODEL_df203dd1e4ef4d52af659c8dabff8d20",
            "placeholder": "​",
            "style": "IPY_MODEL_845a0f7ae3d549b98ef5856619775a11",
            "value": "spiece.model: 100%"
          }
        },
        "00bae4c37cd240ae9e2abc67f347afa0": {
          "model_module": "@jupyter-widgets/controls",
          "model_name": "FloatProgressModel",
          "model_module_version": "1.5.0",
          "state": {
            "_dom_classes": [],
            "_model_module": "@jupyter-widgets/controls",
            "_model_module_version": "1.5.0",
            "_model_name": "FloatProgressModel",
            "_view_count": null,
            "_view_module": "@jupyter-widgets/controls",
            "_view_module_version": "1.5.0",
            "_view_name": "ProgressView",
            "bar_style": "success",
            "description": "",
            "description_tooltip": null,
            "layout": "IPY_MODEL_227bbd10e9864f378a4dd8a1680c3749",
            "max": 791656,
            "min": 0,
            "orientation": "horizontal",
            "style": "IPY_MODEL_e7598200ce8b4ed6861e7496c487e82e",
            "value": 791656
          }
        },
        "e53bd151f47d4830954c6f6436b80ebc": {
          "model_module": "@jupyter-widgets/controls",
          "model_name": "HTMLModel",
          "model_module_version": "1.5.0",
          "state": {
            "_dom_classes": [],
            "_model_module": "@jupyter-widgets/controls",
            "_model_module_version": "1.5.0",
            "_model_name": "HTMLModel",
            "_view_count": null,
            "_view_module": "@jupyter-widgets/controls",
            "_view_module_version": "1.5.0",
            "_view_name": "HTMLView",
            "description": "",
            "description_tooltip": null,
            "layout": "IPY_MODEL_a3242badad824dbf8d8ae4e593e52c2e",
            "placeholder": "​",
            "style": "IPY_MODEL_5f0bbe1672b448a4985c3777bcf9487a",
            "value": " 792k/792k [00:00&lt;00:00, 6.22MB/s]"
          }
        },
        "7909472b172641a1b8bb7c3297c6eca2": {
          "model_module": "@jupyter-widgets/base",
          "model_name": "LayoutModel",
          "model_module_version": "1.2.0",
          "state": {
            "_model_module": "@jupyter-widgets/base",
            "_model_module_version": "1.2.0",
            "_model_name": "LayoutModel",
            "_view_count": null,
            "_view_module": "@jupyter-widgets/base",
            "_view_module_version": "1.2.0",
            "_view_name": "LayoutView",
            "align_content": null,
            "align_items": null,
            "align_self": null,
            "border": null,
            "bottom": null,
            "display": null,
            "flex": null,
            "flex_flow": null,
            "grid_area": null,
            "grid_auto_columns": null,
            "grid_auto_flow": null,
            "grid_auto_rows": null,
            "grid_column": null,
            "grid_gap": null,
            "grid_row": null,
            "grid_template_areas": null,
            "grid_template_columns": null,
            "grid_template_rows": null,
            "height": null,
            "justify_content": null,
            "justify_items": null,
            "left": null,
            "margin": null,
            "max_height": null,
            "max_width": null,
            "min_height": null,
            "min_width": null,
            "object_fit": null,
            "object_position": null,
            "order": null,
            "overflow": null,
            "overflow_x": null,
            "overflow_y": null,
            "padding": null,
            "right": null,
            "top": null,
            "visibility": null,
            "width": null
          }
        },
        "df203dd1e4ef4d52af659c8dabff8d20": {
          "model_module": "@jupyter-widgets/base",
          "model_name": "LayoutModel",
          "model_module_version": "1.2.0",
          "state": {
            "_model_module": "@jupyter-widgets/base",
            "_model_module_version": "1.2.0",
            "_model_name": "LayoutModel",
            "_view_count": null,
            "_view_module": "@jupyter-widgets/base",
            "_view_module_version": "1.2.0",
            "_view_name": "LayoutView",
            "align_content": null,
            "align_items": null,
            "align_self": null,
            "border": null,
            "bottom": null,
            "display": null,
            "flex": null,
            "flex_flow": null,
            "grid_area": null,
            "grid_auto_columns": null,
            "grid_auto_flow": null,
            "grid_auto_rows": null,
            "grid_column": null,
            "grid_gap": null,
            "grid_row": null,
            "grid_template_areas": null,
            "grid_template_columns": null,
            "grid_template_rows": null,
            "height": null,
            "justify_content": null,
            "justify_items": null,
            "left": null,
            "margin": null,
            "max_height": null,
            "max_width": null,
            "min_height": null,
            "min_width": null,
            "object_fit": null,
            "object_position": null,
            "order": null,
            "overflow": null,
            "overflow_x": null,
            "overflow_y": null,
            "padding": null,
            "right": null,
            "top": null,
            "visibility": null,
            "width": null
          }
        },
        "845a0f7ae3d549b98ef5856619775a11": {
          "model_module": "@jupyter-widgets/controls",
          "model_name": "DescriptionStyleModel",
          "model_module_version": "1.5.0",
          "state": {
            "_model_module": "@jupyter-widgets/controls",
            "_model_module_version": "1.5.0",
            "_model_name": "DescriptionStyleModel",
            "_view_count": null,
            "_view_module": "@jupyter-widgets/base",
            "_view_module_version": "1.2.0",
            "_view_name": "StyleView",
            "description_width": ""
          }
        },
        "227bbd10e9864f378a4dd8a1680c3749": {
          "model_module": "@jupyter-widgets/base",
          "model_name": "LayoutModel",
          "model_module_version": "1.2.0",
          "state": {
            "_model_module": "@jupyter-widgets/base",
            "_model_module_version": "1.2.0",
            "_model_name": "LayoutModel",
            "_view_count": null,
            "_view_module": "@jupyter-widgets/base",
            "_view_module_version": "1.2.0",
            "_view_name": "LayoutView",
            "align_content": null,
            "align_items": null,
            "align_self": null,
            "border": null,
            "bottom": null,
            "display": null,
            "flex": null,
            "flex_flow": null,
            "grid_area": null,
            "grid_auto_columns": null,
            "grid_auto_flow": null,
            "grid_auto_rows": null,
            "grid_column": null,
            "grid_gap": null,
            "grid_row": null,
            "grid_template_areas": null,
            "grid_template_columns": null,
            "grid_template_rows": null,
            "height": null,
            "justify_content": null,
            "justify_items": null,
            "left": null,
            "margin": null,
            "max_height": null,
            "max_width": null,
            "min_height": null,
            "min_width": null,
            "object_fit": null,
            "object_position": null,
            "order": null,
            "overflow": null,
            "overflow_x": null,
            "overflow_y": null,
            "padding": null,
            "right": null,
            "top": null,
            "visibility": null,
            "width": null
          }
        },
        "e7598200ce8b4ed6861e7496c487e82e": {
          "model_module": "@jupyter-widgets/controls",
          "model_name": "ProgressStyleModel",
          "model_module_version": "1.5.0",
          "state": {
            "_model_module": "@jupyter-widgets/controls",
            "_model_module_version": "1.5.0",
            "_model_name": "ProgressStyleModel",
            "_view_count": null,
            "_view_module": "@jupyter-widgets/base",
            "_view_module_version": "1.2.0",
            "_view_name": "StyleView",
            "bar_color": null,
            "description_width": ""
          }
        },
        "a3242badad824dbf8d8ae4e593e52c2e": {
          "model_module": "@jupyter-widgets/base",
          "model_name": "LayoutModel",
          "model_module_version": "1.2.0",
          "state": {
            "_model_module": "@jupyter-widgets/base",
            "_model_module_version": "1.2.0",
            "_model_name": "LayoutModel",
            "_view_count": null,
            "_view_module": "@jupyter-widgets/base",
            "_view_module_version": "1.2.0",
            "_view_name": "LayoutView",
            "align_content": null,
            "align_items": null,
            "align_self": null,
            "border": null,
            "bottom": null,
            "display": null,
            "flex": null,
            "flex_flow": null,
            "grid_area": null,
            "grid_auto_columns": null,
            "grid_auto_flow": null,
            "grid_auto_rows": null,
            "grid_column": null,
            "grid_gap": null,
            "grid_row": null,
            "grid_template_areas": null,
            "grid_template_columns": null,
            "grid_template_rows": null,
            "height": null,
            "justify_content": null,
            "justify_items": null,
            "left": null,
            "margin": null,
            "max_height": null,
            "max_width": null,
            "min_height": null,
            "min_width": null,
            "object_fit": null,
            "object_position": null,
            "order": null,
            "overflow": null,
            "overflow_x": null,
            "overflow_y": null,
            "padding": null,
            "right": null,
            "top": null,
            "visibility": null,
            "width": null
          }
        },
        "5f0bbe1672b448a4985c3777bcf9487a": {
          "model_module": "@jupyter-widgets/controls",
          "model_name": "DescriptionStyleModel",
          "model_module_version": "1.5.0",
          "state": {
            "_model_module": "@jupyter-widgets/controls",
            "_model_module_version": "1.5.0",
            "_model_name": "DescriptionStyleModel",
            "_view_count": null,
            "_view_module": "@jupyter-widgets/base",
            "_view_module_version": "1.2.0",
            "_view_name": "StyleView",
            "description_width": ""
          }
        },
        "e53b8f4218134375a6e74860253f2fc4": {
          "model_module": "@jupyter-widgets/controls",
          "model_name": "HBoxModel",
          "model_module_version": "1.5.0",
          "state": {
            "_dom_classes": [],
            "_model_module": "@jupyter-widgets/controls",
            "_model_module_version": "1.5.0",
            "_model_name": "HBoxModel",
            "_view_count": null,
            "_view_module": "@jupyter-widgets/controls",
            "_view_module_version": "1.5.0",
            "_view_name": "HBoxView",
            "box_style": "",
            "children": [
              "IPY_MODEL_900ed3c11f8a4fa3adb11a791cc21037",
              "IPY_MODEL_2bc1a0df77c04d11b704608c65dfc2bb",
              "IPY_MODEL_95027644f11540febb01f9f91e3d17db"
            ],
            "layout": "IPY_MODEL_ae7eaf5822d247878d16d0b96a8dc248"
          }
        },
        "900ed3c11f8a4fa3adb11a791cc21037": {
          "model_module": "@jupyter-widgets/controls",
          "model_name": "HTMLModel",
          "model_module_version": "1.5.0",
          "state": {
            "_dom_classes": [],
            "_model_module": "@jupyter-widgets/controls",
            "_model_module_version": "1.5.0",
            "_model_name": "HTMLModel",
            "_view_count": null,
            "_view_module": "@jupyter-widgets/controls",
            "_view_module_version": "1.5.0",
            "_view_name": "HTMLView",
            "description": "",
            "description_tooltip": null,
            "layout": "IPY_MODEL_2abbc795596645dfa6dc9f98414b162a",
            "placeholder": "​",
            "style": "IPY_MODEL_49668092c14d4806b6664f60986b9824",
            "value": "tokenizer.json: 100%"
          }
        },
        "2bc1a0df77c04d11b704608c65dfc2bb": {
          "model_module": "@jupyter-widgets/controls",
          "model_name": "FloatProgressModel",
          "model_module_version": "1.5.0",
          "state": {
            "_dom_classes": [],
            "_model_module": "@jupyter-widgets/controls",
            "_model_module_version": "1.5.0",
            "_model_name": "FloatProgressModel",
            "_view_count": null,
            "_view_module": "@jupyter-widgets/controls",
            "_view_module_version": "1.5.0",
            "_view_name": "ProgressView",
            "bar_style": "success",
            "description": "",
            "description_tooltip": null,
            "layout": "IPY_MODEL_d4fcf56822d84fe7b3bd17d0b30577fd",
            "max": 2422275,
            "min": 0,
            "orientation": "horizontal",
            "style": "IPY_MODEL_390c009955ff479aae2b5cadeaa76f3d",
            "value": 2422275
          }
        },
        "95027644f11540febb01f9f91e3d17db": {
          "model_module": "@jupyter-widgets/controls",
          "model_name": "HTMLModel",
          "model_module_version": "1.5.0",
          "state": {
            "_dom_classes": [],
            "_model_module": "@jupyter-widgets/controls",
            "_model_module_version": "1.5.0",
            "_model_name": "HTMLModel",
            "_view_count": null,
            "_view_module": "@jupyter-widgets/controls",
            "_view_module_version": "1.5.0",
            "_view_name": "HTMLView",
            "description": "",
            "description_tooltip": null,
            "layout": "IPY_MODEL_0b74fff283204de0aead860ee275426a",
            "placeholder": "​",
            "style": "IPY_MODEL_751ed6d45ad340f790e262be97cdfc22",
            "value": " 2.42M/2.42M [00:00&lt;00:00, 15.8MB/s]"
          }
        },
        "ae7eaf5822d247878d16d0b96a8dc248": {
          "model_module": "@jupyter-widgets/base",
          "model_name": "LayoutModel",
          "model_module_version": "1.2.0",
          "state": {
            "_model_module": "@jupyter-widgets/base",
            "_model_module_version": "1.2.0",
            "_model_name": "LayoutModel",
            "_view_count": null,
            "_view_module": "@jupyter-widgets/base",
            "_view_module_version": "1.2.0",
            "_view_name": "LayoutView",
            "align_content": null,
            "align_items": null,
            "align_self": null,
            "border": null,
            "bottom": null,
            "display": null,
            "flex": null,
            "flex_flow": null,
            "grid_area": null,
            "grid_auto_columns": null,
            "grid_auto_flow": null,
            "grid_auto_rows": null,
            "grid_column": null,
            "grid_gap": null,
            "grid_row": null,
            "grid_template_areas": null,
            "grid_template_columns": null,
            "grid_template_rows": null,
            "height": null,
            "justify_content": null,
            "justify_items": null,
            "left": null,
            "margin": null,
            "max_height": null,
            "max_width": null,
            "min_height": null,
            "min_width": null,
            "object_fit": null,
            "object_position": null,
            "order": null,
            "overflow": null,
            "overflow_x": null,
            "overflow_y": null,
            "padding": null,
            "right": null,
            "top": null,
            "visibility": null,
            "width": null
          }
        },
        "2abbc795596645dfa6dc9f98414b162a": {
          "model_module": "@jupyter-widgets/base",
          "model_name": "LayoutModel",
          "model_module_version": "1.2.0",
          "state": {
            "_model_module": "@jupyter-widgets/base",
            "_model_module_version": "1.2.0",
            "_model_name": "LayoutModel",
            "_view_count": null,
            "_view_module": "@jupyter-widgets/base",
            "_view_module_version": "1.2.0",
            "_view_name": "LayoutView",
            "align_content": null,
            "align_items": null,
            "align_self": null,
            "border": null,
            "bottom": null,
            "display": null,
            "flex": null,
            "flex_flow": null,
            "grid_area": null,
            "grid_auto_columns": null,
            "grid_auto_flow": null,
            "grid_auto_rows": null,
            "grid_column": null,
            "grid_gap": null,
            "grid_row": null,
            "grid_template_areas": null,
            "grid_template_columns": null,
            "grid_template_rows": null,
            "height": null,
            "justify_content": null,
            "justify_items": null,
            "left": null,
            "margin": null,
            "max_height": null,
            "max_width": null,
            "min_height": null,
            "min_width": null,
            "object_fit": null,
            "object_position": null,
            "order": null,
            "overflow": null,
            "overflow_x": null,
            "overflow_y": null,
            "padding": null,
            "right": null,
            "top": null,
            "visibility": null,
            "width": null
          }
        },
        "49668092c14d4806b6664f60986b9824": {
          "model_module": "@jupyter-widgets/controls",
          "model_name": "DescriptionStyleModel",
          "model_module_version": "1.5.0",
          "state": {
            "_model_module": "@jupyter-widgets/controls",
            "_model_module_version": "1.5.0",
            "_model_name": "DescriptionStyleModel",
            "_view_count": null,
            "_view_module": "@jupyter-widgets/base",
            "_view_module_version": "1.2.0",
            "_view_name": "StyleView",
            "description_width": ""
          }
        },
        "d4fcf56822d84fe7b3bd17d0b30577fd": {
          "model_module": "@jupyter-widgets/base",
          "model_name": "LayoutModel",
          "model_module_version": "1.2.0",
          "state": {
            "_model_module": "@jupyter-widgets/base",
            "_model_module_version": "1.2.0",
            "_model_name": "LayoutModel",
            "_view_count": null,
            "_view_module": "@jupyter-widgets/base",
            "_view_module_version": "1.2.0",
            "_view_name": "LayoutView",
            "align_content": null,
            "align_items": null,
            "align_self": null,
            "border": null,
            "bottom": null,
            "display": null,
            "flex": null,
            "flex_flow": null,
            "grid_area": null,
            "grid_auto_columns": null,
            "grid_auto_flow": null,
            "grid_auto_rows": null,
            "grid_column": null,
            "grid_gap": null,
            "grid_row": null,
            "grid_template_areas": null,
            "grid_template_columns": null,
            "grid_template_rows": null,
            "height": null,
            "justify_content": null,
            "justify_items": null,
            "left": null,
            "margin": null,
            "max_height": null,
            "max_width": null,
            "min_height": null,
            "min_width": null,
            "object_fit": null,
            "object_position": null,
            "order": null,
            "overflow": null,
            "overflow_x": null,
            "overflow_y": null,
            "padding": null,
            "right": null,
            "top": null,
            "visibility": null,
            "width": null
          }
        },
        "390c009955ff479aae2b5cadeaa76f3d": {
          "model_module": "@jupyter-widgets/controls",
          "model_name": "ProgressStyleModel",
          "model_module_version": "1.5.0",
          "state": {
            "_model_module": "@jupyter-widgets/controls",
            "_model_module_version": "1.5.0",
            "_model_name": "ProgressStyleModel",
            "_view_count": null,
            "_view_module": "@jupyter-widgets/base",
            "_view_module_version": "1.2.0",
            "_view_name": "StyleView",
            "bar_color": null,
            "description_width": ""
          }
        },
        "0b74fff283204de0aead860ee275426a": {
          "model_module": "@jupyter-widgets/base",
          "model_name": "LayoutModel",
          "model_module_version": "1.2.0",
          "state": {
            "_model_module": "@jupyter-widgets/base",
            "_model_module_version": "1.2.0",
            "_model_name": "LayoutModel",
            "_view_count": null,
            "_view_module": "@jupyter-widgets/base",
            "_view_module_version": "1.2.0",
            "_view_name": "LayoutView",
            "align_content": null,
            "align_items": null,
            "align_self": null,
            "border": null,
            "bottom": null,
            "display": null,
            "flex": null,
            "flex_flow": null,
            "grid_area": null,
            "grid_auto_columns": null,
            "grid_auto_flow": null,
            "grid_auto_rows": null,
            "grid_column": null,
            "grid_gap": null,
            "grid_row": null,
            "grid_template_areas": null,
            "grid_template_columns": null,
            "grid_template_rows": null,
            "height": null,
            "justify_content": null,
            "justify_items": null,
            "left": null,
            "margin": null,
            "max_height": null,
            "max_width": null,
            "min_height": null,
            "min_width": null,
            "object_fit": null,
            "object_position": null,
            "order": null,
            "overflow": null,
            "overflow_x": null,
            "overflow_y": null,
            "padding": null,
            "right": null,
            "top": null,
            "visibility": null,
            "width": null
          }
        },
        "751ed6d45ad340f790e262be97cdfc22": {
          "model_module": "@jupyter-widgets/controls",
          "model_name": "DescriptionStyleModel",
          "model_module_version": "1.5.0",
          "state": {
            "_model_module": "@jupyter-widgets/controls",
            "_model_module_version": "1.5.0",
            "_model_name": "DescriptionStyleModel",
            "_view_count": null,
            "_view_module": "@jupyter-widgets/base",
            "_view_module_version": "1.2.0",
            "_view_name": "StyleView",
            "description_width": ""
          }
        },
        "d1697ee8ca544ad6b2fb802f26ace1f2": {
          "model_module": "@jupyter-widgets/controls",
          "model_name": "HBoxModel",
          "model_module_version": "1.5.0",
          "state": {
            "_dom_classes": [],
            "_model_module": "@jupyter-widgets/controls",
            "_model_module_version": "1.5.0",
            "_model_name": "HBoxModel",
            "_view_count": null,
            "_view_module": "@jupyter-widgets/controls",
            "_view_module_version": "1.5.0",
            "_view_name": "HBoxView",
            "box_style": "",
            "children": [
              "IPY_MODEL_94cd0c70820e4174a296291868cdd52e",
              "IPY_MODEL_da5e158f973f45238e3c956b504c24e8",
              "IPY_MODEL_1d8df85e837a48209e4ca15408b73bb2"
            ],
            "layout": "IPY_MODEL_ae7f74a33b7542389c3fa916151483b6"
          }
        },
        "94cd0c70820e4174a296291868cdd52e": {
          "model_module": "@jupyter-widgets/controls",
          "model_name": "HTMLModel",
          "model_module_version": "1.5.0",
          "state": {
            "_dom_classes": [],
            "_model_module": "@jupyter-widgets/controls",
            "_model_module_version": "1.5.0",
            "_model_name": "HTMLModel",
            "_view_count": null,
            "_view_module": "@jupyter-widgets/controls",
            "_view_module_version": "1.5.0",
            "_view_name": "HTMLView",
            "description": "",
            "description_tooltip": null,
            "layout": "IPY_MODEL_b63519fc53474e9b876c526cc4fe7eeb",
            "placeholder": "​",
            "style": "IPY_MODEL_585ac381ca83492694e4522442376ed8",
            "value": "added_tokens.json: 100%"
          }
        },
        "da5e158f973f45238e3c956b504c24e8": {
          "model_module": "@jupyter-widgets/controls",
          "model_name": "FloatProgressModel",
          "model_module_version": "1.5.0",
          "state": {
            "_dom_classes": [],
            "_model_module": "@jupyter-widgets/controls",
            "_model_module_version": "1.5.0",
            "_model_name": "FloatProgressModel",
            "_view_count": null,
            "_view_module": "@jupyter-widgets/controls",
            "_view_module_version": "1.5.0",
            "_view_name": "ProgressView",
            "bar_style": "success",
            "description": "",
            "description_tooltip": null,
            "layout": "IPY_MODEL_a3457e6fd0374ffba24dc0f18ca411fb",
            "max": 20,
            "min": 0,
            "orientation": "horizontal",
            "style": "IPY_MODEL_53b2f90dcd4945f9b41bbd8c5f05d13c",
            "value": 20
          }
        },
        "1d8df85e837a48209e4ca15408b73bb2": {
          "model_module": "@jupyter-widgets/controls",
          "model_name": "HTMLModel",
          "model_module_version": "1.5.0",
          "state": {
            "_dom_classes": [],
            "_model_module": "@jupyter-widgets/controls",
            "_model_module_version": "1.5.0",
            "_model_name": "HTMLModel",
            "_view_count": null,
            "_view_module": "@jupyter-widgets/controls",
            "_view_module_version": "1.5.0",
            "_view_name": "HTMLView",
            "description": "",
            "description_tooltip": null,
            "layout": "IPY_MODEL_064447c7a4cb42ea94687bea063da258",
            "placeholder": "​",
            "style": "IPY_MODEL_9775a69e26184490911125404dcf8e0e",
            "value": " 20.0/20.0 [00:00&lt;00:00, 1.23kB/s]"
          }
        },
        "ae7f74a33b7542389c3fa916151483b6": {
          "model_module": "@jupyter-widgets/base",
          "model_name": "LayoutModel",
          "model_module_version": "1.2.0",
          "state": {
            "_model_module": "@jupyter-widgets/base",
            "_model_module_version": "1.2.0",
            "_model_name": "LayoutModel",
            "_view_count": null,
            "_view_module": "@jupyter-widgets/base",
            "_view_module_version": "1.2.0",
            "_view_name": "LayoutView",
            "align_content": null,
            "align_items": null,
            "align_self": null,
            "border": null,
            "bottom": null,
            "display": null,
            "flex": null,
            "flex_flow": null,
            "grid_area": null,
            "grid_auto_columns": null,
            "grid_auto_flow": null,
            "grid_auto_rows": null,
            "grid_column": null,
            "grid_gap": null,
            "grid_row": null,
            "grid_template_areas": null,
            "grid_template_columns": null,
            "grid_template_rows": null,
            "height": null,
            "justify_content": null,
            "justify_items": null,
            "left": null,
            "margin": null,
            "max_height": null,
            "max_width": null,
            "min_height": null,
            "min_width": null,
            "object_fit": null,
            "object_position": null,
            "order": null,
            "overflow": null,
            "overflow_x": null,
            "overflow_y": null,
            "padding": null,
            "right": null,
            "top": null,
            "visibility": null,
            "width": null
          }
        },
        "b63519fc53474e9b876c526cc4fe7eeb": {
          "model_module": "@jupyter-widgets/base",
          "model_name": "LayoutModel",
          "model_module_version": "1.2.0",
          "state": {
            "_model_module": "@jupyter-widgets/base",
            "_model_module_version": "1.2.0",
            "_model_name": "LayoutModel",
            "_view_count": null,
            "_view_module": "@jupyter-widgets/base",
            "_view_module_version": "1.2.0",
            "_view_name": "LayoutView",
            "align_content": null,
            "align_items": null,
            "align_self": null,
            "border": null,
            "bottom": null,
            "display": null,
            "flex": null,
            "flex_flow": null,
            "grid_area": null,
            "grid_auto_columns": null,
            "grid_auto_flow": null,
            "grid_auto_rows": null,
            "grid_column": null,
            "grid_gap": null,
            "grid_row": null,
            "grid_template_areas": null,
            "grid_template_columns": null,
            "grid_template_rows": null,
            "height": null,
            "justify_content": null,
            "justify_items": null,
            "left": null,
            "margin": null,
            "max_height": null,
            "max_width": null,
            "min_height": null,
            "min_width": null,
            "object_fit": null,
            "object_position": null,
            "order": null,
            "overflow": null,
            "overflow_x": null,
            "overflow_y": null,
            "padding": null,
            "right": null,
            "top": null,
            "visibility": null,
            "width": null
          }
        },
        "585ac381ca83492694e4522442376ed8": {
          "model_module": "@jupyter-widgets/controls",
          "model_name": "DescriptionStyleModel",
          "model_module_version": "1.5.0",
          "state": {
            "_model_module": "@jupyter-widgets/controls",
            "_model_module_version": "1.5.0",
            "_model_name": "DescriptionStyleModel",
            "_view_count": null,
            "_view_module": "@jupyter-widgets/base",
            "_view_module_version": "1.2.0",
            "_view_name": "StyleView",
            "description_width": ""
          }
        },
        "a3457e6fd0374ffba24dc0f18ca411fb": {
          "model_module": "@jupyter-widgets/base",
          "model_name": "LayoutModel",
          "model_module_version": "1.2.0",
          "state": {
            "_model_module": "@jupyter-widgets/base",
            "_model_module_version": "1.2.0",
            "_model_name": "LayoutModel",
            "_view_count": null,
            "_view_module": "@jupyter-widgets/base",
            "_view_module_version": "1.2.0",
            "_view_name": "LayoutView",
            "align_content": null,
            "align_items": null,
            "align_self": null,
            "border": null,
            "bottom": null,
            "display": null,
            "flex": null,
            "flex_flow": null,
            "grid_area": null,
            "grid_auto_columns": null,
            "grid_auto_flow": null,
            "grid_auto_rows": null,
            "grid_column": null,
            "grid_gap": null,
            "grid_row": null,
            "grid_template_areas": null,
            "grid_template_columns": null,
            "grid_template_rows": null,
            "height": null,
            "justify_content": null,
            "justify_items": null,
            "left": null,
            "margin": null,
            "max_height": null,
            "max_width": null,
            "min_height": null,
            "min_width": null,
            "object_fit": null,
            "object_position": null,
            "order": null,
            "overflow": null,
            "overflow_x": null,
            "overflow_y": null,
            "padding": null,
            "right": null,
            "top": null,
            "visibility": null,
            "width": null
          }
        },
        "53b2f90dcd4945f9b41bbd8c5f05d13c": {
          "model_module": "@jupyter-widgets/controls",
          "model_name": "ProgressStyleModel",
          "model_module_version": "1.5.0",
          "state": {
            "_model_module": "@jupyter-widgets/controls",
            "_model_module_version": "1.5.0",
            "_model_name": "ProgressStyleModel",
            "_view_count": null,
            "_view_module": "@jupyter-widgets/base",
            "_view_module_version": "1.2.0",
            "_view_name": "StyleView",
            "bar_color": null,
            "description_width": ""
          }
        },
        "064447c7a4cb42ea94687bea063da258": {
          "model_module": "@jupyter-widgets/base",
          "model_name": "LayoutModel",
          "model_module_version": "1.2.0",
          "state": {
            "_model_module": "@jupyter-widgets/base",
            "_model_module_version": "1.2.0",
            "_model_name": "LayoutModel",
            "_view_count": null,
            "_view_module": "@jupyter-widgets/base",
            "_view_module_version": "1.2.0",
            "_view_name": "LayoutView",
            "align_content": null,
            "align_items": null,
            "align_self": null,
            "border": null,
            "bottom": null,
            "display": null,
            "flex": null,
            "flex_flow": null,
            "grid_area": null,
            "grid_auto_columns": null,
            "grid_auto_flow": null,
            "grid_auto_rows": null,
            "grid_column": null,
            "grid_gap": null,
            "grid_row": null,
            "grid_template_areas": null,
            "grid_template_columns": null,
            "grid_template_rows": null,
            "height": null,
            "justify_content": null,
            "justify_items": null,
            "left": null,
            "margin": null,
            "max_height": null,
            "max_width": null,
            "min_height": null,
            "min_width": null,
            "object_fit": null,
            "object_position": null,
            "order": null,
            "overflow": null,
            "overflow_x": null,
            "overflow_y": null,
            "padding": null,
            "right": null,
            "top": null,
            "visibility": null,
            "width": null
          }
        },
        "9775a69e26184490911125404dcf8e0e": {
          "model_module": "@jupyter-widgets/controls",
          "model_name": "DescriptionStyleModel",
          "model_module_version": "1.5.0",
          "state": {
            "_model_module": "@jupyter-widgets/controls",
            "_model_module_version": "1.5.0",
            "_model_name": "DescriptionStyleModel",
            "_view_count": null,
            "_view_module": "@jupyter-widgets/base",
            "_view_module_version": "1.2.0",
            "_view_name": "StyleView",
            "description_width": ""
          }
        },
        "49f6df2fde3041f19f0724e16b96a325": {
          "model_module": "@jupyter-widgets/controls",
          "model_name": "HBoxModel",
          "model_module_version": "1.5.0",
          "state": {
            "_dom_classes": [],
            "_model_module": "@jupyter-widgets/controls",
            "_model_module_version": "1.5.0",
            "_model_name": "HBoxModel",
            "_view_count": null,
            "_view_module": "@jupyter-widgets/controls",
            "_view_module_version": "1.5.0",
            "_view_name": "HBoxView",
            "box_style": "",
            "children": [
              "IPY_MODEL_6997b7fc5b7a434a9dac1e302d3ee576",
              "IPY_MODEL_b929b3e1c28d47249834286832f473d5",
              "IPY_MODEL_6196b7214caf4730a37974454303b693"
            ],
            "layout": "IPY_MODEL_f054c9433896446da351c53afa8b64f5"
          }
        },
        "6997b7fc5b7a434a9dac1e302d3ee576": {
          "model_module": "@jupyter-widgets/controls",
          "model_name": "HTMLModel",
          "model_module_version": "1.5.0",
          "state": {
            "_dom_classes": [],
            "_model_module": "@jupyter-widgets/controls",
            "_model_module_version": "1.5.0",
            "_model_name": "HTMLModel",
            "_view_count": null,
            "_view_module": "@jupyter-widgets/controls",
            "_view_module_version": "1.5.0",
            "_view_name": "HTMLView",
            "description": "",
            "description_tooltip": null,
            "layout": "IPY_MODEL_27c907884d7048acbb7bf9467c910aa1",
            "placeholder": "​",
            "style": "IPY_MODEL_4cff96e3f9ad42a2ba0274c0aa5ccbf3",
            "value": "special_tokens_map.json: 100%"
          }
        },
        "b929b3e1c28d47249834286832f473d5": {
          "model_module": "@jupyter-widgets/controls",
          "model_name": "FloatProgressModel",
          "model_module_version": "1.5.0",
          "state": {
            "_dom_classes": [],
            "_model_module": "@jupyter-widgets/controls",
            "_model_module_version": "1.5.0",
            "_model_name": "FloatProgressModel",
            "_view_count": null,
            "_view_module": "@jupyter-widgets/controls",
            "_view_module_version": "1.5.0",
            "_view_name": "ProgressView",
            "bar_style": "success",
            "description": "",
            "description_tooltip": null,
            "layout": "IPY_MODEL_11035da2d7f54cff8c5df2fca5d964da",
            "max": 123,
            "min": 0,
            "orientation": "horizontal",
            "style": "IPY_MODEL_f7d1e9c12ef64e3cbc63afe586e37765",
            "value": 123
          }
        },
        "6196b7214caf4730a37974454303b693": {
          "model_module": "@jupyter-widgets/controls",
          "model_name": "HTMLModel",
          "model_module_version": "1.5.0",
          "state": {
            "_dom_classes": [],
            "_model_module": "@jupyter-widgets/controls",
            "_model_module_version": "1.5.0",
            "_model_name": "HTMLModel",
            "_view_count": null,
            "_view_module": "@jupyter-widgets/controls",
            "_view_module_version": "1.5.0",
            "_view_name": "HTMLView",
            "description": "",
            "description_tooltip": null,
            "layout": "IPY_MODEL_9697fb7a22be401fa105147d26b3f76c",
            "placeholder": "​",
            "style": "IPY_MODEL_9e8d7603e42546ff816e08bde9ca35d7",
            "value": " 123/123 [00:00&lt;00:00, 3.86kB/s]"
          }
        },
        "f054c9433896446da351c53afa8b64f5": {
          "model_module": "@jupyter-widgets/base",
          "model_name": "LayoutModel",
          "model_module_version": "1.2.0",
          "state": {
            "_model_module": "@jupyter-widgets/base",
            "_model_module_version": "1.2.0",
            "_model_name": "LayoutModel",
            "_view_count": null,
            "_view_module": "@jupyter-widgets/base",
            "_view_module_version": "1.2.0",
            "_view_name": "LayoutView",
            "align_content": null,
            "align_items": null,
            "align_self": null,
            "border": null,
            "bottom": null,
            "display": null,
            "flex": null,
            "flex_flow": null,
            "grid_area": null,
            "grid_auto_columns": null,
            "grid_auto_flow": null,
            "grid_auto_rows": null,
            "grid_column": null,
            "grid_gap": null,
            "grid_row": null,
            "grid_template_areas": null,
            "grid_template_columns": null,
            "grid_template_rows": null,
            "height": null,
            "justify_content": null,
            "justify_items": null,
            "left": null,
            "margin": null,
            "max_height": null,
            "max_width": null,
            "min_height": null,
            "min_width": null,
            "object_fit": null,
            "object_position": null,
            "order": null,
            "overflow": null,
            "overflow_x": null,
            "overflow_y": null,
            "padding": null,
            "right": null,
            "top": null,
            "visibility": null,
            "width": null
          }
        },
        "27c907884d7048acbb7bf9467c910aa1": {
          "model_module": "@jupyter-widgets/base",
          "model_name": "LayoutModel",
          "model_module_version": "1.2.0",
          "state": {
            "_model_module": "@jupyter-widgets/base",
            "_model_module_version": "1.2.0",
            "_model_name": "LayoutModel",
            "_view_count": null,
            "_view_module": "@jupyter-widgets/base",
            "_view_module_version": "1.2.0",
            "_view_name": "LayoutView",
            "align_content": null,
            "align_items": null,
            "align_self": null,
            "border": null,
            "bottom": null,
            "display": null,
            "flex": null,
            "flex_flow": null,
            "grid_area": null,
            "grid_auto_columns": null,
            "grid_auto_flow": null,
            "grid_auto_rows": null,
            "grid_column": null,
            "grid_gap": null,
            "grid_row": null,
            "grid_template_areas": null,
            "grid_template_columns": null,
            "grid_template_rows": null,
            "height": null,
            "justify_content": null,
            "justify_items": null,
            "left": null,
            "margin": null,
            "max_height": null,
            "max_width": null,
            "min_height": null,
            "min_width": null,
            "object_fit": null,
            "object_position": null,
            "order": null,
            "overflow": null,
            "overflow_x": null,
            "overflow_y": null,
            "padding": null,
            "right": null,
            "top": null,
            "visibility": null,
            "width": null
          }
        },
        "4cff96e3f9ad42a2ba0274c0aa5ccbf3": {
          "model_module": "@jupyter-widgets/controls",
          "model_name": "DescriptionStyleModel",
          "model_module_version": "1.5.0",
          "state": {
            "_model_module": "@jupyter-widgets/controls",
            "_model_module_version": "1.5.0",
            "_model_name": "DescriptionStyleModel",
            "_view_count": null,
            "_view_module": "@jupyter-widgets/base",
            "_view_module_version": "1.2.0",
            "_view_name": "StyleView",
            "description_width": ""
          }
        },
        "11035da2d7f54cff8c5df2fca5d964da": {
          "model_module": "@jupyter-widgets/base",
          "model_name": "LayoutModel",
          "model_module_version": "1.2.0",
          "state": {
            "_model_module": "@jupyter-widgets/base",
            "_model_module_version": "1.2.0",
            "_model_name": "LayoutModel",
            "_view_count": null,
            "_view_module": "@jupyter-widgets/base",
            "_view_module_version": "1.2.0",
            "_view_name": "LayoutView",
            "align_content": null,
            "align_items": null,
            "align_self": null,
            "border": null,
            "bottom": null,
            "display": null,
            "flex": null,
            "flex_flow": null,
            "grid_area": null,
            "grid_auto_columns": null,
            "grid_auto_flow": null,
            "grid_auto_rows": null,
            "grid_column": null,
            "grid_gap": null,
            "grid_row": null,
            "grid_template_areas": null,
            "grid_template_columns": null,
            "grid_template_rows": null,
            "height": null,
            "justify_content": null,
            "justify_items": null,
            "left": null,
            "margin": null,
            "max_height": null,
            "max_width": null,
            "min_height": null,
            "min_width": null,
            "object_fit": null,
            "object_position": null,
            "order": null,
            "overflow": null,
            "overflow_x": null,
            "overflow_y": null,
            "padding": null,
            "right": null,
            "top": null,
            "visibility": null,
            "width": null
          }
        },
        "f7d1e9c12ef64e3cbc63afe586e37765": {
          "model_module": "@jupyter-widgets/controls",
          "model_name": "ProgressStyleModel",
          "model_module_version": "1.5.0",
          "state": {
            "_model_module": "@jupyter-widgets/controls",
            "_model_module_version": "1.5.0",
            "_model_name": "ProgressStyleModel",
            "_view_count": null,
            "_view_module": "@jupyter-widgets/base",
            "_view_module_version": "1.2.0",
            "_view_name": "StyleView",
            "bar_color": null,
            "description_width": ""
          }
        },
        "9697fb7a22be401fa105147d26b3f76c": {
          "model_module": "@jupyter-widgets/base",
          "model_name": "LayoutModel",
          "model_module_version": "1.2.0",
          "state": {
            "_model_module": "@jupyter-widgets/base",
            "_model_module_version": "1.2.0",
            "_model_name": "LayoutModel",
            "_view_count": null,
            "_view_module": "@jupyter-widgets/base",
            "_view_module_version": "1.2.0",
            "_view_name": "LayoutView",
            "align_content": null,
            "align_items": null,
            "align_self": null,
            "border": null,
            "bottom": null,
            "display": null,
            "flex": null,
            "flex_flow": null,
            "grid_area": null,
            "grid_auto_columns": null,
            "grid_auto_flow": null,
            "grid_auto_rows": null,
            "grid_column": null,
            "grid_gap": null,
            "grid_row": null,
            "grid_template_areas": null,
            "grid_template_columns": null,
            "grid_template_rows": null,
            "height": null,
            "justify_content": null,
            "justify_items": null,
            "left": null,
            "margin": null,
            "max_height": null,
            "max_width": null,
            "min_height": null,
            "min_width": null,
            "object_fit": null,
            "object_position": null,
            "order": null,
            "overflow": null,
            "overflow_x": null,
            "overflow_y": null,
            "padding": null,
            "right": null,
            "top": null,
            "visibility": null,
            "width": null
          }
        },
        "9e8d7603e42546ff816e08bde9ca35d7": {
          "model_module": "@jupyter-widgets/controls",
          "model_name": "DescriptionStyleModel",
          "model_module_version": "1.5.0",
          "state": {
            "_model_module": "@jupyter-widgets/controls",
            "_model_module_version": "1.5.0",
            "_model_name": "DescriptionStyleModel",
            "_view_count": null,
            "_view_module": "@jupyter-widgets/base",
            "_view_module_version": "1.2.0",
            "_view_name": "StyleView",
            "description_width": ""
          }
        },
        "107882092fef469bbac44e3ceb215d01": {
          "model_module": "@jupyter-widgets/controls",
          "model_name": "HBoxModel",
          "model_module_version": "1.5.0",
          "state": {
            "_dom_classes": [],
            "_model_module": "@jupyter-widgets/controls",
            "_model_module_version": "1.5.0",
            "_model_name": "HBoxModel",
            "_view_count": null,
            "_view_module": "@jupyter-widgets/controls",
            "_view_module_version": "1.5.0",
            "_view_name": "HBoxView",
            "box_style": "",
            "children": [
              "IPY_MODEL_e5f320470611463f88b0a2d12893d37a",
              "IPY_MODEL_4cb31ec3817f467699e0c7b4d08b2017",
              "IPY_MODEL_178330814a1e40819129ba90e60cc014"
            ],
            "layout": "IPY_MODEL_03331862f1ce4b7fa18f7303cf32cc2b"
          }
        },
        "e5f320470611463f88b0a2d12893d37a": {
          "model_module": "@jupyter-widgets/controls",
          "model_name": "HTMLModel",
          "model_module_version": "1.5.0",
          "state": {
            "_dom_classes": [],
            "_model_module": "@jupyter-widgets/controls",
            "_model_module_version": "1.5.0",
            "_model_name": "HTMLModel",
            "_view_count": null,
            "_view_module": "@jupyter-widgets/controls",
            "_view_module_version": "1.5.0",
            "_view_name": "HTMLView",
            "description": "",
            "description_tooltip": null,
            "layout": "IPY_MODEL_a1825de0be5b41da9b6c118d9953771d",
            "placeholder": "​",
            "style": "IPY_MODEL_77bb0bfa5b45420d8aa1ad347e070af4",
            "value": "config.json: 100%"
          }
        },
        "4cb31ec3817f467699e0c7b4d08b2017": {
          "model_module": "@jupyter-widgets/controls",
          "model_name": "FloatProgressModel",
          "model_module_version": "1.5.0",
          "state": {
            "_dom_classes": [],
            "_model_module": "@jupyter-widgets/controls",
            "_model_module_version": "1.5.0",
            "_model_name": "FloatProgressModel",
            "_view_count": null,
            "_view_module": "@jupyter-widgets/controls",
            "_view_module_version": "1.5.0",
            "_view_name": "ProgressView",
            "bar_style": "success",
            "description": "",
            "description_tooltip": null,
            "layout": "IPY_MODEL_454885c0314d438693d54ed2ebf86c24",
            "max": 1554,
            "min": 0,
            "orientation": "horizontal",
            "style": "IPY_MODEL_b891b7d3cb4d422999d2553ffca39165",
            "value": 1554
          }
        },
        "178330814a1e40819129ba90e60cc014": {
          "model_module": "@jupyter-widgets/controls",
          "model_name": "HTMLModel",
          "model_module_version": "1.5.0",
          "state": {
            "_dom_classes": [],
            "_model_module": "@jupyter-widgets/controls",
            "_model_module_version": "1.5.0",
            "_model_name": "HTMLModel",
            "_view_count": null,
            "_view_module": "@jupyter-widgets/controls",
            "_view_module_version": "1.5.0",
            "_view_name": "HTMLView",
            "description": "",
            "description_tooltip": null,
            "layout": "IPY_MODEL_03c010f164fb4231aaa516d29ad4103a",
            "placeholder": "​",
            "style": "IPY_MODEL_64724e8188a84d9dbf5eeef772a29b91",
            "value": " 1.55k/1.55k [00:00&lt;00:00, 63.7kB/s]"
          }
        },
        "03331862f1ce4b7fa18f7303cf32cc2b": {
          "model_module": "@jupyter-widgets/base",
          "model_name": "LayoutModel",
          "model_module_version": "1.2.0",
          "state": {
            "_model_module": "@jupyter-widgets/base",
            "_model_module_version": "1.2.0",
            "_model_name": "LayoutModel",
            "_view_count": null,
            "_view_module": "@jupyter-widgets/base",
            "_view_module_version": "1.2.0",
            "_view_name": "LayoutView",
            "align_content": null,
            "align_items": null,
            "align_self": null,
            "border": null,
            "bottom": null,
            "display": null,
            "flex": null,
            "flex_flow": null,
            "grid_area": null,
            "grid_auto_columns": null,
            "grid_auto_flow": null,
            "grid_auto_rows": null,
            "grid_column": null,
            "grid_gap": null,
            "grid_row": null,
            "grid_template_areas": null,
            "grid_template_columns": null,
            "grid_template_rows": null,
            "height": null,
            "justify_content": null,
            "justify_items": null,
            "left": null,
            "margin": null,
            "max_height": null,
            "max_width": null,
            "min_height": null,
            "min_width": null,
            "object_fit": null,
            "object_position": null,
            "order": null,
            "overflow": null,
            "overflow_x": null,
            "overflow_y": null,
            "padding": null,
            "right": null,
            "top": null,
            "visibility": null,
            "width": null
          }
        },
        "a1825de0be5b41da9b6c118d9953771d": {
          "model_module": "@jupyter-widgets/base",
          "model_name": "LayoutModel",
          "model_module_version": "1.2.0",
          "state": {
            "_model_module": "@jupyter-widgets/base",
            "_model_module_version": "1.2.0",
            "_model_name": "LayoutModel",
            "_view_count": null,
            "_view_module": "@jupyter-widgets/base",
            "_view_module_version": "1.2.0",
            "_view_name": "LayoutView",
            "align_content": null,
            "align_items": null,
            "align_self": null,
            "border": null,
            "bottom": null,
            "display": null,
            "flex": null,
            "flex_flow": null,
            "grid_area": null,
            "grid_auto_columns": null,
            "grid_auto_flow": null,
            "grid_auto_rows": null,
            "grid_column": null,
            "grid_gap": null,
            "grid_row": null,
            "grid_template_areas": null,
            "grid_template_columns": null,
            "grid_template_rows": null,
            "height": null,
            "justify_content": null,
            "justify_items": null,
            "left": null,
            "margin": null,
            "max_height": null,
            "max_width": null,
            "min_height": null,
            "min_width": null,
            "object_fit": null,
            "object_position": null,
            "order": null,
            "overflow": null,
            "overflow_x": null,
            "overflow_y": null,
            "padding": null,
            "right": null,
            "top": null,
            "visibility": null,
            "width": null
          }
        },
        "77bb0bfa5b45420d8aa1ad347e070af4": {
          "model_module": "@jupyter-widgets/controls",
          "model_name": "DescriptionStyleModel",
          "model_module_version": "1.5.0",
          "state": {
            "_model_module": "@jupyter-widgets/controls",
            "_model_module_version": "1.5.0",
            "_model_name": "DescriptionStyleModel",
            "_view_count": null,
            "_view_module": "@jupyter-widgets/base",
            "_view_module_version": "1.2.0",
            "_view_name": "StyleView",
            "description_width": ""
          }
        },
        "454885c0314d438693d54ed2ebf86c24": {
          "model_module": "@jupyter-widgets/base",
          "model_name": "LayoutModel",
          "model_module_version": "1.2.0",
          "state": {
            "_model_module": "@jupyter-widgets/base",
            "_model_module_version": "1.2.0",
            "_model_name": "LayoutModel",
            "_view_count": null,
            "_view_module": "@jupyter-widgets/base",
            "_view_module_version": "1.2.0",
            "_view_name": "LayoutView",
            "align_content": null,
            "align_items": null,
            "align_self": null,
            "border": null,
            "bottom": null,
            "display": null,
            "flex": null,
            "flex_flow": null,
            "grid_area": null,
            "grid_auto_columns": null,
            "grid_auto_flow": null,
            "grid_auto_rows": null,
            "grid_column": null,
            "grid_gap": null,
            "grid_row": null,
            "grid_template_areas": null,
            "grid_template_columns": null,
            "grid_template_rows": null,
            "height": null,
            "justify_content": null,
            "justify_items": null,
            "left": null,
            "margin": null,
            "max_height": null,
            "max_width": null,
            "min_height": null,
            "min_width": null,
            "object_fit": null,
            "object_position": null,
            "order": null,
            "overflow": null,
            "overflow_x": null,
            "overflow_y": null,
            "padding": null,
            "right": null,
            "top": null,
            "visibility": null,
            "width": null
          }
        },
        "b891b7d3cb4d422999d2553ffca39165": {
          "model_module": "@jupyter-widgets/controls",
          "model_name": "ProgressStyleModel",
          "model_module_version": "1.5.0",
          "state": {
            "_model_module": "@jupyter-widgets/controls",
            "_model_module_version": "1.5.0",
            "_model_name": "ProgressStyleModel",
            "_view_count": null,
            "_view_module": "@jupyter-widgets/base",
            "_view_module_version": "1.2.0",
            "_view_name": "StyleView",
            "bar_color": null,
            "description_width": ""
          }
        },
        "03c010f164fb4231aaa516d29ad4103a": {
          "model_module": "@jupyter-widgets/base",
          "model_name": "LayoutModel",
          "model_module_version": "1.2.0",
          "state": {
            "_model_module": "@jupyter-widgets/base",
            "_model_module_version": "1.2.0",
            "_model_name": "LayoutModel",
            "_view_count": null,
            "_view_module": "@jupyter-widgets/base",
            "_view_module_version": "1.2.0",
            "_view_name": "LayoutView",
            "align_content": null,
            "align_items": null,
            "align_self": null,
            "border": null,
            "bottom": null,
            "display": null,
            "flex": null,
            "flex_flow": null,
            "grid_area": null,
            "grid_auto_columns": null,
            "grid_auto_flow": null,
            "grid_auto_rows": null,
            "grid_column": null,
            "grid_gap": null,
            "grid_row": null,
            "grid_template_areas": null,
            "grid_template_columns": null,
            "grid_template_rows": null,
            "height": null,
            "justify_content": null,
            "justify_items": null,
            "left": null,
            "margin": null,
            "max_height": null,
            "max_width": null,
            "min_height": null,
            "min_width": null,
            "object_fit": null,
            "object_position": null,
            "order": null,
            "overflow": null,
            "overflow_x": null,
            "overflow_y": null,
            "padding": null,
            "right": null,
            "top": null,
            "visibility": null,
            "width": null
          }
        },
        "64724e8188a84d9dbf5eeef772a29b91": {
          "model_module": "@jupyter-widgets/controls",
          "model_name": "DescriptionStyleModel",
          "model_module_version": "1.5.0",
          "state": {
            "_model_module": "@jupyter-widgets/controls",
            "_model_module_version": "1.5.0",
            "_model_name": "DescriptionStyleModel",
            "_view_count": null,
            "_view_module": "@jupyter-widgets/base",
            "_view_module_version": "1.2.0",
            "_view_name": "StyleView",
            "description_width": ""
          }
        },
        "d496e3d0686648669aaa6d2f4b992684": {
          "model_module": "@jupyter-widgets/controls",
          "model_name": "HBoxModel",
          "model_module_version": "1.5.0",
          "state": {
            "_dom_classes": [],
            "_model_module": "@jupyter-widgets/controls",
            "_model_module_version": "1.5.0",
            "_model_name": "HBoxModel",
            "_view_count": null,
            "_view_module": "@jupyter-widgets/controls",
            "_view_module_version": "1.5.0",
            "_view_name": "HBoxView",
            "box_style": "",
            "children": [
              "IPY_MODEL_940ce49655b34bf3aa74f3cd60ce53a7",
              "IPY_MODEL_f5a8049e36d94db0b2c206fb345985f9",
              "IPY_MODEL_368d43ceb5d147d8b184e8f6a0cfd1bd"
            ],
            "layout": "IPY_MODEL_8736f6919263437da09f2752a91f0df3"
          }
        },
        "940ce49655b34bf3aa74f3cd60ce53a7": {
          "model_module": "@jupyter-widgets/controls",
          "model_name": "HTMLModel",
          "model_module_version": "1.5.0",
          "state": {
            "_dom_classes": [],
            "_model_module": "@jupyter-widgets/controls",
            "_model_module_version": "1.5.0",
            "_model_name": "HTMLModel",
            "_view_count": null,
            "_view_module": "@jupyter-widgets/controls",
            "_view_module_version": "1.5.0",
            "_view_name": "HTMLView",
            "description": "",
            "description_tooltip": null,
            "layout": "IPY_MODEL_7ba8d47ae73243b1a2cbf6de9870b0fd",
            "placeholder": "​",
            "style": "IPY_MODEL_209e3a7524494834911612a9518467e5",
            "value": "pytorch_model.bin: 100%"
          }
        },
        "f5a8049e36d94db0b2c206fb345985f9": {
          "model_module": "@jupyter-widgets/controls",
          "model_name": "FloatProgressModel",
          "model_module_version": "1.5.0",
          "state": {
            "_dom_classes": [],
            "_model_module": "@jupyter-widgets/controls",
            "_model_module_version": "1.5.0",
            "_model_name": "FloatProgressModel",
            "_view_count": null,
            "_view_module": "@jupyter-widgets/controls",
            "_view_module_version": "1.5.0",
            "_view_name": "ProgressView",
            "bar_style": "success",
            "description": "",
            "description_tooltip": null,
            "layout": "IPY_MODEL_87a11187161242e49f47a448270a8b6b",
            "max": 891619985,
            "min": 0,
            "orientation": "horizontal",
            "style": "IPY_MODEL_5cc6236344e0443795e1b5dc355e0be6",
            "value": 891619985
          }
        },
        "368d43ceb5d147d8b184e8f6a0cfd1bd": {
          "model_module": "@jupyter-widgets/controls",
          "model_name": "HTMLModel",
          "model_module_version": "1.5.0",
          "state": {
            "_dom_classes": [],
            "_model_module": "@jupyter-widgets/controls",
            "_model_module_version": "1.5.0",
            "_model_name": "HTMLModel",
            "_view_count": null,
            "_view_module": "@jupyter-widgets/controls",
            "_view_module_version": "1.5.0",
            "_view_name": "HTMLView",
            "description": "",
            "description_tooltip": null,
            "layout": "IPY_MODEL_470fd3dc130d442bbf03fe7eb86cc610",
            "placeholder": "​",
            "style": "IPY_MODEL_052d585d557844fa8f530981859f9879",
            "value": " 892M/892M [00:30&lt;00:00, 26.6MB/s]"
          }
        },
        "8736f6919263437da09f2752a91f0df3": {
          "model_module": "@jupyter-widgets/base",
          "model_name": "LayoutModel",
          "model_module_version": "1.2.0",
          "state": {
            "_model_module": "@jupyter-widgets/base",
            "_model_module_version": "1.2.0",
            "_model_name": "LayoutModel",
            "_view_count": null,
            "_view_module": "@jupyter-widgets/base",
            "_view_module_version": "1.2.0",
            "_view_name": "LayoutView",
            "align_content": null,
            "align_items": null,
            "align_self": null,
            "border": null,
            "bottom": null,
            "display": null,
            "flex": null,
            "flex_flow": null,
            "grid_area": null,
            "grid_auto_columns": null,
            "grid_auto_flow": null,
            "grid_auto_rows": null,
            "grid_column": null,
            "grid_gap": null,
            "grid_row": null,
            "grid_template_areas": null,
            "grid_template_columns": null,
            "grid_template_rows": null,
            "height": null,
            "justify_content": null,
            "justify_items": null,
            "left": null,
            "margin": null,
            "max_height": null,
            "max_width": null,
            "min_height": null,
            "min_width": null,
            "object_fit": null,
            "object_position": null,
            "order": null,
            "overflow": null,
            "overflow_x": null,
            "overflow_y": null,
            "padding": null,
            "right": null,
            "top": null,
            "visibility": null,
            "width": null
          }
        },
        "7ba8d47ae73243b1a2cbf6de9870b0fd": {
          "model_module": "@jupyter-widgets/base",
          "model_name": "LayoutModel",
          "model_module_version": "1.2.0",
          "state": {
            "_model_module": "@jupyter-widgets/base",
            "_model_module_version": "1.2.0",
            "_model_name": "LayoutModel",
            "_view_count": null,
            "_view_module": "@jupyter-widgets/base",
            "_view_module_version": "1.2.0",
            "_view_name": "LayoutView",
            "align_content": null,
            "align_items": null,
            "align_self": null,
            "border": null,
            "bottom": null,
            "display": null,
            "flex": null,
            "flex_flow": null,
            "grid_area": null,
            "grid_auto_columns": null,
            "grid_auto_flow": null,
            "grid_auto_rows": null,
            "grid_column": null,
            "grid_gap": null,
            "grid_row": null,
            "grid_template_areas": null,
            "grid_template_columns": null,
            "grid_template_rows": null,
            "height": null,
            "justify_content": null,
            "justify_items": null,
            "left": null,
            "margin": null,
            "max_height": null,
            "max_width": null,
            "min_height": null,
            "min_width": null,
            "object_fit": null,
            "object_position": null,
            "order": null,
            "overflow": null,
            "overflow_x": null,
            "overflow_y": null,
            "padding": null,
            "right": null,
            "top": null,
            "visibility": null,
            "width": null
          }
        },
        "209e3a7524494834911612a9518467e5": {
          "model_module": "@jupyter-widgets/controls",
          "model_name": "DescriptionStyleModel",
          "model_module_version": "1.5.0",
          "state": {
            "_model_module": "@jupyter-widgets/controls",
            "_model_module_version": "1.5.0",
            "_model_name": "DescriptionStyleModel",
            "_view_count": null,
            "_view_module": "@jupyter-widgets/base",
            "_view_module_version": "1.2.0",
            "_view_name": "StyleView",
            "description_width": ""
          }
        },
        "87a11187161242e49f47a448270a8b6b": {
          "model_module": "@jupyter-widgets/base",
          "model_name": "LayoutModel",
          "model_module_version": "1.2.0",
          "state": {
            "_model_module": "@jupyter-widgets/base",
            "_model_module_version": "1.2.0",
            "_model_name": "LayoutModel",
            "_view_count": null,
            "_view_module": "@jupyter-widgets/base",
            "_view_module_version": "1.2.0",
            "_view_name": "LayoutView",
            "align_content": null,
            "align_items": null,
            "align_self": null,
            "border": null,
            "bottom": null,
            "display": null,
            "flex": null,
            "flex_flow": null,
            "grid_area": null,
            "grid_auto_columns": null,
            "grid_auto_flow": null,
            "grid_auto_rows": null,
            "grid_column": null,
            "grid_gap": null,
            "grid_row": null,
            "grid_template_areas": null,
            "grid_template_columns": null,
            "grid_template_rows": null,
            "height": null,
            "justify_content": null,
            "justify_items": null,
            "left": null,
            "margin": null,
            "max_height": null,
            "max_width": null,
            "min_height": null,
            "min_width": null,
            "object_fit": null,
            "object_position": null,
            "order": null,
            "overflow": null,
            "overflow_x": null,
            "overflow_y": null,
            "padding": null,
            "right": null,
            "top": null,
            "visibility": null,
            "width": null
          }
        },
        "5cc6236344e0443795e1b5dc355e0be6": {
          "model_module": "@jupyter-widgets/controls",
          "model_name": "ProgressStyleModel",
          "model_module_version": "1.5.0",
          "state": {
            "_model_module": "@jupyter-widgets/controls",
            "_model_module_version": "1.5.0",
            "_model_name": "ProgressStyleModel",
            "_view_count": null,
            "_view_module": "@jupyter-widgets/base",
            "_view_module_version": "1.2.0",
            "_view_name": "StyleView",
            "bar_color": null,
            "description_width": ""
          }
        },
        "470fd3dc130d442bbf03fe7eb86cc610": {
          "model_module": "@jupyter-widgets/base",
          "model_name": "LayoutModel",
          "model_module_version": "1.2.0",
          "state": {
            "_model_module": "@jupyter-widgets/base",
            "_model_module_version": "1.2.0",
            "_model_name": "LayoutModel",
            "_view_count": null,
            "_view_module": "@jupyter-widgets/base",
            "_view_module_version": "1.2.0",
            "_view_name": "LayoutView",
            "align_content": null,
            "align_items": null,
            "align_self": null,
            "border": null,
            "bottom": null,
            "display": null,
            "flex": null,
            "flex_flow": null,
            "grid_area": null,
            "grid_auto_columns": null,
            "grid_auto_flow": null,
            "grid_auto_rows": null,
            "grid_column": null,
            "grid_gap": null,
            "grid_row": null,
            "grid_template_areas": null,
            "grid_template_columns": null,
            "grid_template_rows": null,
            "height": null,
            "justify_content": null,
            "justify_items": null,
            "left": null,
            "margin": null,
            "max_height": null,
            "max_width": null,
            "min_height": null,
            "min_width": null,
            "object_fit": null,
            "object_position": null,
            "order": null,
            "overflow": null,
            "overflow_x": null,
            "overflow_y": null,
            "padding": null,
            "right": null,
            "top": null,
            "visibility": null,
            "width": null
          }
        },
        "052d585d557844fa8f530981859f9879": {
          "model_module": "@jupyter-widgets/controls",
          "model_name": "DescriptionStyleModel",
          "model_module_version": "1.5.0",
          "state": {
            "_model_module": "@jupyter-widgets/controls",
            "_model_module_version": "1.5.0",
            "_model_name": "DescriptionStyleModel",
            "_view_count": null,
            "_view_module": "@jupyter-widgets/base",
            "_view_module_version": "1.2.0",
            "_view_name": "StyleView",
            "description_width": ""
          }
        }
      }
    }
  },
  "cells": [
    {
      "cell_type": "markdown",
      "metadata": {
        "id": "view-in-github",
        "colab_type": "text"
      },
      "source": [
        "<a href=\"https://colab.research.google.com/github/ankitk75/DL-Lab/blob/main/LMQG_demo.ipynb\" target=\"_parent\"><img src=\"https://colab.research.google.com/assets/colab-badge.svg\" alt=\"Open In Colab\"/></a>"
      ]
    },
    {
      "cell_type": "markdown",
      "source": [
        "# Notebook Example of LMQG\n",
        "This is a colab notebook of [`lmqg`](https://github.com/asahi417/lm-question-generation#lmqg-language-model-for-question-generation-)."
      ],
      "metadata": {
        "id": "teHzLo4owK3j"
      }
    },
    {
      "cell_type": "code",
      "execution_count": null,
      "metadata": {
        "id": "L6m9o9YV0j7O",
        "outputId": "54700f35-de1a-47fd-d89e-e0efb13b61d2",
        "colab": {
          "base_uri": "https://localhost:8080/"
        }
      },
      "outputs": [
        {
          "output_type": "stream",
          "name": "stdout",
          "text": [
            "Requirement already satisfied: lmqg in /usr/local/lib/python3.10/dist-packages (0.1.1)\n",
            "Requirement already satisfied: psutil in /usr/local/lib/python3.10/dist-packages (from lmqg) (5.9.5)\n",
            "Requirement already satisfied: pytextrank in /usr/local/lib/python3.10/dist-packages (from lmqg) (3.2.5)\n",
            "Requirement already satisfied: torch in /usr/local/lib/python3.10/dist-packages (from lmqg) (2.1.0+cu121)\n",
            "Requirement already satisfied: tqdm in /usr/local/lib/python3.10/dist-packages (from lmqg) (4.66.1)\n",
            "Requirement already satisfied: requests in /usr/local/lib/python3.10/dist-packages (from lmqg) (2.31.0)\n",
            "Requirement already satisfied: pandas in /usr/local/lib/python3.10/dist-packages (from lmqg) (1.5.3)\n",
            "Requirement already satisfied: numpy in /usr/local/lib/python3.10/dist-packages (from lmqg) (1.23.5)\n",
            "Requirement already satisfied: transformers>=4.26.1 in /usr/local/lib/python3.10/dist-packages (from lmqg) (4.35.2)\n",
            "Requirement already satisfied: huggingface-hub>=0.12.0 in /usr/local/lib/python3.10/dist-packages (from lmqg) (0.20.3)\n",
            "Requirement already satisfied: sentencepiece in /usr/local/lib/python3.10/dist-packages (from lmqg) (0.1.99)\n",
            "Requirement already satisfied: datasets in /usr/local/lib/python3.10/dist-packages (from lmqg) (2.16.1)\n",
            "Requirement already satisfied: spacy in /usr/local/lib/python3.10/dist-packages (from lmqg) (3.6.1)\n",
            "Requirement already satisfied: sudachipy in /usr/local/lib/python3.10/dist-packages (from lmqg) (0.6.8)\n",
            "Requirement already satisfied: sudachidict-core in /usr/local/lib/python3.10/dist-packages (from lmqg) (20240109)\n",
            "Requirement already satisfied: bert-score in /usr/local/lib/python3.10/dist-packages (from lmqg) (0.3.13)\n",
            "Requirement already satisfied: pyemd in /usr/local/lib/python3.10/dist-packages (from lmqg) (1.0.0)\n",
            "Requirement already satisfied: evaluate in /usr/local/lib/python3.10/dist-packages (from lmqg) (0.4.1)\n",
            "Requirement already satisfied: wandb in /usr/local/lib/python3.10/dist-packages (from lmqg) (0.16.2)\n",
            "Requirement already satisfied: ray in /usr/local/lib/python3.10/dist-packages (from lmqg) (2.9.1)\n",
            "Requirement already satisfied: nltk in /usr/local/lib/python3.10/dist-packages (from lmqg) (3.8.1)\n",
            "Requirement already satisfied: accelerate in /usr/local/lib/python3.10/dist-packages (from lmqg) (0.26.1)\n",
            "Requirement already satisfied: filelock in /usr/local/lib/python3.10/dist-packages (from huggingface-hub>=0.12.0->lmqg) (3.13.1)\n",
            "Requirement already satisfied: fsspec>=2023.5.0 in /usr/local/lib/python3.10/dist-packages (from huggingface-hub>=0.12.0->lmqg) (2023.6.0)\n",
            "Requirement already satisfied: pyyaml>=5.1 in /usr/local/lib/python3.10/dist-packages (from huggingface-hub>=0.12.0->lmqg) (6.0.1)\n",
            "Requirement already satisfied: typing-extensions>=3.7.4.3 in /usr/local/lib/python3.10/dist-packages (from huggingface-hub>=0.12.0->lmqg) (4.5.0)\n",
            "Requirement already satisfied: packaging>=20.9 in /usr/local/lib/python3.10/dist-packages (from huggingface-hub>=0.12.0->lmqg) (23.2)\n",
            "Requirement already satisfied: regex!=2019.12.17 in /usr/local/lib/python3.10/dist-packages (from transformers>=4.26.1->lmqg) (2023.6.3)\n",
            "Requirement already satisfied: tokenizers<0.19,>=0.14 in /usr/local/lib/python3.10/dist-packages (from transformers>=4.26.1->lmqg) (0.15.1)\n",
            "Requirement already satisfied: safetensors>=0.3.1 in /usr/local/lib/python3.10/dist-packages (from transformers>=4.26.1->lmqg) (0.4.2)\n",
            "Requirement already satisfied: sympy in /usr/local/lib/python3.10/dist-packages (from torch->lmqg) (1.12)\n",
            "Requirement already satisfied: networkx in /usr/local/lib/python3.10/dist-packages (from torch->lmqg) (3.2.1)\n",
            "Requirement already satisfied: jinja2 in /usr/local/lib/python3.10/dist-packages (from torch->lmqg) (3.1.3)\n",
            "Requirement already satisfied: triton==2.1.0 in /usr/local/lib/python3.10/dist-packages (from torch->lmqg) (2.1.0)\n",
            "Requirement already satisfied: matplotlib in /usr/local/lib/python3.10/dist-packages (from bert-score->lmqg) (3.7.1)\n",
            "Requirement already satisfied: python-dateutil>=2.8.1 in /usr/local/lib/python3.10/dist-packages (from pandas->lmqg) (2.8.2)\n",
            "Requirement already satisfied: pytz>=2020.1 in /usr/local/lib/python3.10/dist-packages (from pandas->lmqg) (2023.4)\n",
            "Requirement already satisfied: pyarrow>=8.0.0 in /usr/local/lib/python3.10/dist-packages (from datasets->lmqg) (10.0.1)\n",
            "Requirement already satisfied: pyarrow-hotfix in /usr/local/lib/python3.10/dist-packages (from datasets->lmqg) (0.6)\n",
            "Requirement already satisfied: dill<0.3.8,>=0.3.0 in /usr/local/lib/python3.10/dist-packages (from datasets->lmqg) (0.3.7)\n",
            "Requirement already satisfied: xxhash in /usr/local/lib/python3.10/dist-packages (from datasets->lmqg) (3.4.1)\n",
            "Requirement already satisfied: multiprocess in /usr/local/lib/python3.10/dist-packages (from datasets->lmqg) (0.70.15)\n",
            "Requirement already satisfied: aiohttp in /usr/local/lib/python3.10/dist-packages (from datasets->lmqg) (3.9.3)\n",
            "Requirement already satisfied: charset-normalizer<4,>=2 in /usr/local/lib/python3.10/dist-packages (from requests->lmqg) (3.3.2)\n",
            "Requirement already satisfied: idna<4,>=2.5 in /usr/local/lib/python3.10/dist-packages (from requests->lmqg) (3.6)\n",
            "Requirement already satisfied: urllib3<3,>=1.21.1 in /usr/local/lib/python3.10/dist-packages (from requests->lmqg) (2.0.7)\n",
            "Requirement already satisfied: certifi>=2017.4.17 in /usr/local/lib/python3.10/dist-packages (from requests->lmqg) (2023.11.17)\n",
            "Requirement already satisfied: responses<0.19 in /usr/local/lib/python3.10/dist-packages (from evaluate->lmqg) (0.18.0)\n",
            "Requirement already satisfied: click in /usr/local/lib/python3.10/dist-packages (from nltk->lmqg) (8.1.7)\n",
            "Requirement already satisfied: joblib in /usr/local/lib/python3.10/dist-packages (from nltk->lmqg) (1.3.2)\n",
            "Requirement already satisfied: graphviz>=0.13 in /usr/local/lib/python3.10/dist-packages (from pytextrank->lmqg) (0.20.1)\n",
            "Requirement already satisfied: icecream>=2.1 in /usr/local/lib/python3.10/dist-packages (from pytextrank->lmqg) (2.1.3)\n",
            "Requirement already satisfied: pygments>=2.7.4 in /usr/local/lib/python3.10/dist-packages (from pytextrank->lmqg) (2.16.1)\n",
            "Requirement already satisfied: scipy>=1.7 in /usr/local/lib/python3.10/dist-packages (from pytextrank->lmqg) (1.11.4)\n",
            "Requirement already satisfied: spacy-legacy<3.1.0,>=3.0.11 in /usr/local/lib/python3.10/dist-packages (from spacy->lmqg) (3.0.12)\n",
            "Requirement already satisfied: spacy-loggers<2.0.0,>=1.0.0 in /usr/local/lib/python3.10/dist-packages (from spacy->lmqg) (1.0.5)\n",
            "Requirement already satisfied: murmurhash<1.1.0,>=0.28.0 in /usr/local/lib/python3.10/dist-packages (from spacy->lmqg) (1.0.10)\n",
            "Requirement already satisfied: cymem<2.1.0,>=2.0.2 in /usr/local/lib/python3.10/dist-packages (from spacy->lmqg) (2.0.8)\n",
            "Requirement already satisfied: preshed<3.1.0,>=3.0.2 in /usr/local/lib/python3.10/dist-packages (from spacy->lmqg) (3.0.9)\n",
            "Requirement already satisfied: thinc<8.2.0,>=8.1.8 in /usr/local/lib/python3.10/dist-packages (from spacy->lmqg) (8.1.12)\n",
            "Requirement already satisfied: wasabi<1.2.0,>=0.9.1 in /usr/local/lib/python3.10/dist-packages (from spacy->lmqg) (1.1.2)\n",
            "Requirement already satisfied: srsly<3.0.0,>=2.4.3 in /usr/local/lib/python3.10/dist-packages (from spacy->lmqg) (2.4.8)\n",
            "Requirement already satisfied: catalogue<2.1.0,>=2.0.6 in /usr/local/lib/python3.10/dist-packages (from spacy->lmqg) (2.0.10)\n",
            "Requirement already satisfied: typer<0.10.0,>=0.3.0 in /usr/local/lib/python3.10/dist-packages (from spacy->lmqg) (0.9.0)\n",
            "Requirement already satisfied: pathy>=0.10.0 in /usr/local/lib/python3.10/dist-packages (from spacy->lmqg) (0.11.0)\n",
            "Requirement already satisfied: smart-open<7.0.0,>=5.2.1 in /usr/local/lib/python3.10/dist-packages (from spacy->lmqg) (6.4.0)\n",
            "Requirement already satisfied: pydantic!=1.8,!=1.8.1,<3.0.0,>=1.7.4 in /usr/local/lib/python3.10/dist-packages (from spacy->lmqg) (1.10.14)\n",
            "Requirement already satisfied: setuptools in /usr/local/lib/python3.10/dist-packages (from spacy->lmqg) (67.7.2)\n",
            "Requirement already satisfied: langcodes<4.0.0,>=3.2.0 in /usr/local/lib/python3.10/dist-packages (from spacy->lmqg) (3.3.0)\n",
            "Requirement already satisfied: jsonschema in /usr/local/lib/python3.10/dist-packages (from ray->lmqg) (4.19.2)\n",
            "Requirement already satisfied: msgpack<2.0.0,>=1.0.0 in /usr/local/lib/python3.10/dist-packages (from ray->lmqg) (1.0.7)\n",
            "Requirement already satisfied: protobuf!=3.19.5,>=3.15.3 in /usr/local/lib/python3.10/dist-packages (from ray->lmqg) (3.20.3)\n",
            "Requirement already satisfied: aiosignal in /usr/local/lib/python3.10/dist-packages (from ray->lmqg) (1.3.1)\n",
            "Requirement already satisfied: frozenlist in /usr/local/lib/python3.10/dist-packages (from ray->lmqg) (1.4.1)\n",
            "Requirement already satisfied: tensorboardX>=1.9 in /usr/local/lib/python3.10/dist-packages (from ray->lmqg) (2.6.2.2)\n",
            "Requirement already satisfied: GitPython!=3.1.29,>=1.0.0 in /usr/local/lib/python3.10/dist-packages (from wandb->lmqg) (3.1.41)\n",
            "Requirement already satisfied: sentry-sdk>=1.0.0 in /usr/local/lib/python3.10/dist-packages (from wandb->lmqg) (1.40.0)\n",
            "Requirement already satisfied: docker-pycreds>=0.4.0 in /usr/local/lib/python3.10/dist-packages (from wandb->lmqg) (0.4.0)\n",
            "Requirement already satisfied: setproctitle in /usr/local/lib/python3.10/dist-packages (from wandb->lmqg) (1.3.3)\n",
            "Requirement already satisfied: appdirs>=1.4.3 in /usr/local/lib/python3.10/dist-packages (from wandb->lmqg) (1.4.4)\n",
            "Requirement already satisfied: six>=1.4.0 in /usr/local/lib/python3.10/dist-packages (from docker-pycreds>=0.4.0->wandb->lmqg) (1.16.0)\n",
            "Requirement already satisfied: attrs>=17.3.0 in /usr/local/lib/python3.10/dist-packages (from aiohttp->datasets->lmqg) (23.2.0)\n",
            "Requirement already satisfied: multidict<7.0,>=4.5 in /usr/local/lib/python3.10/dist-packages (from aiohttp->datasets->lmqg) (6.0.4)\n",
            "Requirement already satisfied: yarl<2.0,>=1.0 in /usr/local/lib/python3.10/dist-packages (from aiohttp->datasets->lmqg) (1.9.4)\n",
            "Requirement already satisfied: async-timeout<5.0,>=4.0 in /usr/local/lib/python3.10/dist-packages (from aiohttp->datasets->lmqg) (4.0.3)\n",
            "Requirement already satisfied: gitdb<5,>=4.0.1 in /usr/local/lib/python3.10/dist-packages (from GitPython!=3.1.29,>=1.0.0->wandb->lmqg) (4.0.11)\n",
            "Requirement already satisfied: colorama>=0.3.9 in /usr/local/lib/python3.10/dist-packages (from icecream>=2.1->pytextrank->lmqg) (0.4.6)\n",
            "Requirement already satisfied: executing>=0.3.1 in /usr/local/lib/python3.10/dist-packages (from icecream>=2.1->pytextrank->lmqg) (2.0.1)\n",
            "Requirement already satisfied: asttokens>=2.0.1 in /usr/local/lib/python3.10/dist-packages (from icecream>=2.1->pytextrank->lmqg) (2.4.1)\n",
            "Requirement already satisfied: contourpy>=1.0.1 in /usr/local/lib/python3.10/dist-packages (from matplotlib->bert-score->lmqg) (1.2.0)\n",
            "Requirement already satisfied: cycler>=0.10 in /usr/local/lib/python3.10/dist-packages (from matplotlib->bert-score->lmqg) (0.12.1)\n",
            "Requirement already satisfied: fonttools>=4.22.0 in /usr/local/lib/python3.10/dist-packages (from matplotlib->bert-score->lmqg) (4.47.2)\n",
            "Requirement already satisfied: kiwisolver>=1.0.1 in /usr/local/lib/python3.10/dist-packages (from matplotlib->bert-score->lmqg) (1.4.5)\n",
            "Requirement already satisfied: pillow>=6.2.0 in /usr/local/lib/python3.10/dist-packages (from matplotlib->bert-score->lmqg) (9.4.0)\n",
            "Requirement already satisfied: pyparsing>=2.3.1 in /usr/local/lib/python3.10/dist-packages (from matplotlib->bert-score->lmqg) (3.1.1)\n",
            "Requirement already satisfied: pathlib-abc==0.1.1 in /usr/local/lib/python3.10/dist-packages (from pathy>=0.10.0->spacy->lmqg) (0.1.1)\n",
            "Requirement already satisfied: blis<0.8.0,>=0.7.8 in /usr/local/lib/python3.10/dist-packages (from thinc<8.2.0,>=8.1.8->spacy->lmqg) (0.7.11)\n",
            "Requirement already satisfied: confection<1.0.0,>=0.0.1 in /usr/local/lib/python3.10/dist-packages (from thinc<8.2.0,>=8.1.8->spacy->lmqg) (0.1.4)\n",
            "Requirement already satisfied: MarkupSafe>=2.0 in /usr/local/lib/python3.10/dist-packages (from jinja2->torch->lmqg) (2.1.4)\n",
            "Requirement already satisfied: jsonschema-specifications>=2023.03.6 in /usr/local/lib/python3.10/dist-packages (from jsonschema->ray->lmqg) (2023.12.1)\n",
            "Requirement already satisfied: referencing>=0.28.4 in /usr/local/lib/python3.10/dist-packages (from jsonschema->ray->lmqg) (0.33.0)\n",
            "Requirement already satisfied: rpds-py>=0.7.1 in /usr/local/lib/python3.10/dist-packages (from jsonschema->ray->lmqg) (0.17.1)\n",
            "Requirement already satisfied: mpmath>=0.19 in /usr/local/lib/python3.10/dist-packages (from sympy->torch->lmqg) (1.3.0)\n",
            "Requirement already satisfied: smmap<6,>=3.0.1 in /usr/local/lib/python3.10/dist-packages (from gitdb<5,>=4.0.1->GitPython!=3.1.29,>=1.0.0->wandb->lmqg) (5.0.1)\n"
          ]
        }
      ],
      "source": [
        "!pip install lmqg"
      ]
    },
    {
      "cell_type": "code",
      "source": [
        "from pprint import pprint\n",
        "from lmqg import TransformersQG"
      ],
      "metadata": {
        "id": "XrYqvzLjZwev"
      },
      "execution_count": null,
      "outputs": []
    },
    {
      "cell_type": "code",
      "source": [
        "context = [\n",
        "\"manipal the academy of higher education ( mahe ) is an indian school , with the status of an institution of eminence and deemed university\",\n",
        "\"over , students from + different nations study there in the sprawling university town , which sits on a plateau in the udupi district of karnataka .\",\n",
        "\"the school has campuses in mangalore , bangalore , and jamshedpur in india , as well as global campuses in dubai and malaysia .\",\n",
        "\"in , dr. t. m. a. pai founded india 's first private medical school , the kasturba medical college , and five years later the manipal institute of technology was established .\",\n",
        "\"initially , degrees were awarded by karnataka university , dharwad and later by the university of mysore .\",\n",
        "\"from to they were awarded by mangalore university .\",\n",
        "\"the current organizational structure was formed in when kasturba medical college and manipal college of dental sciences were accorded deemed university status by ugc .\",\n",
        "\"manipal institute of technology became a constituent unit of manipal academy of higher education in .\",\n",
        "\"in , mahe introduced five online degree and diploma programs in business administration , data science , business analytics , and logistics and supply chain .\",\n",
        "\"the campus at manipal covers acres ( . km ) of land and is centred in the university town of manipal .\"\n",
        "\"Manipal Academy of Higher Education (MAHE) is an Indian school, with the status of an institution of eminence and deemed university.\",\n",
        "\"In Mahe, started offering UGC-entitled online degree programs through the online Manipal platform.\",\n",
        "\"Currently, the university offers online MBA for working professionals, online M.Sc. in Data Science, and online M.Sc. in Business Analytics beside online PGCP in Business Analytics and PGCP in Logistics & Supply Chain Management.\",\n",
        "\"Manipal Academy of Higher Education was conferred the Institutes of Eminence status by the Ministry of Education, Government of India, in.\",\n",
        "\"Internationally, Manipal Academy of Higher Education was ranked – in the QS World University Rankings of and in Asia.\",\n",
        "\"It was ranked – in the world by the Times Higher Education World University Rankings of , – in Asia in , and – among emerging economies.\",\n",
        "\"In India, MAHE has been accredited by NAAC with an A++ grade, and the National Institutional Ranking Framework (NIRF) ranked Manipal Academy of Higher Education th overall and th among universities in.\",\n",
        "\"NIRF also ranked the Manipal College of Pharmaceutical Sciences th.\"\n",
        "\"Manipal Academy of Higher Education (MAHE) is an Indian institution with the status of an Institution of Eminence and deemed university. It comprises six libraries spread across its medical, humanities, and engineering school campuses.\",\n",
        "\"Budgetary provisions are given for research through capital allocations for the maintenance of animal facilities, consumables, equipment, etc.\",\n",
        "\"₹ million (US $,) was sanctioned to the Manipal Institute of Technology in 2013 towards funding innovation.\",\n",
        "\"MCOPS, Manipal, sends its second-year postgraduate (PG) students for collaborative research programs at R&D centers all over the country.\",\n",
        "\"Often, the research carried out by them becomes a part of the intellectual property of the company.\",\n",
        "\"The Manipal Life Science Centre has a research team and is undertaking several research projects funded by DBT, DST, etc.\",\n",
        "\"MLSC is linked to several international research institutions such as Wistar Institute, Philadelphia, University of Queensland, and many more.\",\n",
        "\"The Manipal Advanced Research Group was formed in early with an aim to grow new research projects in fundamental sciences and promote interdisciplinary cooperation in areas between basic research, biomedical science, and engineering.\",\n",
        "\"Media related to Manipal University at Wikimedia Commons.\",\n",
        "\"Manipal is a suburb and university town within Udupi, in coastal Karnataka, India.\",\n",
        "\"Manipal is located five kilometers away from the center of Udupi city, in Udupi district, Karnataka (state) in southwestern India.\",\n",
        "\"It is administered by the Udupi City Municipality.\",\n",
        "\"The suburb is located in coastal Karnataka, km north of Mangalore and km east of the Arabian Sea.\",\n",
        "\"From its location on a plateau, at an altitude of about meters above sea level, it commands a panoramic view of the Arabian Sea to the west and the Western Ghats to the east.\",\n",
        "\"ome to the Manipal Academy of Higher Education, the town attracts more than twenty-five thousand students every year; hence, most of the population consists of students or university staff.\"\n",
        "\"There are numerous spots throughout the suburb that attract students from nearby Mangalore and Udupi, such as End Point, Manipal Lake, and Malpe Beach.\",\n",
        "\"The city owes its rapid development to Manipal Academy of Higher Education for converting this into a student city. It is called 'Campus Town' by the locals.\",\n",
        "\"A regional information technology hub, Manipal has one of the highest densities of mobile phones in India.\",\n",
        "\"Manipal derives its name from 'Manna Palla' (meaning 'muddy hole' or 'muddy lake' in Tulu), commonly called Manipal Lake, a freshwater lake within Manipal.\",\n",
        "\"[Citation needed] Situated km (.\",\n",
        "\"mi) east of the center of the temple city of Udupi and km (mi) north of Mangalore, Manipal was previously part of the Shivalli Village Panchayat.\",\n",
        "\"Now it is part of Udupi City.\",\n",
        "\"The name is derived from 'Munn' and 'Palla', Anglicised to Manipal. Munn means 'mud' and Palla means 'lake' in Tulu language.\",\n",
        "\"This lake, roughly in the shape of mtrs.\",\n",
        "\"Diameter circle, after which Manipal is named, is located in the middle of the town and about km (.\",\n",
        "\"mi).\",\n",
        "\"Away from the Arabian Sea and has a boating facility.\",\n",
        "\"The Swarna River passes just north of Manipal.\",\n",
        "\"Recreational facilities are available through End Point Park and Tree Park.\",\n",
        "\"Manipal was once a barren hill with few trees.\",\n",
        "\"This hill was transformed into the university town it now is by Dr. T. M. A. Pai, who first started the Kasturba Medical College in , now a part of the university, the Manipal Academy of Higher Education (MAHE).\",\n",
        "\"Tourist spots like Agumbe, Kudremukh, Kapu, and Malpe are also located nearby.\",\n",
        "\"From September to February, the weather in Manipal is tropical with daily temperatures averaging °C (°F).\"\n",
        "\"From June to mid-October, Manipal witnesses one of the most extreme monsoons in the world, with the annual precipitation ranging from – cm (– in).\",\n",
        "\"The months of December to May are hot and humid, with the daily temperatures typically peaking at °C (°F).\",\n",
        "\"Being away from large urban centers and the highly tropical climate, the town attracts a large number of birds, with different species of birds being recorded in February, including rarities such as the Tickell's Thrush, Blue-eared Kingfisher, and Slaty-breasted Rail.\",\n",
        "\"Manipal is connected to Mangalore (takes about minutes via road) and towns such as Udupi, Karkala, and Kundapur by several private bus services and KSRTC city buses which run every thirty minutes.\",\n",
        "\"The town also has overnight bus services to Bangalore, Hyderabad, Goa, and Mumbai.\",\n",
        "\"There are also buses which connect to the famous nearby tourist attractions like Malpe Beach, Delta Beach, Dharmasthala.\",\n",
        "\"Karnataka State Road Transport Corporation runs air-conditioned bus service between Mangalore International Airport and Manipal.\",\n",
        "\"The nearest railway station is Udupi Station (UD) on the Konkan Railway line, located four kilometers west of Manipal.\",\n",
        "\"It has trains connecting Bengaluru, Mumbai, Goa, Kerala, New Delhi, Gujarat, Rajasthan, Uttar Pradesh, Madhya Pradesh, Haryana, Tamil Nadu, Uttarakhand, Punjab.\",\n",
        "\"It is about a kilometer away from the National Highway A. Mangalore Central (MAQ) is the nearest major railway station and is located in Mangalore, km (mi) south of the town.\",\n",
        "\"The nearest international airport is Mangalore International Airport, which is located around km (mi) south from Manipal, connecting it to Indian cities like Mumbai, Bangalore, Hyderabad, Chennai, and Delhi, and internationally to the Middle Eastern countries like Oman, Kuwait, Bahrain, Qatar, Saudi Arabia, and United Arab Emirates.\",\n",
        "\"Pre-paid taxis are available to transport passengers to and from Manipal and Udupi.\",\n",
        "\"KSRTC runs air-conditioned direct bus service between Manipal and Mangaluru International Airport.\",\n",
        "\"Buses also connect Manipal directly to the Kempegowda International Airport in Bangalore, to cater to the large number of international students studying at the university.\",\n",
        "\"KSRTC recently started 'Flybus', a premium daily bus service from Manipal to Kempegowda International Airport in Bangalore.\",\n",
        "\"Manipal gained prominence when Dr. T.M.A Pai founded the Kasturba Medical College in , the Manipal Institute of Technology in , a popular institute for engineering, and other colleges later, all of which became a part of Manipal Academy of Higher Education in .\",\n",
        "\"Manipal Academy of Higher Education has been granted the status of Institute of Eminence in the year.\",\n",
        "\"It has also been ranked among the top ten private engineering colleges within India.\",\n",
        "\"It is ranked nd within the state of Karnataka.\",\n",
        "\"Pai also founded the Manipal Pre-University College.\",\n",
        "\"Manipal is a major technology and medical research hub, with major conferences and seminars organized almost every week.\",\n",
        "\"Since the establishment of Manipal University Technology and Business Incubator (MUTBI), the in-house business incubator of the university, a large number of student-run technology and media startups have sprung up.\",\n",
        "\"Manipal Institute of Technology is a private engineering school under Manipal Academy of Higher Education in India.\",\n",
        "\"The Manipal Institute of Technology (MIT), Manipal, was established in as one of the first self-financing engineering colleges in the country.\",\n",
        "\"MIT is a constituent unit of Manipal Academy of Higher Education (MAHE), Manipal, Karnataka, India.\",\n",
        "\"The institute has academic departments and awards undergraduate, graduate, and postgraduate degrees.\",\n",
        "\"The MIT campus is spread over acres of what once used to be a desolate plateau of hard, laterite rock in South Karnataka's Udupi District.\",\n",
        "\"The institute undertakes sponsored research programs supported by funding agencies such as DST, CSIR, AICTE, and the Ministry of Environmental Sciences.\"\n",
        "\"It has collaborative research programs in association with premier research laboratories and institutes in India and abroad.\",\n",
        "\"In the government of had decreed it as Institute of Eminence. Manipal Engineering College (MEC) was inaugurated on May by the then Chief Minister of Mysore, S. Nijalingappa.\",\n",
        "\"The first president of the college was Roque Fernandes.\",\n",
        "\"In the initial months, lectures were held at the Kasturba Medical College, Manipal campus before the infrastructure was ready at its present campus towards the end of .\",\n",
        "\"The institute started with staff members and an annual intake of students for the undergraduate courses on a campus of acres (km).\",\n",
        "\"Civil engineering was the first discipline to be offered at the institute, but by , full undergraduate programs were also available in the areas of mechanical engineering and electrical engineering.\",\n",
        "\"Housing facilities were operational from for outstation students.\",\n",
        "\"In the initial years, the institute was affiliated with the Karnatak University. In , the institute got affiliated to the University of Mysore.\",\n",
        "\"More courses were added over the decades as the college expanded.\",\n",
        "\"The MIT, Manipal student chapter of the Institution of Engineers (Mechanical and Manufacturing Engineering) was established in the mid-s. In , chemical engineering was introduced as a branch of study, followed by electronics and communication engineering.\",\n",
        "\"In , the semester scheme was adopted, and a one-year postgraduate diploma in industrial engineering was offered. In the same year, the Venugopala Temple, modelled on the famous Kirti Mandir, Vadodara, Gujarat, was built.\",\n",
        "\"The MIT campus has been visited by several well-known persons at various times.\",\n",
        "\"The Tibetan spiritual leader, the Dalai Lama, visited the college in .\",\n",
        "\"The s saw the visit of Smt. Indira Gandhi, the then Prime Minister of India.\",\n",
        "\"In , it was renamed as Manipal Institute of Technology.\",\n",
        "\"The institute was brought under the purview of Mangalore University in .\",\n",
        "\"In , other branches of study such as industrial production and architecture were introduced.\",\n",
        "\"The construction of the 7-floor library building with an area of 60,000 square feet (5,600 m) and more hostel blocks, including 7th, 8th blocks and women's hostels were completed in the s. The swimming pool was inaugurated in , and the floodlit basketball court at Kamath Circle in .\",\n",
        "\"In Manipal Academy of Higher Education (MAHE) was granted deemed university status, and Manipal Institute of Technology became its constituent college.\",\n",
        "\"Dr. A.P.J. Abdul Kalam, the then President of India, visited the college and interacted with the students in .\",\n",
        "\"This visit was later repeated in by the then President of India Pratibha Patil.\",\n",
        "\"saw the construction of the Innovation Center, housing companies such as Phillips and EMC and associated research and development.\",\n",
        "\"The 7-floor 9th block located between the 3rd and 4th blocks for housing lady students was also completed during this period.\",\n",
        "\"The adjoining new lecture hall complex ('NLH') was built anticipating the increase in intake and was inaugurated in the year.\"\n",
        "\"Saw the inauguration of Academic Block, the largest academic building on campus, housing classrooms, academic and research labs, and department and faculty offices.\",\n",
        "\"Undergraduate courses in instrumentation and control engineering were added in and mechatronics was added in . Those in aeronautical engineering and automobile engineering were added in .\",\n",
        "\"The Department of Architecture was rechristened as the Faculty of Architecture in , and then as Manipal School of Architecture and Planning and Design, as a separate institute under the Manipal Academy of Higher Education in .\",\n",
        "\"In , an integrated course in computer science and communication engineering was added, under the Department of Information and Communication Technology.\",\n",
        "\"The annual undergraduate student intake increased from 500 spread over engineering disciplines in the year to 1,800 spread over 11 disciplines in .\",\n",
        "\"As of July [update], the institute has an intake of more than 4,000 students.\",\n",
        "\"The institute was also visited by Smt. Pratibha Patil, the then President of India, for the university's annual convocation in December .\",\n",
        "\"The then Finance Minister and future President of India, Shri Pranab Mukherjee, also visited the institute on May to inaugurate one of the academic blocks.\",\n",
        "\"The institute was visited by acclaimed South Indian film director S.S. Rajmouli in October .\",\n",
        "\"The institute also played host to the 46th annual convention of the National Association of Students of Architecture (NASA) in January .\",\n",
        "\"The new logo of the institute was unveiled by alumni Nokia former CEO Rajiv Suri during the institute's convocation. It was designed by Kartikeya Rastogi, who was then a senior year chemical engineering undergraduate student.\",\n",
        "\"In July , it was among the two private institutes to be decreed with Institute of Eminence. MIT Manipal's campus is located km ( mi) north of Mangalore. The campus is located km from Udupi's railway station and is spread over an area of 188 acres (76 ha) housing academic buildings, and residential buildings (known as blocks), with a total capacity of 10,000 inhabitants.\",\n",
        "\"Kamath Circle has been renamed and renovated as Student Plaza with a two-floored colosseum-like structure and a musical fountain at the center also containing a couple of general stores.\",\n",
        "\"The food court, with a seating capacity of 500 people, caters to the food needs of about 1,500 people daily.\"\n",
        "\"A second food court was constructed in near the 7th and 8th hostel blocks.\",\n",
        "\"Apart from Food Court and Food Court, there exists other food courts known as Annapoorna Mess and Apporva Mess located near Hostel Block and Hostel Block D, respectively.\",\n",
        "\"MIT has been using a credit-based system since , in which each course is assigned a number of credits.\",\n",
        "\"The odd semester starts around the month of July and ends by December, and the even semester starts around January and ends by May.\",\n",
        "\"Manipal Academy of Higher Education is accredited by the Government of India's National Assessment and Accreditation Council (NAAC).\",\n",
        "\"MIT Manipal offers full-time, four/five-year undergraduate (bachelor's degree) programs in the various disciplines, as well as Master of Technology (M.Tech.) degrees and various other postgraduate programs awarding Master of Science (M.S.) in Software Engineering, Master of Computer Applications (M.C.A.), and an integrated M.B.A. program (in conjunction with other programs in MAHE).\",\n",
        "\"Admissions to postgraduate programs are either on the basis of an entrance exam or the performance in an undergraduate degree program. All applicants are required to have appropriate bachelor's degrees.\",\n",
        "\"The institute also offers Ph.D. programs on a full-time or part-time basis for suitably qualified candidates.\",\n",
        "\"Manipal Institute of Technology was ranked 4th among engineering colleges in India by India Today in , among private engineering colleges by Outlook India in , and 1st among engineering colleges by the National Institutional Ranking Framework (NIRF) in .\",\n",
        "\"Admission to Manipal Institute of Technology is through the Manipal Entrance Test (MET), which replaced the Manipal University Online Entrance Test (MU OET) for and beyond and is carried out at centers across India.\",\n",
        "\"It is a computer-based exam and consists of questions testing Physics, Chemistry, Mathematics, English, and Logical Reasoning and spans a duration of 2 hours and 30 minutes.\",\n",
        "\"The test is for 200 marks, +4 for every correct answer and -1 for every wrong one.\",\n",
        "\"MAHE offers two opportunities for a student to write the entrance exam, subject to additional payment and availability of vacancies.\",\n",
        "\"The format was changed and the test now has 200 questions and the total maximum marks are 800.\",\n",
        "\"Each MCQ (Multiple Choice Question) carries 4 marks with negative marking, whereas each NAT (Numerical Answer Type) carries 4 marks with no negative marking.\",\n",
        "\", unlike other entrance exams, the computer-based exam scores are displayed immediately after the exam ends, with which one may appear for admission counseling.\"\n",
        "\"The institute makes budgetary provisions for the maintenance of research equipment through capital allocation.\",\n",
        "\"An amount of ₹ million was sanctioned to the institute in – towards innovation.\",\n",
        "\"MITians have access to various journals and educational materials to facilitate research by students.\",\n",
        "\"Students of the institute take up summer internship as a part of their curriculum.\",\n",
        "\"Several research programs in the areas of nanotechnology, nuclear engineering, VLSI design, and pattern recognition are being pursued in the interdisciplinary labs under the institute's Innovation Centre.\",\n",
        "\"The oldest student organizations are the Editorial Board and the Student Council.\",\n",
        "\"The Student Council, MIT Manipal, is the apex student body of the institute, composed of elected student representatives. The President chairs the council followed by the General Secretary.\",\n",
        "\"The Cultural Secretary is overall in charge of all cultural clubs of the institute and is also the convener of Revels, along with the Sports Secretary.\",\n",
        "\"Likewise, the Sports Secretary is responsible for all the sporting activities of the institute and heads as well as coordinates with all the sports captains of various sports clubs and teams of the institute.\",\n",
        "\"Similarly, Technical Secretary heads all the technical clubs, and Placement Secretaries coordinate with the companies and students during the placement season.\",\n",
        "\"Overall, there are close to a hundred clubs and organizations in the institute.\",\n",
        "\"The clubs are completely run and managed by the students, and they host a variety of events/competitions throughout the year.\",\n",
        "\"Technical clubs like SAE-IM (Society of Automotive Engineers-India| Manipal), ASME (American Society of Mechanical Engineers), IE-CSE, IE-Civil, IE-E&C, IE E&E, IE-Mechatronics, cultural clubs like Goonj, The Hindi Literary Club, Blank-, Comedy Club Manipal, ΛδQ (The Literary, Debate, and Quiz Club), Red-X (The Socio-Adventure Club), and more clubs like ADA Dramatics, Aaina Dramatics, and The Music and Fine Arts Club have won several awards at major cultural fests such as Unmaad, IIM Bangalore, and Mood Indigo, IIT Bombay.\",\n",
        "\"The college has an official student-run media body, The MIT Post.\",\n",
        "\"It was founded on November .\",\n",
        "\"The MIT Post keeps a record of all student activities on campus, including those of all other clubs and organizations.\",\n",
        "\"Another prominent name is the Photography Club, Manipal, which is the official photography club of the college founded all the way back in .\",\n",
        "\"Teams from ManipalTech have won innovation and entrepreneurship competitions such as the GE Edison Innovation Challenge and consecutive victories at the Schneider Electric India Innovation Challenge.\",\n",
        "\"The college has several technical clubs, including international as well as national student organizations such as the ACM, IEEE, ISTE, IEMCT, and ASME.\"\n",
        "\"These clubs are very active on campus and organize workshops and various other events on a regular basis.\",\n",
        "\"Formula Manipal is a student initiative aiming to conceive, design, fabricate, develop, and compete with other formula-style vehicles at international Formula Student events.\",\n",
        "\"They built a cc race car that was selected to participate in the Formula SAE competition organized by the Society of Automotive Engineers held at Ferrari Race Track at Maranello in Italy, an international race car design competition attended by universities from across the world.\",\n",
        "\"In , the team participated with the second prototype at FS UK, held at the Silverstone F track.\",\n",
        "\"ThrustMIT is one of the country’s first rocketry teams.\",\n",
        "\"The team aims to foster interest and innovation in the field of rocketry.\",\n",
        "\"The modus operandi at ThrustMIT involves providing team members with hands-on experience in this field, allowing them to improve and learn on the job, which ultimately aids them in supporting the team’s endeavors.\",\n",
        "\"Project Manas is another initiative by students and is an AI robotics team that was founded in the year .\",\n",
        "\"They have taken part in India's biggest driverless car challenge - \\\"Spark The Rise\\\" - organized by Mahindra.\",\n",
        "\"The team qualified for three stages and is one of the top teams to qualify for the prototyping phase.\",\n",
        "\"The prototype is capable of detecting and navigating around pedestrians, a variety of traffic signs and signals, road and non-road regions, vehicles along with a wide range of other obstacles.\",\n",
        "\"AeroMIT is a student project aiming towards aeromodelling and drone research.\",\n",
        "\"They design and fabricate RC and autonomous aerial vehicles for competition as well as research purposes.\",\n",
        "\"The year - was one of the most successful years for the team.\",\n",
        "\"They secured podium positions in national competitions like Aerophilia and Techfest, .\",\n",
        "\"The team also secured world rank in their flagship competition SAE Aerodesign East held in Lakeland, Florida.\",\n",
        "\"Other than that, the team secured world rank in the category of oral presentation by scoring the highest points in the history of the competition and was also the only team to lift the maximum possible payload.\",\n",
        "\"Participating in competitions is not the only goal of the team; they also focus on various projects and research work.\",\n",
        "\"Mars Rover Manipal, one of the more recent endeavors by undergraduate students, is a multi-disciplinary team that designs and builds rovers for the exploration of extraterrestrial environments.\",\n",
        "\"They regularly compete in various competitions and have steadily improved their rankings at the University Rover Challenge held by the Mars Society USA, since they first entered in .\",\n",
        "\"It is a premier robotics competition held annually every summer at the Mars Desert Research Station in Utah, USA.\",\n",
        "\"MIT hosts one festival every semester.\",\n",
        "\"In even semesters, there is a cultural and sports festival, \\\"Revels\\\".\",\n",
        "\"The official theme of the Revels festival was 'Qainaat'.\",\n",
        "\"The theme was to drive healthy environmental practices around the globe, to address the environmental crisis.\",\n",
        "\"In odd semesters, there is a technical festival, \\\"Tech Tatva\\\".\",\n",
        "\"These are student-organized fests, with participants from all over India and overseas.\",\n",
        "\"The students of the university, with some help from the administration, carry out the festivities on the campus.\",\n",
        "\"The entire process of managing and organizing the fest is handled by the students with the work being divided amongst various categories.\",\n",
        "\"In , following aggressive protests by the students of the Manipal Institute of Technology (MIT), the director, Kum Kum Garg, resigned from her post.\"\n",
        "\"The protesting students had demanded the resignation of the director for her alleged insensitive remarks over the death of a student in a bus accident.\",\n",
        "\"In March, MIT required students to download a software called Pexa Lite on their laptops, to conduct proctored end-semester exams.\",\n",
        "\"On installing the software, some students complained of their laptops slowing or crashing due to malware.\",\n",
        "\"In February, the students of MIT were called back to campus for the offline end-semester examinations.\",\n",
        "\"But on March, offline classes were canceled due to the rising number of COVID- cases on campus.\",\n",
        "\"By the first week of April, over students of MIT were infected by the coronavirus due to poor social distancing and lax safety standards in the college.\",\n",
        "\"In the last week of May, MIT released a revised schedule for the upcoming months.\",\n",
        "\"This was a very chaotic, tough schedule.\",\n",
        "\"This caused outrage amongst the students, who were already not pleased with the college due to unpopular decisions taken by them over the course of the pandemic.\",\n",
        "\"The protests by the students of MIT were initially ignored by the administration of MIT and MAHE.\",\n",
        "\"But, on June, MIT cancelled the end-semester examinations and opted to prorate the marks based on previous semester performances.\"\n",
        "\n",
        "]\n"
      ],
      "metadata": {
        "id": "EV80w4DKW3LK"
      },
      "execution_count": null,
      "outputs": []
    },
    {
      "cell_type": "code",
      "source": [
        "def split_sentences_into_lists(sentences, sentences_per_list):\n",
        "  num_lists = len(sentences) // sentences_per_list\n",
        "  split_lists = []\n",
        "  for i in range(num_lists):\n",
        "    start_index = i * sentences_per_list\n",
        "    end_index = start_index + sentences_per_list\n",
        "    split_lists.append(sentences[start_index:end_index])\n",
        "\n",
        "  # Add the remaining sentences to the last list\n",
        "  if len(sentences) % sentences_per_list != 0:\n",
        "    split_lists.append(sentences[num_lists * sentences_per_list:])\n",
        "\n",
        "  return split_lists"
      ],
      "metadata": {
        "id": "Au4VPdFOW7Ua"
      },
      "execution_count": null,
      "outputs": []
    },
    {
      "cell_type": "code",
      "source": [
        "paras = split_sentences_into_lists(context, 10)\n",
        "len(paras)"
      ],
      "metadata": {
        "id": "1ftSLyJ6XDdw",
        "outputId": "07f6fc22-bb33-4ec0-e7bf-54eb9138167f",
        "colab": {
          "base_uri": "https://localhost:8080/"
        }
      },
      "execution_count": null,
      "outputs": [
        {
          "output_type": "execute_result",
          "data": {
            "text/plain": [
              "19"
            ]
          },
          "metadata": {},
          "execution_count": 32
        }
      ]
    },
    {
      "cell_type": "code",
      "source": [
        "paras[1]"
      ],
      "metadata": {
        "id": "vI-Q3U9YyibT",
        "outputId": "5e19dfd3-33d2-4836-e750-97dbfa5bbc21",
        "colab": {
          "base_uri": "https://localhost:8080/"
        }
      },
      "execution_count": null,
      "outputs": [
        {
          "output_type": "execute_result",
          "data": {
            "text/plain": [
              "['In Mahe, started offering UGC-entitled online degree programs through the online Manipal platform.',\n",
              " 'Currently, the university offers online MBA for working professionals, online M.Sc. in Data Science, and online M.Sc. in Business Analytics beside online PGCP in Business Analytics and PGCP in Logistics & Supply Chain Management.',\n",
              " 'Manipal Academy of Higher Education was conferred the Institutes of Eminence status by the Ministry of Education, Government of India, in.',\n",
              " 'Internationally, Manipal Academy of Higher Education was ranked – in the QS World University Rankings of and in Asia.',\n",
              " 'It was ranked – in the world by the Times Higher Education World University Rankings of , – in Asia in , and – among emerging economies.',\n",
              " 'In India, MAHE has been accredited by NAAC with an A++ grade, and the National Institutional Ranking Framework (NIRF) ranked Manipal Academy of Higher Education th overall and th among universities in.',\n",
              " 'NIRF also ranked the Manipal College of Pharmaceutical Sciences th.Manipal Academy of Higher Education (MAHE) is an Indian institution with the status of an Institution of Eminence and deemed university. It comprises six libraries spread across its medical, humanities, and engineering school campuses.',\n",
              " 'Budgetary provisions are given for research through capital allocations for the maintenance of animal facilities, consumables, equipment, etc.',\n",
              " '₹ million (US $,) was sanctioned to the Manipal Institute of Technology in 2013 towards funding innovation.',\n",
              " 'MCOPS, Manipal, sends its second-year postgraduate (PG) students for collaborative research programs at R&D centers all over the country.']"
            ]
          },
          "metadata": {},
          "execution_count": 33
        }
      ]
    },
    {
      "cell_type": "markdown",
      "source": [
        "## Question and Answer Generation (End2end)"
      ],
      "metadata": {
        "id": "erRMsEx-zJbX"
      }
    },
    {
      "cell_type": "code",
      "source": [
        "# initialize model\n",
        "model = TransformersQG(language='en', model='lmqg/t5-base-squad-qag')"
      ],
      "metadata": {
        "id": "RhKhXG1mW6fk",
        "outputId": "0431d93b-ffa9-4360-d363-04ee55a3e8d4",
        "colab": {
          "base_uri": "https://localhost:8080/"
        }
      },
      "execution_count": null,
      "outputs": [
        {
          "output_type": "stream",
          "name": "stderr",
          "text": [
            "/usr/local/lib/python3.10/dist-packages/transformers/models/auto/tokenization_auto.py:671: FutureWarning: The `use_auth_token` argument is deprecated and will be removed in v5 of Transformers. Please use `token` instead.\n",
            "  warnings.warn(\n",
            "/usr/local/lib/python3.10/dist-packages/transformers/models/auto/configuration_auto.py:1033: FutureWarning: The `use_auth_token` argument is deprecated and will be removed in v5 of Transformers. Please use `token` instead.\n",
            "  warnings.warn(\n",
            "/usr/local/lib/python3.10/dist-packages/transformers/modeling_utils.py:2570: FutureWarning: The `use_auth_token` argument is deprecated and will be removed in v5 of Transformers. Please use `token` instead.\n",
            "  warnings.warn(\n",
            "/usr/local/lib/python3.10/dist-packages/transformers/utils/hub.py:374: FutureWarning: The `use_auth_token` argument is deprecated and will be removed in v5 of Transformers. Please use `token` instead.\n",
            "  warnings.warn(\n"
          ]
        }
      ]
    },
    {
      "cell_type": "code",
      "source": [
        "for i in range(1):\n",
        "  pprint('Set {} : '.format(i))\n",
        "  question_answer = model.generate_qa(paras[i], num_questions=1)\n",
        "  pprint(question_answer)"
      ],
      "metadata": {
        "id": "jV7gcsUBYfXT",
        "outputId": "7389c697-e2f8-47e4-8ccc-aaf40d39a2b4",
        "colab": {
          "base_uri": "https://localhost:8080/"
        }
      },
      "execution_count": null,
      "outputs": [
        {
          "output_type": "stream",
          "name": "stdout",
          "text": [
            "'Set 0 : '\n"
          ]
        },
        {
          "output_type": "stream",
          "name": "stderr",
          "text": [
            "100%|██████████| 1/1 [00:00<00:00, 421.96it/s]\n"
          ]
        },
        {
          "output_type": "stream",
          "name": "stdout",
          "text": [
            "[[('What is mahe?', 'manipal the academy of higher education'),\n",
            "  ('What does mahe stand for?', 'manipal the academy of higher education'),\n",
            "  ('What does mahe stand for?', 'manipal the academy of higher education'),\n",
            "  ('What does mahe stand for?', 'manipal the academy of higher education')]]\n"
          ]
        }
      ]
    },
    {
      "cell_type": "code",
      "source": [
        "# paragraph to generate pairs of question and answer\n",
        "context = \"Manipal Academy of Higher Education (MAHE) is an Indian school, with the status of an institution of eminence and deemed university. Over, students from different nations study there in the sprawling university town, which sits on a plateau in the Udupi district of Karnataka. The school has campuses in Mangalore, Bangalore, and Jamshedpur in India, as well as global campuses in Dubai and Malaysia. In, Dr. T. M. A. Pai founded India's first private medical school, the Kasturba Medical College, and five years later the Manipal Institute of Technology was established. Initially, degrees were awarded by Karnataka University, Dharwad, and later by the University of Mysore. From to they were awarded by Mangalore University. The current organizational structure was formed in when Kasturba Medical College and Manipal College of Dental Sciences were accorded deemed university status by UGC. Manipal Institute of Technology became a constituent unit of Manipal Academy of Higher Education in. In, MAHE introduced five online degree and diploma programs in business administration, data science, business analytics, and logistics and supply chain. The campus at Manipal covers acres of land and is centered in the university town of Manipal.\"\n",
        "# model prediction\n",
        "question_answer = model.generate_qa(context, num_questions=10)\n",
        "# the output is a list of tuple (question, answer)\n",
        "pprint(question_answer)"
      ],
      "metadata": {
        "colab": {
          "base_uri": "https://localhost:8080/"
        },
        "id": "1U3jLNxjvvYn",
        "outputId": "31f5dce2-3ff0-45c8-f5a3-b54adf571579"
      },
      "execution_count": null,
      "outputs": [
        {
          "output_type": "stream",
          "name": "stderr",
          "text": [
            "100%|██████████| 1/1 [00:00<00:00, 48.68it/s]\n"
          ]
        },
        {
          "output_type": "stream",
          "name": "stdout",
          "text": [
            "[('What is MAHE?', 'Manipal Academy of Higher Education'),\n",
            " ('Where is MAHE located?', 'Udupi district of Karnataka'),\n",
            " (\"Who founded India's first private medical school?\", 'Dr. T. M. A. Pai'),\n",
            " (\"What is the name of India's first private medical school?\",\n",
            "  'Kasturba Medical College'),\n",
            " (\"What is the name of India's first private medical school?\",\n",
            "  'Kasturba Medical College')]\n"
          ]
        }
      ]
    },
    {
      "cell_type": "markdown",
      "source": [
        "## Question and Answer Generation (Multitask)\n"
      ],
      "metadata": {
        "id": "2g2jfXXff0Fk"
      }
    },
    {
      "cell_type": "code",
      "source": [
        "# initialize model\n",
        "model = TransformersQG(language='en', model='lmqg/t5-base-squad-qg-ae')"
      ],
      "metadata": {
        "id": "zG1JjAHyf0R1",
        "outputId": "c73d6b82-8957-4072-c026-af1a15bb5cd0",
        "colab": {
          "base_uri": "https://localhost:8080/"
        }
      },
      "execution_count": null,
      "outputs": [
        {
          "output_type": "stream",
          "name": "stderr",
          "text": [
            "/usr/local/lib/python3.10/dist-packages/transformers/models/auto/tokenization_auto.py:671: FutureWarning: The `use_auth_token` argument is deprecated and will be removed in v5 of Transformers. Please use `token` instead.\n",
            "  warnings.warn(\n",
            "/usr/local/lib/python3.10/dist-packages/transformers/models/auto/configuration_auto.py:1033: FutureWarning: The `use_auth_token` argument is deprecated and will be removed in v5 of Transformers. Please use `token` instead.\n",
            "  warnings.warn(\n",
            "/usr/local/lib/python3.10/dist-packages/transformers/modeling_utils.py:2570: FutureWarning: The `use_auth_token` argument is deprecated and will be removed in v5 of Transformers. Please use `token` instead.\n",
            "  warnings.warn(\n",
            "/usr/local/lib/python3.10/dist-packages/transformers/utils/hub.py:374: FutureWarning: The `use_auth_token` argument is deprecated and will be removed in v5 of Transformers. Please use `token` instead.\n",
            "  warnings.warn(\n"
          ]
        }
      ]
    },
    {
      "cell_type": "code",
      "source": [
        "# model prediction\n",
        "question_answer = model.generate_qa(context)\n",
        "# the output is a list of tuple (question, answer)\n",
        "pprint(question_answer)"
      ],
      "metadata": {
        "colab": {
          "base_uri": "https://localhost:8080/"
        },
        "id": "pUEzY1i6f05G",
        "outputId": "aabca11c-a848-4034-fbcc-9ff43dd384ea"
      },
      "execution_count": null,
      "outputs": [
        {
          "output_type": "stream",
          "name": "stderr",
          "text": [
            "100%|██████████| 10/10 [00:00<00:00, 466.34it/s]\n",
            "100%|██████████| 10/10 [00:00<00:00, 426.20it/s]\n"
          ]
        },
        {
          "output_type": "stream",
          "name": "stdout",
          "text": [
            "[('What does MAHE stand for?', 'Manipal Academy of Higher Education'),\n",
            " ('In what district of Karnataka is Manipal Academy of Higher Education '\n",
            "  'located?',\n",
            "  'Udupi'),\n",
            " ('Where does the Manipal Academy of Higher Education have campuses in India?',\n",
            "  'Mangalore, Bangalore, and Jamshedpur'),\n",
            " (\"Who founded India's first private medical school?\", 'Dr. T. M. A. Pai'),\n",
            " ('Who initially awarded degrees to the Manipal Institute of Technology?',\n",
            "  'Karnataka University, Dharwad,'),\n",
            " ('Where is the Manipal Academy of Higher Education located?', 'Mangalore'),\n",
            " ('What two schools were granted deemed university status by the UGC?',\n",
            "  'Kasturba Medical College and Manipal College of Dental Sciences'),\n",
            " ('What was established five years after Kasturba Medical College?',\n",
            "  'Manipal Institute of Technology'),\n",
            " ('How many years later was the Manipal Institute of Technology established?',\n",
            "  'five'),\n",
            " ('How much land does the Manipal Academy of Higher Education campus cover?',\n",
            "  'acres')]\n"
          ]
        }
      ]
    },
    {
      "cell_type": "code",
      "source": [
        "for i in range(1):\n",
        "  pprint('Set {} : '.format(i))\n",
        "  if not paras[i]:\n",
        "    print(\"Context is empty. Skipping...\")\n",
        "    continue\n",
        "  question_answer = model.generate_qa(paras[i])\n",
        "  pprint(question_answer)"
      ],
      "metadata": {
        "id": "jnyeE7IwzEJE",
        "outputId": "54f7a570-c70f-4d1d-bb3a-12c8875c603c",
        "colab": {
          "base_uri": "https://localhost:8080/",
          "height": 442
        }
      },
      "execution_count": null,
      "outputs": [
        {
          "output_type": "stream",
          "name": "stdout",
          "text": [
            "'Set 0 : '\n"
          ]
        },
        {
          "output_type": "stream",
          "name": "stderr",
          "text": [
            "100%|██████████| 11/11 [00:00<00:00, 874.53it/s]\n"
          ]
        },
        {
          "output_type": "error",
          "ename": "AnswerNotFoundError",
          "evalue": "Model cannot find any answer candidates in `in , dr. t. m. a. pai founded india 's first private medical school , the kasturba medical college , and five years later the manipal institute of technology was established .`",
          "traceback": [
            "\u001b[0;31m---------------------------------------------------------------------------\u001b[0m",
            "\u001b[0;31mAnswerNotFoundError\u001b[0m                       Traceback (most recent call last)",
            "\u001b[0;32m<ipython-input-34-c08a277cad5b>\u001b[0m in \u001b[0;36m<cell line: 1>\u001b[0;34m()\u001b[0m\n\u001b[1;32m      4\u001b[0m     \u001b[0mprint\u001b[0m\u001b[0;34m(\u001b[0m\u001b[0;34m\"Context is empty. Skipping...\"\u001b[0m\u001b[0;34m)\u001b[0m\u001b[0;34m\u001b[0m\u001b[0;34m\u001b[0m\u001b[0m\n\u001b[1;32m      5\u001b[0m     \u001b[0;32mcontinue\u001b[0m\u001b[0;34m\u001b[0m\u001b[0;34m\u001b[0m\u001b[0m\n\u001b[0;32m----> 6\u001b[0;31m   \u001b[0mquestion_answer\u001b[0m \u001b[0;34m=\u001b[0m \u001b[0mmodel\u001b[0m\u001b[0;34m.\u001b[0m\u001b[0mgenerate_qa\u001b[0m\u001b[0;34m(\u001b[0m\u001b[0mparas\u001b[0m\u001b[0;34m[\u001b[0m\u001b[0mi\u001b[0m\u001b[0;34m]\u001b[0m\u001b[0;34m)\u001b[0m\u001b[0;34m\u001b[0m\u001b[0;34m\u001b[0m\u001b[0m\n\u001b[0m\u001b[1;32m      7\u001b[0m   \u001b[0mpprint\u001b[0m\u001b[0;34m(\u001b[0m\u001b[0mquestion_answer\u001b[0m\u001b[0;34m)\u001b[0m\u001b[0;34m\u001b[0m\u001b[0;34m\u001b[0m\u001b[0m\n",
            "\u001b[0;32m/usr/local/lib/python3.10/dist-packages/lmqg/language_model.py\u001b[0m in \u001b[0;36mgenerate_qa\u001b[0;34m(self, list_context, batch_size, num_beams, cache_path, num_questions, sentence_level)\u001b[0m\n\u001b[1;32m    432\u001b[0m \u001b[0;34m\u001b[0m\u001b[0m\n\u001b[1;32m    433\u001b[0m         \u001b[0mlogging\u001b[0m\u001b[0;34m.\u001b[0m\u001b[0minfo\u001b[0m\u001b[0;34m(\u001b[0m\u001b[0;34m'running model for `ae`'\u001b[0m\u001b[0;34m)\u001b[0m\u001b[0;34m\u001b[0m\u001b[0;34m\u001b[0m\u001b[0m\n\u001b[0;32m--> 434\u001b[0;31m         list_answer = self.generate_a(\n\u001b[0m\u001b[1;32m    435\u001b[0m             \u001b[0mlist_context\u001b[0m\u001b[0;34m,\u001b[0m\u001b[0;34m\u001b[0m\u001b[0;34m\u001b[0m\u001b[0m\n\u001b[1;32m    436\u001b[0m             \u001b[0mbatch_size\u001b[0m\u001b[0;34m=\u001b[0m\u001b[0mbatch_size\u001b[0m\u001b[0;34m,\u001b[0m\u001b[0;34m\u001b[0m\u001b[0;34m\u001b[0m\u001b[0m\n",
            "\u001b[0;32m/usr/local/lib/python3.10/dist-packages/lmqg/language_model.py\u001b[0m in \u001b[0;36mgenerate_a\u001b[0;34m(self, context, batch_size, num_beams, cache_path, sentence_level, num_questions)\u001b[0m\n\u001b[1;32m    535\u001b[0m         \u001b[0;32mif\u001b[0m \u001b[0;32mnot\u001b[0m \u001b[0mself\u001b[0m\u001b[0;34m.\u001b[0m\u001b[0mdrop_answer_error_text\u001b[0m\u001b[0;34m:\u001b[0m\u001b[0;34m\u001b[0m\u001b[0;34m\u001b[0m\u001b[0m\n\u001b[1;32m    536\u001b[0m             \u001b[0;32mif\u001b[0m \u001b[0many\u001b[0m\u001b[0;34m(\u001b[0m\u001b[0ma\u001b[0m \u001b[0;32mis\u001b[0m \u001b[0;32mNone\u001b[0m \u001b[0;32mfor\u001b[0m \u001b[0ma\u001b[0m \u001b[0;32min\u001b[0m \u001b[0mlist_answer\u001b[0m\u001b[0;34m)\u001b[0m\u001b[0;34m:\u001b[0m\u001b[0;34m\u001b[0m\u001b[0;34m\u001b[0m\u001b[0m\n\u001b[0;32m--> 537\u001b[0;31m                 \u001b[0;32mraise\u001b[0m \u001b[0mAnswerNotFoundError\u001b[0m\u001b[0;34m(\u001b[0m\u001b[0;34m[\u001b[0m\u001b[0mcontext\u001b[0m\u001b[0;34m[\u001b[0m\u001b[0mn\u001b[0m\u001b[0;34m]\u001b[0m \u001b[0;32mfor\u001b[0m \u001b[0mn\u001b[0m\u001b[0;34m,\u001b[0m \u001b[0ma\u001b[0m \u001b[0;32min\u001b[0m \u001b[0menumerate\u001b[0m\u001b[0;34m(\u001b[0m\u001b[0mlist_answer\u001b[0m\u001b[0;34m)\u001b[0m \u001b[0;32mif\u001b[0m \u001b[0ma\u001b[0m \u001b[0;32mis\u001b[0m \u001b[0;32mNone\u001b[0m\u001b[0;34m]\u001b[0m\u001b[0;34m[\u001b[0m\u001b[0;36m0\u001b[0m\u001b[0;34m]\u001b[0m\u001b[0;34m)\u001b[0m\u001b[0;34m\u001b[0m\u001b[0;34m\u001b[0m\u001b[0m\n\u001b[0m\u001b[1;32m    538\u001b[0m         \u001b[0;32mreturn\u001b[0m \u001b[0mlist_answer\u001b[0m\u001b[0;34m[\u001b[0m\u001b[0;36m0\u001b[0m\u001b[0;34m]\u001b[0m \u001b[0;32mif\u001b[0m \u001b[0msingle_input\u001b[0m \u001b[0;32melse\u001b[0m \u001b[0mlist_answer\u001b[0m\u001b[0;34m\u001b[0m\u001b[0;34m\u001b[0m\u001b[0m\n\u001b[1;32m    539\u001b[0m \u001b[0;34m\u001b[0m\u001b[0m\n",
            "\u001b[0;31mAnswerNotFoundError\u001b[0m: Model cannot find any answer candidates in `in , dr. t. m. a. pai founded india 's first private medical school , the kasturba medical college , and five years later the manipal institute of technology was established .`"
          ]
        }
      ]
    },
    {
      "cell_type": "markdown",
      "source": [
        "## Question and Answer Generation (Pipeline)"
      ],
      "metadata": {
        "id": "iKTdBgNKf8jY"
      }
    },
    {
      "cell_type": "code",
      "source": [
        "# initialize model\n",
        "model = TransformersQG(model='lmqg/t5-base-squad-qg', model_ae='lmqg/t5-base-squad-ae')"
      ],
      "metadata": {
        "id": "MxiSRT-Sf8wX",
        "outputId": "40f87ea7-1592-47da-cfb1-342a1d8254f2",
        "colab": {
          "base_uri": "https://localhost:8080/",
          "height": 465,
          "referenced_widgets": [
            "e06abca59730466682a098638ccbc21a",
            "f2b7ce8d954f4ae28ecd70e7529b4ad3",
            "80cc57888df2441aae4f3059b871f538",
            "96e16dabaf3d4f699a423c4d525f8b2e",
            "67bde06951d24f60899db9eac1bd015b",
            "f716089aedc94422a72e3744016909fb",
            "1f7216910c7b40b9922c45777b290910",
            "e82dd27e3d994eb08b4ea2b272a6af82",
            "374237866a2b478eb97859a56de8b49d",
            "e88aa11137414c0a94564217717598f5",
            "96f2c23b97764464beee4013f82043f1",
            "2c1c701b891f4dc18f005c5dde598c8e",
            "7794c5b585e440ae8612fdebd5fb7812",
            "1e74433cdf434f718c1820d6045a27cf",
            "50b38632413b4cfc83a0342935566314",
            "a2c868c693de41b78b508a5e68cfebf3",
            "e76c50ff353a419494eae1d9ba0b2e70",
            "38288b9bc37e4996956fbe8ede32fd5d",
            "4736604cdd644ed6bc65485616eab6f0",
            "1ebac8c607554dd0863bed4d1a26e46f",
            "6c8722d7eed04f9db3616544e0a73e3c",
            "b6e79fe550a14f29b533e0fa4d26fdf3",
            "9ca66c1bee824f5aa1ab437fa3377bf6",
            "ec7692ab0f9f432b88b8d4945fa865ba",
            "0a989feb5a604c0ca194ba22103205b1",
            "53a6847e906d49b9abcdbea68ba5835f",
            "47389ded099b4f0baf73af90629470ba",
            "2473f80e1f2d499e9746f5b09644d033",
            "bc38e7a2452b4c99bb11b2e98bc64c6d",
            "36ebfa7bc3344cf7a104ba67a8cb7d71",
            "a58c686bb641472ca82d33bf38946345",
            "41cfd1a2a35344f4bbd99d39ac102ce7",
            "45c7750e8bef401fa99da35384d44c56",
            "d6516054697d4871abc852d7ef9c3524",
            "30af35bbecc341cba378c2c75eaacd11",
            "f4be156b00364240903b7dda83b178f7",
            "cf1b83629bd6465fb44771787d8a43e5",
            "b9d618eea3294ae3ba1d02e682d12a51",
            "d851655b626743b6893cea27673c25d1",
            "b75a401c3a4c4f03b6d481b18cb4ddcb",
            "42bc1d69579a47158a8be3d4ecb4139d",
            "d54c5f3aa263453497b2240cd99fc45e",
            "6c7791847d5e406482cba2d32691e55f",
            "857d8defa3f940f491c238586ea16877",
            "9562a74052a44e6e9b20b420fb74afb5",
            "7a1370c23f1d47bdbdeb1d9fc2b85608",
            "fbf9b9561881407faeeb2478173a5433",
            "ec7df10dea25415fa58d74ff3ba20883",
            "35d989b506f24501ba67ce74fd72cd8d",
            "1a0f062185c34b5faf8ac56214c56f13",
            "e3027fd936b3411dbb357e9708f41e08",
            "11b91aee78bc42418ac6035f1f17e178",
            "aaf2b97cc9f24ca78a2092d8dba28e90",
            "6c4738a480834c09b7d0044c09fc2a17",
            "704bda16e7f34064b63edf0f1dc1919c",
            "b292af88422a4171bd03c8d4edd57150",
            "d85f888cf96a444486131ccdde1dc068",
            "f71c7fb83d274f46a5b9c78a11fc4544",
            "7c9382392f82400e986dfbff7198b911",
            "7cfaa67fb9cb4a8ea4cf8aa505b92189",
            "974f9d3fd55e42c885fc84c7a00c5852",
            "9dc62bcec6a4400a91b7c202a04ad851",
            "76b4849d8d534148bfdd96135bfcd55e",
            "d4b162905f7849f29ad0e73c552a8bd4",
            "9cd4b2532fe74efbbe1c39bd51e4c385",
            "94d378032b51477baf34bf723e7211f5",
            "96e718b4befa43a0ad15633fc47f27a1",
            "e13beeed327f4ba1b589639db87d092c",
            "77896cd2481a4eaa9ab78a2b9481c729",
            "0690197f240f4bcd9a40cbb5180f83fd",
            "1816ad6f8c6d40bd8cab9d6d45d00469",
            "565beac869474de586281cfce011b26c",
            "39587e1a7fba4890a38678a83b33688a",
            "116baf410d06453ba8320b34ae45d049",
            "e5fcb2bcda8e4ad2be105c84a9ba2b70",
            "e6feb0ca481440508717ecb344e2eb0e",
            "7940b5c8636a47caaf8c18227d3dae68",
            "7d28fccdcce74ad7a473a1d374115fed",
            "3c585194e92141508846b3b5ce54d48a",
            "6a9b309c96894a0ea704b0910d2c07aa",
            "40759c9ffaf84d1a9ec2cf662394d1d6",
            "3912d3be37db44ce843b5b3d728d3bb3",
            "3d84208b0eed4d838b66d187955b38ef",
            "a53a0a36e63248f1912362b4710f7265",
            "2ba00a02666d40af90a07af25c5341f7",
            "112470f978b34e4c84dea2f35292f239",
            "38e52563b0ef4511be3c1b0bc2fbf9f6",
            "ed1220e2f85c4058adde1eea00099570",
            "a5a06d051d3a4641b088baa9d462cf48",
            "9a8e4a71a5dd4fdcb247932f6720b069",
            "00bae4c37cd240ae9e2abc67f347afa0",
            "e53bd151f47d4830954c6f6436b80ebc",
            "7909472b172641a1b8bb7c3297c6eca2",
            "df203dd1e4ef4d52af659c8dabff8d20",
            "845a0f7ae3d549b98ef5856619775a11",
            "227bbd10e9864f378a4dd8a1680c3749",
            "e7598200ce8b4ed6861e7496c487e82e",
            "a3242badad824dbf8d8ae4e593e52c2e",
            "5f0bbe1672b448a4985c3777bcf9487a",
            "e53b8f4218134375a6e74860253f2fc4",
            "900ed3c11f8a4fa3adb11a791cc21037",
            "2bc1a0df77c04d11b704608c65dfc2bb",
            "95027644f11540febb01f9f91e3d17db",
            "ae7eaf5822d247878d16d0b96a8dc248",
            "2abbc795596645dfa6dc9f98414b162a",
            "49668092c14d4806b6664f60986b9824",
            "d4fcf56822d84fe7b3bd17d0b30577fd",
            "390c009955ff479aae2b5cadeaa76f3d",
            "0b74fff283204de0aead860ee275426a",
            "751ed6d45ad340f790e262be97cdfc22",
            "d1697ee8ca544ad6b2fb802f26ace1f2",
            "94cd0c70820e4174a296291868cdd52e",
            "da5e158f973f45238e3c956b504c24e8",
            "1d8df85e837a48209e4ca15408b73bb2",
            "ae7f74a33b7542389c3fa916151483b6",
            "b63519fc53474e9b876c526cc4fe7eeb",
            "585ac381ca83492694e4522442376ed8",
            "a3457e6fd0374ffba24dc0f18ca411fb",
            "53b2f90dcd4945f9b41bbd8c5f05d13c",
            "064447c7a4cb42ea94687bea063da258",
            "9775a69e26184490911125404dcf8e0e",
            "49f6df2fde3041f19f0724e16b96a325",
            "6997b7fc5b7a434a9dac1e302d3ee576",
            "b929b3e1c28d47249834286832f473d5",
            "6196b7214caf4730a37974454303b693",
            "f054c9433896446da351c53afa8b64f5",
            "27c907884d7048acbb7bf9467c910aa1",
            "4cff96e3f9ad42a2ba0274c0aa5ccbf3",
            "11035da2d7f54cff8c5df2fca5d964da",
            "f7d1e9c12ef64e3cbc63afe586e37765",
            "9697fb7a22be401fa105147d26b3f76c",
            "9e8d7603e42546ff816e08bde9ca35d7",
            "107882092fef469bbac44e3ceb215d01",
            "e5f320470611463f88b0a2d12893d37a",
            "4cb31ec3817f467699e0c7b4d08b2017",
            "178330814a1e40819129ba90e60cc014",
            "03331862f1ce4b7fa18f7303cf32cc2b",
            "a1825de0be5b41da9b6c118d9953771d",
            "77bb0bfa5b45420d8aa1ad347e070af4",
            "454885c0314d438693d54ed2ebf86c24",
            "b891b7d3cb4d422999d2553ffca39165",
            "03c010f164fb4231aaa516d29ad4103a",
            "64724e8188a84d9dbf5eeef772a29b91",
            "d496e3d0686648669aaa6d2f4b992684",
            "940ce49655b34bf3aa74f3cd60ce53a7",
            "f5a8049e36d94db0b2c206fb345985f9",
            "368d43ceb5d147d8b184e8f6a0cfd1bd",
            "8736f6919263437da09f2752a91f0df3",
            "7ba8d47ae73243b1a2cbf6de9870b0fd",
            "209e3a7524494834911612a9518467e5",
            "87a11187161242e49f47a448270a8b6b",
            "5cc6236344e0443795e1b5dc355e0be6",
            "470fd3dc130d442bbf03fe7eb86cc610",
            "052d585d557844fa8f530981859f9879"
          ]
        }
      },
      "execution_count": null,
      "outputs": [
        {
          "output_type": "display_data",
          "data": {
            "text/plain": [
              "tokenizer_config.json:   0%|          | 0.00/2.44k [00:00<?, ?B/s]"
            ],
            "application/vnd.jupyter.widget-view+json": {
              "version_major": 2,
              "version_minor": 0,
              "model_id": "e06abca59730466682a098638ccbc21a"
            }
          },
          "metadata": {}
        },
        {
          "output_type": "display_data",
          "data": {
            "text/plain": [
              "spiece.model:   0%|          | 0.00/792k [00:00<?, ?B/s]"
            ],
            "application/vnd.jupyter.widget-view+json": {
              "version_major": 2,
              "version_minor": 0,
              "model_id": "2c1c701b891f4dc18f005c5dde598c8e"
            }
          },
          "metadata": {}
        },
        {
          "output_type": "display_data",
          "data": {
            "text/plain": [
              "tokenizer.json:   0%|          | 0.00/2.42M [00:00<?, ?B/s]"
            ],
            "application/vnd.jupyter.widget-view+json": {
              "version_major": 2,
              "version_minor": 0,
              "model_id": "9ca66c1bee824f5aa1ab437fa3377bf6"
            }
          },
          "metadata": {}
        },
        {
          "output_type": "display_data",
          "data": {
            "text/plain": [
              "added_tokens.json:   0%|          | 0.00/20.0 [00:00<?, ?B/s]"
            ],
            "application/vnd.jupyter.widget-view+json": {
              "version_major": 2,
              "version_minor": 0,
              "model_id": "d6516054697d4871abc852d7ef9c3524"
            }
          },
          "metadata": {}
        },
        {
          "output_type": "display_data",
          "data": {
            "text/plain": [
              "special_tokens_map.json:   0%|          | 0.00/123 [00:00<?, ?B/s]"
            ],
            "application/vnd.jupyter.widget-view+json": {
              "version_major": 2,
              "version_minor": 0,
              "model_id": "9562a74052a44e6e9b20b420fb74afb5"
            }
          },
          "metadata": {}
        },
        {
          "output_type": "display_data",
          "data": {
            "text/plain": [
              "config.json:   0%|          | 0.00/1.54k [00:00<?, ?B/s]"
            ],
            "application/vnd.jupyter.widget-view+json": {
              "version_major": 2,
              "version_minor": 0,
              "model_id": "b292af88422a4171bd03c8d4edd57150"
            }
          },
          "metadata": {}
        },
        {
          "output_type": "display_data",
          "data": {
            "text/plain": [
              "pytorch_model.bin:   0%|          | 0.00/892M [00:00<?, ?B/s]"
            ],
            "application/vnd.jupyter.widget-view+json": {
              "version_major": 2,
              "version_minor": 0,
              "model_id": "96e718b4befa43a0ad15633fc47f27a1"
            }
          },
          "metadata": {}
        },
        {
          "output_type": "display_data",
          "data": {
            "text/plain": [
              "tokenizer_config.json:   0%|          | 0.00/2.40k [00:00<?, ?B/s]"
            ],
            "application/vnd.jupyter.widget-view+json": {
              "version_major": 2,
              "version_minor": 0,
              "model_id": "7d28fccdcce74ad7a473a1d374115fed"
            }
          },
          "metadata": {}
        },
        {
          "output_type": "display_data",
          "data": {
            "text/plain": [
              "spiece.model:   0%|          | 0.00/792k [00:00<?, ?B/s]"
            ],
            "application/vnd.jupyter.widget-view+json": {
              "version_major": 2,
              "version_minor": 0,
              "model_id": "a5a06d051d3a4641b088baa9d462cf48"
            }
          },
          "metadata": {}
        },
        {
          "output_type": "display_data",
          "data": {
            "text/plain": [
              "tokenizer.json:   0%|          | 0.00/2.42M [00:00<?, ?B/s]"
            ],
            "application/vnd.jupyter.widget-view+json": {
              "version_major": 2,
              "version_minor": 0,
              "model_id": "e53b8f4218134375a6e74860253f2fc4"
            }
          },
          "metadata": {}
        },
        {
          "output_type": "display_data",
          "data": {
            "text/plain": [
              "added_tokens.json:   0%|          | 0.00/20.0 [00:00<?, ?B/s]"
            ],
            "application/vnd.jupyter.widget-view+json": {
              "version_major": 2,
              "version_minor": 0,
              "model_id": "d1697ee8ca544ad6b2fb802f26ace1f2"
            }
          },
          "metadata": {}
        },
        {
          "output_type": "display_data",
          "data": {
            "text/plain": [
              "special_tokens_map.json:   0%|          | 0.00/123 [00:00<?, ?B/s]"
            ],
            "application/vnd.jupyter.widget-view+json": {
              "version_major": 2,
              "version_minor": 0,
              "model_id": "49f6df2fde3041f19f0724e16b96a325"
            }
          },
          "metadata": {}
        },
        {
          "output_type": "display_data",
          "data": {
            "text/plain": [
              "config.json:   0%|          | 0.00/1.55k [00:00<?, ?B/s]"
            ],
            "application/vnd.jupyter.widget-view+json": {
              "version_major": 2,
              "version_minor": 0,
              "model_id": "107882092fef469bbac44e3ceb215d01"
            }
          },
          "metadata": {}
        },
        {
          "output_type": "display_data",
          "data": {
            "text/plain": [
              "pytorch_model.bin:   0%|          | 0.00/892M [00:00<?, ?B/s]"
            ],
            "application/vnd.jupyter.widget-view+json": {
              "version_major": 2,
              "version_minor": 0,
              "model_id": "d496e3d0686648669aaa6d2f4b992684"
            }
          },
          "metadata": {}
        }
      ]
    },
    {
      "cell_type": "code",
      "source": [
        "# paragraph to generate pairs of question and answer\n",
        "context = \"Manipal Academy of Higher Education (MAHE) is an Indian school, with the status of an institution of eminence and deemed university. Over, students from different nations study there in the sprawling university town, which sits on a plateau in the Udupi district of Karnataka. The school has campuses in Mangalore, Bangalore, and Jamshedpur in India, as well as global campuses in Dubai and Malaysia. In, Dr. T. M. A. Pai founded India's first private medical school, the Kasturba Medical College, and five years later the Manipal Institute of Technology was established. Initially, degrees were awarded by Karnataka University, Dharwad, and later by the University of Mysore. From to they were awarded by Mangalore University. The current organizational structure was formed in when Kasturba Medical College and Manipal College of Dental Sciences were accorded deemed university status by UGC. Manipal Institute of Technology became a constituent unit of Manipal Academy of Higher Education in. In, MAHE introduced five online degree and diploma programs in business administration, data science, business analytics, and logistics and supply chain. The campus at Manipal covers acres of land and is centered in the university town of Manipal.\"\n",
        "# model prediction\n",
        "question_answer = model.generate_qa(context)\n",
        "# the output is a list of tuple (question, answer)\n",
        "pprint(question_answer)"
      ],
      "metadata": {
        "colab": {
          "base_uri": "https://localhost:8080/"
        },
        "id": "wdzKUAz-gFtF",
        "outputId": "7edaa24e-a431-490c-e7c5-4372ee9b6725"
      },
      "execution_count": null,
      "outputs": [
        {
          "output_type": "stream",
          "name": "stderr",
          "text": [
            "100%|██████████| 10/10 [00:00<00:00, 406.40it/s]\n",
            "100%|██████████| 10/10 [00:00<00:00, 427.10it/s]\n"
          ]
        },
        {
          "output_type": "stream",
          "name": "stdout",
          "text": [
            "[('What is MAHE?', 'Manipal Academy of Higher Education'),\n",
            " ('In what district of Karnataka is MAHE located?', 'Udupi'),\n",
            " ('Where is the Manipal Academy of Higher Education located?',\n",
            "  'Mangalore, Bangalore, and Jamshedpur'),\n",
            " ('Who founded the Kasturba Medical College?', 'Dr. T. M. A. Pai'),\n",
            " ('Who initially awarded degrees to the Manipal Academy of Higher Education?',\n",
            "  'Karnataka University, Dharwad, and later by the University of Mysore.'),\n",
            " ('Where is the Manipal Academy of Higher Education located?', 'Mangalore'),\n",
            " ('What two medical colleges were granted university status by UGC?',\n",
            "  'Kasturba Medical College and Manipal College of Dental Sciences'),\n",
            " ('What is MAHE?', 'Manipal Academy of Higher Education'),\n",
            " ('How many years later was the Manipal Institute of Technology established?',\n",
            "  'five'),\n",
            " ('How much land does the Manipal Academy of Higher Education campus cover?',\n",
            "  'acres')]\n"
          ]
        }
      ]
    },
    {
      "cell_type": "markdown",
      "source": [
        "## Question Generation"
      ],
      "metadata": {
        "id": "R1GyPcb-zj7i"
      }
    },
    {
      "cell_type": "code",
      "source": [
        "# initialize model\n",
        "model = TransformersQG(language='en', model='lmqg/t5-base-squad-qg')"
      ],
      "metadata": {
        "id": "nnEbJ7xey-3z",
        "outputId": "86e4ce3b-f239-44e9-c962-0343044a09a1",
        "colab": {
          "base_uri": "https://localhost:8080/"
        }
      },
      "execution_count": null,
      "outputs": [
        {
          "output_type": "stream",
          "name": "stderr",
          "text": [
            "/usr/local/lib/python3.10/dist-packages/transformers/models/auto/tokenization_auto.py:671: FutureWarning: The `use_auth_token` argument is deprecated and will be removed in v5 of Transformers. Please use `token` instead.\n",
            "  warnings.warn(\n",
            "/usr/local/lib/python3.10/dist-packages/transformers/models/auto/configuration_auto.py:1033: FutureWarning: The `use_auth_token` argument is deprecated and will be removed in v5 of Transformers. Please use `token` instead.\n",
            "  warnings.warn(\n",
            "/usr/local/lib/python3.10/dist-packages/transformers/modeling_utils.py:2570: FutureWarning: The `use_auth_token` argument is deprecated and will be removed in v5 of Transformers. Please use `token` instead.\n",
            "  warnings.warn(\n",
            "/usr/local/lib/python3.10/dist-packages/transformers/utils/hub.py:374: FutureWarning: The `use_auth_token` argument is deprecated and will be removed in v5 of Transformers. Please use `token` instead.\n",
            "  warnings.warn(\n"
          ]
        }
      ]
    },
    {
      "cell_type": "markdown",
      "source": [],
      "metadata": {
        "id": "5i2tXNTAYLW_"
      }
    },
    {
      "cell_type": "code",
      "source": [
        "# a list of paragraph\n",
        "\n",
        "\n",
        "for i in range(37):\n",
        "  pprint('Set {} : \\n'.format(i))\n",
        "  cont = paras[i]\n",
        "  question = model.generate_q(list_context=cont, list_answer=cont)\n",
        "  pprint(question)"
      ],
      "metadata": {
        "colab": {
          "base_uri": "https://localhost:8080/"
        },
        "id": "fCEnJI8fwDsz",
        "outputId": "d0c6df11-f3fd-412b-abf6-54c31114d90f"
      },
      "execution_count": null,
      "outputs": [
        {
          "output_type": "stream",
          "name": "stdout",
          "text": [
            "'Set 0 : \\n'\n"
          ]
        },
        {
          "output_type": "stream",
          "name": "stderr",
          "text": [
            "100%|██████████| 5/5 [00:00<00:00, 266.88it/s]\n"
          ]
        },
        {
          "output_type": "stream",
          "name": "stdout",
          "text": [
            "['What does mahe stand for?',\n",
            " 'How many students study in the sprawling university town?',\n",
            " 'What is the name of the school that has campuses in bangalore and '\n",
            " 'jamshedpur?',\n",
            " 'When did dr. t. m. a. pai founded the kasturba medical college?',\n",
            " 'How were degrees awarded at karnataka university and dharwad?']\n",
            "'Set 1 : \\n'\n"
          ]
        },
        {
          "output_type": "stream",
          "name": "stderr",
          "text": [
            "100%|██████████| 5/5 [00:00<00:00, 854.55it/s]\n"
          ]
        },
        {
          "output_type": "stream",
          "name": "stdout",
          "text": [
            "['How did mangalore university award them?',\n",
            " 'When was the current organizational structure formed?',\n",
            " 'When did manipal institute of technology become a constituent unit of '\n",
            " 'manipal academy of higher education?',\n",
            " 'When did mahe introduce online degree and diploma programs?',\n",
            " 'How large is the campus at manipal?']\n",
            "'Set 2 : \\n'\n"
          ]
        },
        {
          "output_type": "stream",
          "name": "stderr",
          "text": [
            "100%|██████████| 5/5 [00:00<00:00, 167.33it/s]\n"
          ]
        },
        {
          "output_type": "stream",
          "name": "stdout",
          "text": [
            "['When did Manipal start offering UGC-entitled online degree programs?',\n",
            " 'What is the name of the online MBA program offered by the university?',\n",
            " 'When was the Manipal Academy of Higher Education conferred the Institutes of '\n",
            " 'Eminence status?',\n",
            " 'How was Manipal Academy of Higher Education ranked in the QS World '\n",
            " 'University Rankings?',\n",
            " 'How was it ranked in the world by the Times Higher Education World '\n",
            " 'University Rankings?']\n",
            "'Set 3 : \\n'\n"
          ]
        },
        {
          "output_type": "stream",
          "name": "stderr",
          "text": [
            "100%|██████████| 5/5 [00:00<00:00, 616.68it/s]\n"
          ]
        },
        {
          "output_type": "stream",
          "name": "stdout",
          "text": [
            "['How did NAAC rank Manipal Academy of Higher Education in India?',\n",
            " 'How did the NIRF rank the Manipal College of Pharmaceutical Sciences?',\n",
            " 'How are budgets allocated for research?',\n",
            " 'How much was sanctioned to the Manipal Institute of Technology in 2013?',\n",
            " 'What does MCOPS do with its students?']\n",
            "'Set 4 : \\n'\n"
          ]
        },
        {
          "output_type": "stream",
          "name": "stderr",
          "text": [
            "100%|██████████| 5/5 [00:00<00:00, 844.91it/s]\n"
          ]
        },
        {
          "output_type": "stream",
          "name": "stdout",
          "text": [
            "['What happens to the research carried out by a company?',\n",
            " 'How is the Manipal Life Science Centre funded?',\n",
            " 'How is MLSC linked to other research institutions?',\n",
            " 'What is the purpose of the Manipal Advanced Research Group?',\n",
            " 'What does Wikimedia Commons have to say about Manipal University?']\n",
            "'Set 5 : \\n'\n"
          ]
        },
        {
          "output_type": "stream",
          "name": "stderr",
          "text": [
            "100%|██████████| 5/5 [00:00<00:00, 729.11it/s]\n"
          ]
        },
        {
          "output_type": "stream",
          "name": "stdout",
          "text": [
            "['What is the name of Manipal?',\n",
            " 'How far is Manipal from the center of Udupi city?',\n",
            " 'Who administers the city?',\n",
            " 'Where is the suburb of Karnataka located?',\n",
            " 'How does it view the Arabian Sea to the west and the Western Ghats to the '\n",
            " 'east?']\n",
            "'Set 6 : \\n'\n"
          ]
        },
        {
          "output_type": "stream",
          "name": "stderr",
          "text": [
            "100%|██████████| 5/5 [00:00<00:00, 292.07it/s]\n"
          ]
        },
        {
          "output_type": "stream",
          "name": "stdout",
          "text": [
            "['What is the name of the school that attracts students from Mangalore and '\n",
            " 'Udupi?',\n",
            " 'What does the city owe its rapid development to Manipal Academy of Higher '\n",
            " 'Education?',\n",
            " 'What does Manipal have one of the highest densities of mobile phones in '\n",
            " 'India?',\n",
            " 'What is the origin of the name Manipal?',\n",
            " 'What is the distance from the city?']\n",
            "'Set 7 : \\n'\n"
          ]
        },
        {
          "output_type": "stream",
          "name": "stderr",
          "text": [
            "100%|██████████| 5/5 [00:00<00:00, 740.31it/s]\n"
          ]
        },
        {
          "output_type": "stream",
          "name": "stdout",
          "text": [
            "['How far from the center of Udupi is Manipal?',\n",
            " 'What is the name of the city that is now part of Udupi City?',\n",
            " 'What is the origin of Munn and Palla?',\n",
            " 'What is the shape of the lake?',\n",
            " 'What is the diameter circle located in the middle of Manipal?']\n",
            "'Set 8 : \\n'\n"
          ]
        },
        {
          "output_type": "stream",
          "name": "stderr",
          "text": [
            "100%|██████████| 5/5 [00:00<00:00, 983.65it/s]\n"
          ]
        },
        {
          "output_type": "stream",
          "name": "stdout",
          "text": [
            "['How many miles is it?',\n",
            " 'Where is there a boating facility?',\n",
            " 'Where does the Swarna River pass?',\n",
            " 'What kind of facilities are available through End Point Park and Tree Park?',\n",
            " 'Was Manipal once a barren hill with few trees?']\n",
            "'Set 9 : \\n'\n"
          ]
        },
        {
          "output_type": "stream",
          "name": "stderr",
          "text": [
            "100%|██████████| 5/5 [00:00<00:00, 69.59it/s]\n"
          ]
        },
        {
          "output_type": "stream",
          "name": "stdout",
          "text": [
            "['How did Dr. T. M. A. Pai transform Kasturba Medical College?',\n",
            " 'What other tourist spots are located nearby?',\n",
            " 'What is the weather like in Manipal?',\n",
            " 'What are the months of December to May?',\n",
            " 'What is one of the reasons the town attracts a large number of birds?']\n",
            "'Set 10 : \\n'\n"
          ]
        },
        {
          "output_type": "stream",
          "name": "stderr",
          "text": [
            "100%|██████████| 5/5 [00:00<00:00, 104.48it/s]\n"
          ]
        },
        {
          "output_type": "stream",
          "name": "stdout",
          "text": [
            "['How is Manipal connected to Mangalore?',\n",
            " \"What is the name of the city's bus service?\",\n",
            " 'What is the name of the buses that connect to Malpe Beach?',\n",
            " 'Who runs the bus service between Mangalore International Airport and '\n",
            " 'Manipal?',\n",
            " 'What is the nearest railway station?']\n",
            "'Set 11 : \\n'\n"
          ]
        },
        {
          "output_type": "stream",
          "name": "stderr",
          "text": [
            "100%|██████████| 5/5 [00:00<00:00, 616.83it/s]\n"
          ]
        },
        {
          "output_type": "stream",
          "name": "stdout",
          "text": [
            "['What is the name of the train network?',\n",
            " 'How far is Mangalore Central from the National Highway A?',\n",
            " 'What is the closest international airport to Manipal?',\n",
            " 'What type of taxis are available to transport passengers to and from Manipal '\n",
            " 'and Udupi?',\n",
            " 'What type of bus service does KSRTC run?']\n",
            "'Set 12 : \\n'\n"
          ]
        },
        {
          "output_type": "stream",
          "name": "stderr",
          "text": [
            "100%|██████████| 5/5 [00:00<00:00, 594.95it/s]\n"
          ]
        },
        {
          "output_type": "stream",
          "name": "stdout",
          "text": [
            "['What buses connect Manipal to the Kempegowda International Airport?',\n",
            " 'What is the name of the daily bus service from Manipal to Kempegowda '\n",
            " 'International Airport?',\n",
            " 'How did Dr. T.M.A. Pai make Manipal famous?',\n",
            " 'What is the status of the Manipal Academy of Higher Education?',\n",
            " 'How has the college been ranked among the top ten private engineering '\n",
            " 'colleges in India?']\n",
            "'Set 13 : \\n'\n"
          ]
        },
        {
          "output_type": "stream",
          "name": "stderr",
          "text": [
            "100%|██████████| 5/5 [00:00<00:00, 571.57it/s]\n"
          ]
        },
        {
          "output_type": "stream",
          "name": "stdout",
          "text": [
            "['Where is Karnataka ranked?',\n",
            " 'Who founded the Manipal Pre-University College?',\n",
            " \"What is Manipal's major technology and medical research hub?\",\n",
            " 'What has sprung up since the establishment of MUTBI?',\n",
            " 'What is the name of Manipal Institute of Technology?']\n",
            "'Set 14 : \\n'\n"
          ]
        },
        {
          "output_type": "stream",
          "name": "stderr",
          "text": [
            "100%|██████████| 5/5 [00:00<00:00, 484.36it/s]\n"
          ]
        },
        {
          "output_type": "stream",
          "name": "stdout",
          "text": [
            "['What was the name of the first self-financing engineering college in the '\n",
            " 'country?',\n",
            " 'What is MIT a constituent unit of?',\n",
            " 'How many degrees does the institute award?',\n",
            " 'Where is the MIT campus located?',\n",
            " 'What type of research programs does the institute have?']\n",
            "'Set 15 : \\n'\n"
          ]
        },
        {
          "output_type": "stream",
          "name": "stderr",
          "text": [
            "100%|██████████| 5/5 [00:00<00:00, 538.63it/s]\n"
          ]
        },
        {
          "output_type": "stream",
          "name": "stdout",
          "text": [
            "['What was the name of the Institute of Eminence?',\n",
            " 'Who was Roque Fernandes?',\n",
            " 'When was the Kasturba Medical College, Manipal campus first opened?',\n",
            " 'How did the institute begin?',\n",
            " 'What was the first discipline offered at the institute?']\n",
            "'Set 16 : \\n'\n"
          ]
        },
        {
          "output_type": "stream",
          "name": "stderr",
          "text": [
            "100%|██████████| 5/5 [00:00<00:00, 803.51it/s]\n"
          ]
        },
        {
          "output_type": "stream",
          "name": "stdout",
          "text": [
            "['What were the housing facilities for outstation students?',\n",
            " 'When did the institute become affiliated with the University of Mysore?',\n",
            " 'How many more courses were added as the college expanded?',\n",
            " 'What was the name of the MIT, Manipal student chapter?',\n",
            " 'When was the Venugopala Temple built?']\n",
            "'Set 17 : \\n'\n"
          ]
        },
        {
          "output_type": "stream",
          "name": "stderr",
          "text": [
            "100%|██████████| 5/5 [00:00<00:00, 1063.19it/s]\n"
          ]
        },
        {
          "output_type": "stream",
          "name": "stdout",
          "text": [
            "['How many well-known people have visited the MIT campus?',\n",
            " 'When did the Dalai Lama visit the college?',\n",
            " 'When did Indira Gandhi visit India?',\n",
            " 'When was the Manipal Institute of Technology renamed?',\n",
            " 'When was the institute brought under the purview of Mangalore University?']\n",
            "'Set 18 : \\n'\n"
          ]
        },
        {
          "output_type": "stream",
          "name": "stderr",
          "text": [
            "100%|██████████| 5/5 [00:00<00:00, 83.34it/s]\n"
          ]
        },
        {
          "output_type": "stream",
          "name": "stdout",
          "text": [
            "['When were other branches of study introduced?',\n",
            " 'When was the floodlit basketball court at Kamath Circle inaugurated?',\n",
            " 'What happened to Manipal Institute of Technology?',\n",
            " 'What was the name of the professor who visited the college?',\n",
            " 'What happened to Pratibha Patil?']\n",
            "'Set 19 : \\n'\n"
          ]
        },
        {
          "output_type": "stream",
          "name": "stderr",
          "text": [
            "100%|██████████| 5/5 [00:00<00:00, 799.98it/s]\n"
          ]
        },
        {
          "output_type": "stream",
          "name": "stdout",
          "text": [
            "['What was the result of the construction of the Innovation Center?',\n",
            " 'What was completed during this period?',\n",
            " 'What was built anticipating the increase in intake?',\n",
            " 'What was added to aeronautical engineering and automobile engineering?',\n",
            " 'When was the Department of Architecture rechristened as the Faculty of '\n",
            " 'Architecture?']\n",
            "'Set 20 : \\n'\n"
          ]
        },
        {
          "output_type": "stream",
          "name": "stderr",
          "text": [
            "100%|██████████| 5/5 [00:00<00:00, 527.64it/s]\n"
          ]
        },
        {
          "output_type": "stream",
          "name": "stdout",
          "text": [
            "['When was an integrated course in computer science and communication '\n",
            " 'engineering added?',\n",
            " 'How much did the undergraduate student intake increase from 500 to 1,800?',\n",
            " 'How many students were in the institute as of July?',\n",
            " 'What was the name of the person who visited the institute?',\n",
            " 'What was the name of Shri Pranab Mukherjee?']\n",
            "'Set 21 : \\n'\n"
          ]
        },
        {
          "output_type": "stream",
          "name": "stderr",
          "text": [
            "100%|██████████| 5/5 [00:00<00:00, 737.76it/s]\n"
          ]
        },
        {
          "output_type": "stream",
          "name": "stdout",
          "text": [
            "['How did S.S. Rajmouli visit the institute?',\n",
            " 'What was the name of the convention held at the institute?',\n",
            " \"What was Kartikeya Rastogi's name?\",\n",
            " 'What was MIT Manipal among the two private institutes to be decreed with '\n",
            " 'Institute of Eminence?',\n",
            " 'What has happened to Kamath Circle?']\n",
            "'Set 22 : \\n'\n"
          ]
        },
        {
          "output_type": "stream",
          "name": "stderr",
          "text": [
            "100%|██████████| 5/5 [00:00<00:00, 720.55it/s]\n"
          ]
        },
        {
          "output_type": "stream",
          "name": "stdout",
          "text": [
            "['What is the capacity of the food court?',\n",
            " 'What other food courts are located near Hostel Block and Hostel Block D?',\n",
            " 'How long has MIT been using a credit-based system?',\n",
            " 'When does the odd semester begin?',\n",
            " 'How is Manipal Academy of Higher Education accredited?']\n",
            "'Set 23 : \\n'\n"
          ]
        },
        {
          "output_type": "stream",
          "name": "stderr",
          "text": [
            "100%|██████████| 5/5 [00:00<00:00, 559.72it/s]\n"
          ]
        },
        {
          "output_type": "stream",
          "name": "stdout",
          "text": [
            "['What does MIT Manipal offer?',\n",
            " 'What is the basis for admission to postgraduate programs?',\n",
            " 'What kind of programs does the institute offer?',\n",
            " 'What is the rank of Manipal Institute of Technology among engineering '\n",
            " 'colleges in India?',\n",
            " 'What is the Manipal Entrance Test?']\n",
            "'Set 24 : \\n'\n"
          ]
        },
        {
          "output_type": "stream",
          "name": "stderr",
          "text": [
            "100%|██████████| 5/5 [00:00<00:00, 1104.35it/s]\n"
          ]
        },
        {
          "output_type": "stream",
          "name": "stdout",
          "text": [
            "['How long does the exam last?',\n",
            " 'How many marks does the test have?',\n",
            " 'How many opportunities does MAHE offer for a student to write the entrance '\n",
            " 'exam?',\n",
            " 'What happened to the test format?',\n",
            " 'How many marks does each MCQ carry?']\n",
            "'Set 25 : \\n'\n"
          ]
        },
        {
          "output_type": "stream",
          "name": "stderr",
          "text": [
            "100%|██████████| 5/5 [00:00<00:00, 866.91it/s]\n"
          ]
        },
        {
          "output_type": "stream",
          "name": "stdout",
          "text": [
            "['How does the institute make budgetary provisions for the maintenance of '\n",
            " 'research equipment?',\n",
            " 'What was sanctioned to the institute?',\n",
            " 'What do MITians have access to?',\n",
            " 'What do students of the institute do as a part of their curriculum?',\n",
            " 'What research programs are being pursued in the interdisciplinary labs under '\n",
            " \"the institute's Innovation Centre?\"]\n",
            "'Set 26 : \\n'\n"
          ]
        },
        {
          "output_type": "stream",
          "name": "stderr",
          "text": [
            "100%|██████████| 5/5 [00:00<00:00, 97.91it/s]\n"
          ]
        },
        {
          "output_type": "stream",
          "name": "stdout",
          "text": [
            "['What are the oldest student organizations?',\n",
            " 'What is the apex student body of MIT Manipal?',\n",
            " 'Who is in charge of all cultural clubs of the institute?',\n",
            " 'What is the role of the Sports Secretary?',\n",
            " 'What does the Technical Secretary do?']\n",
            "'Set 27 : \\n'\n"
          ]
        },
        {
          "output_type": "stream",
          "name": "stderr",
          "text": [
            "100%|██████████| 5/5 [00:00<00:00, 392.35it/s]\n"
          ]
        },
        {
          "output_type": "stream",
          "name": "stdout",
          "text": [
            "['How many clubs and organizations are in the institute?',\n",
            " 'How are the clubs run?',\n",
            " 'What clubs have won awards at major cultural fests like Unmaad and Mood '\n",
            " 'Indigo?',\n",
            " \"What is the name of MIT's media body?\",\n",
            " 'When was it founded?']\n",
            "'Set 28 : \\n'\n"
          ]
        },
        {
          "output_type": "stream",
          "name": "stderr",
          "text": [
            "100%|██████████| 5/5 [00:00<00:00, 157.35it/s]\n"
          ]
        },
        {
          "output_type": "stream",
          "name": "stdout",
          "text": [
            "['What does the MIT Post keep a record of?',\n",
            " 'What is another name for the Photography Club, Manipal?',\n",
            " 'Who has won the GE Edison Innovation Challenge and the Schneider Electric '\n",
            " 'India Innovation Challenge?',\n",
            " 'What type of clubs does the college have?',\n",
            " 'What is the purpose of Formula Manipal?']\n",
            "'Set 29 : \\n'\n"
          ]
        },
        {
          "output_type": "stream",
          "name": "stderr",
          "text": [
            "100%|██████████| 5/5 [00:00<00:00, 833.26it/s]\n"
          ]
        },
        {
          "output_type": "stream",
          "name": "stdout",
          "text": [
            "['What was the purpose of the Ferrari Race Track at Maranello competition?',\n",
            " 'When did the team participate with the second prototype?',\n",
            " 'What is the name of ThrustMIT?',\n",
            " 'What is the goal of the rocketry team?',\n",
            " 'What is the modus operandi of ThrustMIT?']\n",
            "'Set 30 : \\n'\n"
          ]
        },
        {
          "output_type": "stream",
          "name": "stderr",
          "text": [
            "100%|██████████| 5/5 [00:00<00:00, 1086.61it/s]\n"
          ]
        },
        {
          "output_type": "stream",
          "name": "stdout",
          "text": [
            "['What is Project Manas?',\n",
            " 'What is the name of the driverless car challenge?',\n",
            " 'How many stages did the team qualify for?',\n",
            " 'What is the prototype capable of detecting and navigating around '\n",
            " 'pedestrians?',\n",
            " 'What is the aim of AeroMIT?']\n",
            "'Set 31 : \\n'\n"
          ]
        },
        {
          "output_type": "stream",
          "name": "stderr",
          "text": [
            "100%|██████████| 5/5 [00:00<00:00, 862.64it/s]\n"
          ]
        },
        {
          "output_type": "stream",
          "name": "stdout",
          "text": [
            "['What is the purpose of designing and fabricating RC and autonomous aerial '\n",
            " 'vehicles?',\n",
            " 'What was one of the most successful years for the team?',\n",
            " 'How did they secure podium positions in national competitions like '\n",
            " 'Aerophilia and Techfest?',\n",
            " 'How did the SAE Aerodesign East team rank?',\n",
            " 'What was the only team to lift the maximum possible payload?']\n",
            "'Set 32 : \\n'\n"
          ]
        },
        {
          "output_type": "stream",
          "name": "stderr",
          "text": [
            "100%|██████████| 5/5 [00:00<00:00, 99.57it/s]\n"
          ]
        },
        {
          "output_type": "stream",
          "name": "stdout",
          "text": [
            "['What is not the only goal of the team?',\n",
            " 'What is the mission of Mars Rover Manipal?',\n",
            " \"How do the Mars Society USA's Mars Rovers rank at the University Rover \"\n",
            " 'Challenge?',\n",
            " 'What is the name of the robotics competition held at the Mars Desert '\n",
            " 'Research Station?',\n",
            " 'How many festivals does MIT host each semester?']\n",
            "'Set 33 : \\n'\n"
          ]
        },
        {
          "output_type": "stream",
          "name": "stderr",
          "text": [
            "100%|██████████| 5/5 [00:00<00:00, 1032.83it/s]\n"
          ]
        },
        {
          "output_type": "stream",
          "name": "stdout",
          "text": [
            "['When is there a cultural and sports festival called \"Revels\"?',\n",
            " 'What was the official theme of the Revels festival?',\n",
            " 'What was the theme of the conference?',\n",
            " 'When is Tech Tatva held?',\n",
            " 'What type of fests are organized by students from all over India?']\n",
            "'Set 34 : \\n'\n"
          ]
        },
        {
          "output_type": "stream",
          "name": "stderr",
          "text": [
            "100%|██████████| 5/5 [00:00<00:00, 92.95it/s]\n"
          ]
        },
        {
          "output_type": "stream",
          "name": "stdout",
          "text": [
            "['Who organizes the festivities on the campus?',\n",
            " 'How is the fest handled by the students?',\n",
            " 'What happened to the director of the Manipal Institute of Technology?',\n",
            " 'What did MIT require students to do in March?',\n",
            " 'What did some students complain about when installing the software?']\n",
            "'Set 35 : \\n'\n"
          ]
        },
        {
          "output_type": "stream",
          "name": "stderr",
          "text": [
            "100%|██████████| 5/5 [00:00<00:00, 836.45it/s]\n"
          ]
        },
        {
          "output_type": "stream",
          "name": "stdout",
          "text": [
            "['What happened to the students of MIT after they were called back to campus '\n",
            " 'for the offline end-semester examinations?',\n",
            " 'Why were classes canceled on campus in March?',\n",
            " 'How many students of MIT were infected by the coronavirus?',\n",
            " 'When did MIT release a revised schedule for the upcoming months?',\n",
            " 'What was the schedule like?']\n",
            "'Set 36 : \\n'\n"
          ]
        },
        {
          "output_type": "stream",
          "name": "stderr",
          "text": [
            "100%|██████████| 3/3 [00:00<00:00, 858.49it/s]\n"
          ]
        },
        {
          "output_type": "stream",
          "name": "stdout",
          "text": [
            "['What caused outrage amongst the students?',\n",
            " 'How did the administration of MIT and MAHE handle the protests?',\n",
            " 'What happened to the end-semester examinations?']\n"
          ]
        }
      ]
    },
    {
      "cell_type": "markdown",
      "source": [
        "## Answer Extraction"
      ],
      "metadata": {
        "id": "ZxKUA8kdZ0M9"
      }
    },
    {
      "cell_type": "code",
      "source": [
        "# initialize model\n",
        "model = TransformersQG(language='en', model='lmqg/t5-base-squad-ae')"
      ],
      "metadata": {
        "id": "kKMKwYy_Z3q9"
      },
      "execution_count": null,
      "outputs": []
    },
    {
      "cell_type": "code",
      "source": [
        "# model prediction\n",
        "answer = model.generate_a(\"William Turner was an English painter who specialised in watercolour landscapes\")\n",
        "pprint(answer)"
      ],
      "metadata": {
        "colab": {
          "base_uri": "https://localhost:8080/"
        },
        "id": "3YmOnkdyZ8ce",
        "outputId": "876d7047-148c-4553-ba26-227b7bdf010b"
      },
      "execution_count": null,
      "outputs": [
        {
          "output_type": "stream",
          "name": "stderr",
          "text": [
            "100%|██████████| 1/1 [00:00<00:00, 570.73it/s]\n"
          ]
        },
        {
          "output_type": "stream",
          "name": "stdout",
          "text": [
            "['William Turner']\n"
          ]
        }
      ]
    }
  ]
}